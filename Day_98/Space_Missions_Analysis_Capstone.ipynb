{
 "cells": [
  {
   "cell_type": "code",
   "execution_count": 2,
   "metadata": {
    "_cell_guid": "b1076dfc-b9ad-4769-8c92-a6c4dae69d19",
    "_kg_hide-input": true,
    "_kg_hide-output": true,
    "_uuid": "8f2839f25d086af736a60e9eeb907d3b93b6e0e5",
    "colab": {
     "base_uri": "https://localhost:8080/"
    },
    "execution": {
     "iopub.execute_input": "2020-10-20T21:34:02.101551Z",
     "iopub.status.busy": "2020-10-20T21:34:02.101085Z",
     "iopub.status.idle": "2020-10-20T21:34:03.726868Z",
     "shell.execute_reply": "2020-10-20T21:34:03.725783Z"
    },
    "id": "xdolY0-Sa-p1",
    "outputId": "7142dedb-82e9-457d-db44-cea4e121bdfe",
    "papermill": {
     "duration": 1.665326,
     "end_time": "2020-10-20T21:34:03.726995",
     "exception": false,
     "start_time": "2020-10-20T21:34:02.061669",
     "status": "completed"
    },
    "tags": []
   },
   "outputs": [],
   "source": [
    "import numpy as np\n",
    "import pandas as pd\n",
    "import plotly.express as px\n",
    "import matplotlib.pyplot as plt\n",
    "import seaborn as sns\n",
    "\n",
    "# These might be helpful:\n",
    "import iso3166 as iso\n",
    "from datetime import datetime, timedelta"
   ]
  },
  {
   "cell_type": "markdown",
   "metadata": {
    "id": "ka_FkvXBiABo"
   },
   "source": [
    "# Introduction"
   ]
  },
  {
   "cell_type": "markdown",
   "metadata": {
    "id": "AWaMmfxXa-p0",
    "papermill": {
     "duration": 0.035434,
     "end_time": "2020-10-20T21:34:01.886225",
     "exception": false,
     "start_time": "2020-10-20T21:34:01.850791",
     "status": "completed"
    },
    "tags": []
   },
   "source": [
    "<center><img src=\"https://i.imgur.com/9hLRsjZ.jpg\" height=400></center>\n",
    "\n",
    "This dataset was scraped from [nextspaceflight.com](https://nextspaceflight.com/launches/past/?page=1) and includes all the space missions since the beginning of Space Race between the USA and the Soviet Union in 1957!"
   ]
  },
  {
   "cell_type": "markdown",
   "metadata": {
    "id": "ufzKRKS3bV0r"
   },
   "source": [
    "### Install Package with Country Codes"
   ]
  },
  {
   "cell_type": "code",
   "execution_count": 3,
   "metadata": {
    "colab": {
     "base_uri": "https://localhost:8080/"
    },
    "id": "0HxV9o6dbRUE",
    "outputId": "35464d43-d601-4b8f-81fd-6dbd400167f5"
   },
   "outputs": [
    {
     "name": "stdout",
     "output_type": "stream",
     "text": [
      "Defaulting to user installation because normal site-packages is not writeable\n",
      "Requirement already satisfied: iso3166 in /home/pinnheads/.local/lib/python3.9/site-packages (2.0.2)\n",
      "Note: you may need to restart the kernel to use updated packages.\n"
     ]
    }
   ],
   "source": [
    "%pip install iso3166"
   ]
  },
  {
   "cell_type": "markdown",
   "metadata": {
    "id": "sghkhFoLbof8"
   },
   "source": [
    "### Upgrade Plotly\n",
    "\n",
    "Run the cell below if you are working with Google Colab."
   ]
  },
  {
   "cell_type": "code",
   "execution_count": 4,
   "metadata": {
    "colab": {
     "base_uri": "https://localhost:8080/"
    },
    "id": "gQ61wy9gbmxd",
    "outputId": "99185d87-acb8-4237-c0f7-bfb18bfd4d39"
   },
   "outputs": [
    {
     "name": "stdout",
     "output_type": "stream",
     "text": [
      "Defaulting to user installation because normal site-packages is not writeable\n",
      "Requirement already satisfied: plotly in /home/pinnheads/.local/lib/python3.9/site-packages (5.3.1)\n",
      "Collecting plotly\n",
      "  Using cached plotly-5.3.1-py2.py3-none-any.whl (23.9 MB)\n",
      "  Using cached plotly-5.3.0-py2.py3-none-any.whl (22.9 MB)\n",
      "Requirement already satisfied: six in /usr/lib/python3.9/site-packages (from plotly) (1.16.0)\n",
      "Requirement already satisfied: tenacity>=6.2.0 in /home/pinnheads/.local/lib/python3.9/site-packages (from plotly) (8.0.1)\n",
      "Note: you may need to restart the kernel to use updated packages.\n"
     ]
    }
   ],
   "source": [
    "%pip install --upgrade plotly"
   ]
  },
  {
   "cell_type": "markdown",
   "metadata": {
    "id": "ErFDBihUi1jN"
   },
   "source": [
    "### Import Statements"
   ]
  },
  {
   "cell_type": "code",
   "execution_count": 5,
   "metadata": {},
   "outputs": [
    {
     "name": "stdout",
     "output_type": "stream",
     "text": [
      "Defaulting to user installation because normal site-packages is not writeable\n",
      "Requirement already satisfied: seaborn in /home/pinnheads/.local/lib/python3.9/site-packages (0.11.2)\n",
      "Requirement already satisfied: numpy>=1.15 in /home/pinnheads/.local/lib/python3.9/site-packages (from seaborn) (1.21.2)\n",
      "Requirement already satisfied: scipy>=1.0 in /home/pinnheads/.local/lib/python3.9/site-packages (from seaborn) (1.7.1)\n",
      "Requirement already satisfied: pandas>=0.23 in /home/pinnheads/.local/lib/python3.9/site-packages (from seaborn) (1.3.2)\n",
      "Requirement already satisfied: matplotlib>=2.2 in /home/pinnheads/.local/lib/python3.9/site-packages (from seaborn) (3.4.3)\n",
      "Requirement already satisfied: pillow>=6.2.0 in /home/pinnheads/.local/lib/python3.9/site-packages (from matplotlib>=2.2->seaborn) (8.3.2)\n",
      "Requirement already satisfied: python-dateutil>=2.7 in /home/pinnheads/.local/lib/python3.9/site-packages (from matplotlib>=2.2->seaborn) (2.8.2)\n",
      "Requirement already satisfied: cycler>=0.10 in /home/pinnheads/.local/lib/python3.9/site-packages (from matplotlib>=2.2->seaborn) (0.10.0)\n",
      "Requirement already satisfied: kiwisolver>=1.0.1 in /home/pinnheads/.local/lib/python3.9/site-packages (from matplotlib>=2.2->seaborn) (1.3.2)\n",
      "Requirement already satisfied: pyparsing>=2.2.1 in /usr/lib/python3.9/site-packages (from matplotlib>=2.2->seaborn) (2.4.7)\n",
      "Requirement already satisfied: six in /usr/lib/python3.9/site-packages (from cycler>=0.10->matplotlib>=2.2->seaborn) (1.16.0)\n",
      "Requirement already satisfied: pytz>=2017.3 in /home/pinnheads/.local/lib/python3.9/site-packages (from pandas>=0.23->seaborn) (2021.1)\n",
      "Note: you may need to restart the kernel to use updated packages.\n"
     ]
    }
   ],
   "source": [
    "pip install seaborn"
   ]
  },
  {
   "cell_type": "code",
   "execution_count": 6,
   "metadata": {},
   "outputs": [
    {
     "name": "stdout",
     "output_type": "stream",
     "text": [
      "Defaulting to user installation because normal site-packages is not writeable\n",
      "Requirement already satisfied: iso3166 in /home/pinnheads/.local/lib/python3.9/site-packages (2.0.2)\n",
      "Note: you may need to restart the kernel to use updated packages.\n"
     ]
    }
   ],
   "source": [
    "pip install iso3166"
   ]
  },
  {
   "cell_type": "code",
   "execution_count": 7,
   "metadata": {},
   "outputs": [
    {
     "name": "stdout",
     "output_type": "stream",
     "text": [
      "Defaulting to user installation because normal site-packages is not writeable\n",
      "Collecting country_converter\n",
      "  Downloading country_converter-0.7.3.tar.gz (49 kB)\n",
      "     |████████████████████████████████| 49 kB 1.0 MB/s             \n",
      "\u001b[?25hRequirement already satisfied: pandas>=1.0 in /home/pinnheads/.local/lib/python3.9/site-packages (from country_converter) (1.3.2)\n",
      "Requirement already satisfied: python-dateutil>=2.7.3 in /home/pinnheads/.local/lib/python3.9/site-packages (from pandas>=1.0->country_converter) (2.8.2)\n",
      "Requirement already satisfied: numpy>=1.17.3 in /home/pinnheads/.local/lib/python3.9/site-packages (from pandas>=1.0->country_converter) (1.21.2)\n",
      "Requirement already satisfied: pytz>=2017.3 in /home/pinnheads/.local/lib/python3.9/site-packages (from pandas>=1.0->country_converter) (2021.1)\n",
      "Requirement already satisfied: six>=1.5 in /usr/lib/python3.9/site-packages (from python-dateutil>=2.7.3->pandas>=1.0->country_converter) (1.16.0)\n",
      "Building wheels for collected packages: country-converter\n",
      "  Building wheel for country-converter (setup.py) ... \u001b[?25ldone\n",
      "\u001b[?25h  Created wheel for country-converter: filename=country_converter-0.7.3-py3-none-any.whl size=52304 sha256=9526d8c8dfe3749b8de914157fb0a54e55789d78f024ce9cd9a75b29dc6271d0\n",
      "  Stored in directory: /home/pinnheads/.cache/pip/wheels/11/14/ae/158c8b49cd04d6d3befe8e7b5db5488763d737d673e4f62940\n",
      "Successfully built country-converter\n",
      "Installing collected packages: country-converter\n",
      "Successfully installed country-converter-0.7.3\n",
      "Note: you may need to restart the kernel to use updated packages.\n"
     ]
    }
   ],
   "source": [
    "pip install country_converter --upgrade"
   ]
  },
  {
   "cell_type": "code",
   "execution_count": 8,
   "metadata": {},
   "outputs": [
    {
     "name": "stdout",
     "output_type": "stream",
     "text": [
      "Defaulting to user installation because normal site-packages is not writeable\n",
      "Requirement already satisfied: pandas in /home/pinnheads/.local/lib/python3.9/site-packages (1.3.2)\n",
      "Requirement already satisfied: python-dateutil>=2.7.3 in /home/pinnheads/.local/lib/python3.9/site-packages (from pandas) (2.8.2)\n",
      "Requirement already satisfied: pytz>=2017.3 in /home/pinnheads/.local/lib/python3.9/site-packages (from pandas) (2021.1)\n",
      "Requirement already satisfied: numpy>=1.17.3 in /home/pinnheads/.local/lib/python3.9/site-packages (from pandas) (1.21.2)\n",
      "Requirement already satisfied: six>=1.5 in /usr/lib/python3.9/site-packages (from python-dateutil>=2.7.3->pandas) (1.16.0)\n",
      "Note: you may need to restart the kernel to use updated packages.\n"
     ]
    }
   ],
   "source": [
    "pip install pandas"
   ]
  },
  {
   "cell_type": "markdown",
   "metadata": {
    "id": "lovGPRgKxIgo"
   },
   "source": [
    "### Notebook Presentation"
   ]
  },
  {
   "cell_type": "code",
   "execution_count": 9,
   "metadata": {
    "id": "DHEULCOjxIIm"
   },
   "outputs": [],
   "source": [
    "pd.options.display.float_format = '{:,.2f}'.format"
   ]
  },
  {
   "cell_type": "markdown",
   "metadata": {
    "id": "yaT3QbjEa-p4",
    "papermill": {
     "duration": 0.034606,
     "end_time": "2020-10-20T21:34:03.798396",
     "exception": false,
     "start_time": "2020-10-20T21:34:03.763790",
     "status": "completed"
    },
    "tags": []
   },
   "source": [
    "### Load the Data"
   ]
  },
  {
   "cell_type": "code",
   "execution_count": 10,
   "metadata": {
    "_cell_guid": "79c7e3d0-c299-4dcb-8224-4455121ee9b0",
    "_kg_hide-input": true,
    "_uuid": "d629ff2d2480ee46fbb7e2d37f6b5fab8052498a",
    "execution": {
     "iopub.execute_input": "2020-10-20T21:34:03.874195Z",
     "iopub.status.busy": "2020-10-20T21:34:03.873775Z",
     "iopub.status.idle": "2020-10-20T21:34:03.921919Z",
     "shell.execute_reply": "2020-10-20T21:34:03.921418Z"
    },
    "id": "0lDOu8aka-p4",
    "papermill": {
     "duration": 0.08876,
     "end_time": "2020-10-20T21:34:03.922028",
     "exception": false,
     "start_time": "2020-10-20T21:34:03.833268",
     "status": "completed"
    },
    "tags": []
   },
   "outputs": [],
   "source": [
    "df_data = pd.read_csv('mission_launches.csv')"
   ]
  },
  {
   "cell_type": "markdown",
   "metadata": {
    "id": "jAnMiVcVjuKB"
   },
   "source": [
    "# Preliminary Data Exploration\n",
    "\n",
    "* What is the shape of `df_data`? \n",
    "* How many rows and columns does it have?\n",
    "* What are the column names?\n",
    "* Are there any NaN values or duplicates?"
   ]
  },
  {
   "cell_type": "code",
   "execution_count": 11,
   "metadata": {},
   "outputs": [
    {
     "data": {
      "text/html": [
       "<div>\n",
       "<style scoped>\n",
       "    .dataframe tbody tr th:only-of-type {\n",
       "        vertical-align: middle;\n",
       "    }\n",
       "\n",
       "    .dataframe tbody tr th {\n",
       "        vertical-align: top;\n",
       "    }\n",
       "\n",
       "    .dataframe thead th {\n",
       "        text-align: right;\n",
       "    }\n",
       "</style>\n",
       "<table border=\"1\" class=\"dataframe\">\n",
       "  <thead>\n",
       "    <tr style=\"text-align: right;\">\n",
       "      <th></th>\n",
       "      <th>Unnamed: 0</th>\n",
       "      <th>Unnamed: 0.1</th>\n",
       "      <th>Organisation</th>\n",
       "      <th>Location</th>\n",
       "      <th>Date</th>\n",
       "      <th>Detail</th>\n",
       "      <th>Rocket_Status</th>\n",
       "      <th>Price</th>\n",
       "      <th>Mission_Status</th>\n",
       "    </tr>\n",
       "  </thead>\n",
       "  <tbody>\n",
       "    <tr>\n",
       "      <th>0</th>\n",
       "      <td>0</td>\n",
       "      <td>0</td>\n",
       "      <td>SpaceX</td>\n",
       "      <td>LC-39A, Kennedy Space Center, Florida, USA</td>\n",
       "      <td>Fri Aug 07, 2020 05:12 UTC</td>\n",
       "      <td>Falcon 9 Block 5 | Starlink V1 L9 &amp; BlackSky</td>\n",
       "      <td>StatusActive</td>\n",
       "      <td>50.0</td>\n",
       "      <td>Success</td>\n",
       "    </tr>\n",
       "    <tr>\n",
       "      <th>1</th>\n",
       "      <td>1</td>\n",
       "      <td>1</td>\n",
       "      <td>CASC</td>\n",
       "      <td>Site 9401 (SLS-2), Jiuquan Satellite Launch Ce...</td>\n",
       "      <td>Thu Aug 06, 2020 04:01 UTC</td>\n",
       "      <td>Long March 2D | Gaofen-9 04 &amp; Q-SAT</td>\n",
       "      <td>StatusActive</td>\n",
       "      <td>29.75</td>\n",
       "      <td>Success</td>\n",
       "    </tr>\n",
       "    <tr>\n",
       "      <th>2</th>\n",
       "      <td>2</td>\n",
       "      <td>2</td>\n",
       "      <td>SpaceX</td>\n",
       "      <td>Pad A, Boca Chica, Texas, USA</td>\n",
       "      <td>Tue Aug 04, 2020 23:57 UTC</td>\n",
       "      <td>Starship Prototype | 150 Meter Hop</td>\n",
       "      <td>StatusActive</td>\n",
       "      <td>NaN</td>\n",
       "      <td>Success</td>\n",
       "    </tr>\n",
       "    <tr>\n",
       "      <th>3</th>\n",
       "      <td>3</td>\n",
       "      <td>3</td>\n",
       "      <td>Roscosmos</td>\n",
       "      <td>Site 200/39, Baikonur Cosmodrome, Kazakhstan</td>\n",
       "      <td>Thu Jul 30, 2020 21:25 UTC</td>\n",
       "      <td>Proton-M/Briz-M | Ekspress-80 &amp; Ekspress-103</td>\n",
       "      <td>StatusActive</td>\n",
       "      <td>65.0</td>\n",
       "      <td>Success</td>\n",
       "    </tr>\n",
       "    <tr>\n",
       "      <th>4</th>\n",
       "      <td>4</td>\n",
       "      <td>4</td>\n",
       "      <td>ULA</td>\n",
       "      <td>SLC-41, Cape Canaveral AFS, Florida, USA</td>\n",
       "      <td>Thu Jul 30, 2020 11:50 UTC</td>\n",
       "      <td>Atlas V 541 | Perseverance</td>\n",
       "      <td>StatusActive</td>\n",
       "      <td>145.0</td>\n",
       "      <td>Success</td>\n",
       "    </tr>\n",
       "  </tbody>\n",
       "</table>\n",
       "</div>"
      ],
      "text/plain": [
       "   Unnamed: 0  Unnamed: 0.1 Organisation  \\\n",
       "0           0             0       SpaceX   \n",
       "1           1             1         CASC   \n",
       "2           2             2       SpaceX   \n",
       "3           3             3    Roscosmos   \n",
       "4           4             4          ULA   \n",
       "\n",
       "                                            Location  \\\n",
       "0         LC-39A, Kennedy Space Center, Florida, USA   \n",
       "1  Site 9401 (SLS-2), Jiuquan Satellite Launch Ce...   \n",
       "2                      Pad A, Boca Chica, Texas, USA   \n",
       "3       Site 200/39, Baikonur Cosmodrome, Kazakhstan   \n",
       "4           SLC-41, Cape Canaveral AFS, Florida, USA   \n",
       "\n",
       "                         Date                                        Detail  \\\n",
       "0  Fri Aug 07, 2020 05:12 UTC  Falcon 9 Block 5 | Starlink V1 L9 & BlackSky   \n",
       "1  Thu Aug 06, 2020 04:01 UTC           Long March 2D | Gaofen-9 04 & Q-SAT   \n",
       "2  Tue Aug 04, 2020 23:57 UTC            Starship Prototype | 150 Meter Hop   \n",
       "3  Thu Jul 30, 2020 21:25 UTC  Proton-M/Briz-M | Ekspress-80 & Ekspress-103   \n",
       "4  Thu Jul 30, 2020 11:50 UTC                    Atlas V 541 | Perseverance   \n",
       "\n",
       "  Rocket_Status  Price Mission_Status  \n",
       "0  StatusActive   50.0        Success  \n",
       "1  StatusActive  29.75        Success  \n",
       "2  StatusActive    NaN        Success  \n",
       "3  StatusActive   65.0        Success  \n",
       "4  StatusActive  145.0        Success  "
      ]
     },
     "execution_count": 11,
     "metadata": {},
     "output_type": "execute_result"
    }
   ],
   "source": [
    "df_data.head()"
   ]
  },
  {
   "cell_type": "code",
   "execution_count": 12,
   "metadata": {
    "id": "0tIuYcYNlPFQ"
   },
   "outputs": [
    {
     "name": "stdout",
     "output_type": "stream",
     "text": [
      "The shape of the data is: (4324, 9)\n"
     ]
    }
   ],
   "source": [
    "print(\"The shape of the data is:\",df_data.shape) # Gives shape of data"
   ]
  },
  {
   "cell_type": "code",
   "execution_count": 13,
   "metadata": {},
   "outputs": [
    {
     "name": "stdout",
     "output_type": "stream",
     "text": [
      "There are 4324 rows and 9 columns in this data.\n"
     ]
    }
   ],
   "source": [
    "count_row = df_data.shape[0]  # Gives number of rows\n",
    "count_col = df_data.shape[1]  # Gives number of columns\n",
    "print(\"There are\",count_row, \"rows and\",count_col, \"columns in this data.\")"
   ]
  },
  {
   "cell_type": "code",
   "execution_count": 14,
   "metadata": {
    "id": "0dw2hd9UlPmP"
   },
   "outputs": [
    {
     "name": "stdout",
     "output_type": "stream",
     "text": [
      "The column names are as follows: Index(['Unnamed: 0', 'Unnamed: 0.1', 'Organisation', 'Location', 'Date',\n",
      "       'Detail', 'Rocket_Status', 'Price', 'Mission_Status'],\n",
      "      dtype='object')\n"
     ]
    }
   ],
   "source": [
    "print(\"The column names are as follows:\",df_data.columns)"
   ]
  },
  {
   "cell_type": "code",
   "execution_count": 15,
   "metadata": {
    "id": "wWQvnJb0k2Ig"
   },
   "outputs": [
    {
     "data": {
      "text/html": [
       "<div>\n",
       "<style scoped>\n",
       "    .dataframe tbody tr th:only-of-type {\n",
       "        vertical-align: middle;\n",
       "    }\n",
       "\n",
       "    .dataframe tbody tr th {\n",
       "        vertical-align: top;\n",
       "    }\n",
       "\n",
       "    .dataframe thead th {\n",
       "        text-align: right;\n",
       "    }\n",
       "</style>\n",
       "<table border=\"1\" class=\"dataframe\">\n",
       "  <thead>\n",
       "    <tr style=\"text-align: right;\">\n",
       "      <th></th>\n",
       "      <th>Unnamed: 0</th>\n",
       "      <th>Unnamed: 0.1</th>\n",
       "      <th>Organisation</th>\n",
       "      <th>Location</th>\n",
       "      <th>Date</th>\n",
       "      <th>Detail</th>\n",
       "      <th>Rocket_Status</th>\n",
       "      <th>Price</th>\n",
       "      <th>Mission_Status</th>\n",
       "    </tr>\n",
       "  </thead>\n",
       "  <tbody>\n",
       "    <tr>\n",
       "      <th>0</th>\n",
       "      <td>False</td>\n",
       "      <td>False</td>\n",
       "      <td>False</td>\n",
       "      <td>False</td>\n",
       "      <td>False</td>\n",
       "      <td>False</td>\n",
       "      <td>False</td>\n",
       "      <td>False</td>\n",
       "      <td>False</td>\n",
       "    </tr>\n",
       "    <tr>\n",
       "      <th>1</th>\n",
       "      <td>False</td>\n",
       "      <td>False</td>\n",
       "      <td>False</td>\n",
       "      <td>False</td>\n",
       "      <td>False</td>\n",
       "      <td>False</td>\n",
       "      <td>False</td>\n",
       "      <td>False</td>\n",
       "      <td>False</td>\n",
       "    </tr>\n",
       "    <tr>\n",
       "      <th>2</th>\n",
       "      <td>False</td>\n",
       "      <td>False</td>\n",
       "      <td>False</td>\n",
       "      <td>False</td>\n",
       "      <td>False</td>\n",
       "      <td>False</td>\n",
       "      <td>False</td>\n",
       "      <td>True</td>\n",
       "      <td>False</td>\n",
       "    </tr>\n",
       "    <tr>\n",
       "      <th>3</th>\n",
       "      <td>False</td>\n",
       "      <td>False</td>\n",
       "      <td>False</td>\n",
       "      <td>False</td>\n",
       "      <td>False</td>\n",
       "      <td>False</td>\n",
       "      <td>False</td>\n",
       "      <td>False</td>\n",
       "      <td>False</td>\n",
       "    </tr>\n",
       "    <tr>\n",
       "      <th>4</th>\n",
       "      <td>False</td>\n",
       "      <td>False</td>\n",
       "      <td>False</td>\n",
       "      <td>False</td>\n",
       "      <td>False</td>\n",
       "      <td>False</td>\n",
       "      <td>False</td>\n",
       "      <td>False</td>\n",
       "      <td>False</td>\n",
       "    </tr>\n",
       "    <tr>\n",
       "      <th>...</th>\n",
       "      <td>...</td>\n",
       "      <td>...</td>\n",
       "      <td>...</td>\n",
       "      <td>...</td>\n",
       "      <td>...</td>\n",
       "      <td>...</td>\n",
       "      <td>...</td>\n",
       "      <td>...</td>\n",
       "      <td>...</td>\n",
       "    </tr>\n",
       "    <tr>\n",
       "      <th>4319</th>\n",
       "      <td>False</td>\n",
       "      <td>False</td>\n",
       "      <td>False</td>\n",
       "      <td>False</td>\n",
       "      <td>False</td>\n",
       "      <td>False</td>\n",
       "      <td>False</td>\n",
       "      <td>True</td>\n",
       "      <td>False</td>\n",
       "    </tr>\n",
       "    <tr>\n",
       "      <th>4320</th>\n",
       "      <td>False</td>\n",
       "      <td>False</td>\n",
       "      <td>False</td>\n",
       "      <td>False</td>\n",
       "      <td>False</td>\n",
       "      <td>False</td>\n",
       "      <td>False</td>\n",
       "      <td>True</td>\n",
       "      <td>False</td>\n",
       "    </tr>\n",
       "    <tr>\n",
       "      <th>4321</th>\n",
       "      <td>False</td>\n",
       "      <td>False</td>\n",
       "      <td>False</td>\n",
       "      <td>False</td>\n",
       "      <td>False</td>\n",
       "      <td>False</td>\n",
       "      <td>False</td>\n",
       "      <td>True</td>\n",
       "      <td>False</td>\n",
       "    </tr>\n",
       "    <tr>\n",
       "      <th>4322</th>\n",
       "      <td>False</td>\n",
       "      <td>False</td>\n",
       "      <td>False</td>\n",
       "      <td>False</td>\n",
       "      <td>False</td>\n",
       "      <td>False</td>\n",
       "      <td>False</td>\n",
       "      <td>True</td>\n",
       "      <td>False</td>\n",
       "    </tr>\n",
       "    <tr>\n",
       "      <th>4323</th>\n",
       "      <td>False</td>\n",
       "      <td>False</td>\n",
       "      <td>False</td>\n",
       "      <td>False</td>\n",
       "      <td>False</td>\n",
       "      <td>False</td>\n",
       "      <td>False</td>\n",
       "      <td>True</td>\n",
       "      <td>False</td>\n",
       "    </tr>\n",
       "  </tbody>\n",
       "</table>\n",
       "<p>4324 rows × 9 columns</p>\n",
       "</div>"
      ],
      "text/plain": [
       "      Unnamed: 0  Unnamed: 0.1  Organisation  Location   Date  Detail  \\\n",
       "0          False         False         False     False  False   False   \n",
       "1          False         False         False     False  False   False   \n",
       "2          False         False         False     False  False   False   \n",
       "3          False         False         False     False  False   False   \n",
       "4          False         False         False     False  False   False   \n",
       "...          ...           ...           ...       ...    ...     ...   \n",
       "4319       False         False         False     False  False   False   \n",
       "4320       False         False         False     False  False   False   \n",
       "4321       False         False         False     False  False   False   \n",
       "4322       False         False         False     False  False   False   \n",
       "4323       False         False         False     False  False   False   \n",
       "\n",
       "      Rocket_Status  Price  Mission_Status  \n",
       "0             False  False           False  \n",
       "1             False  False           False  \n",
       "2             False   True           False  \n",
       "3             False  False           False  \n",
       "4             False  False           False  \n",
       "...             ...    ...             ...  \n",
       "4319          False   True           False  \n",
       "4320          False   True           False  \n",
       "4321          False   True           False  \n",
       "4322          False   True           False  \n",
       "4323          False   True           False  \n",
       "\n",
       "[4324 rows x 9 columns]"
      ]
     },
     "execution_count": 15,
     "metadata": {},
     "output_type": "execute_result"
    }
   ],
   "source": [
    "df_data.isna()"
   ]
  },
  {
   "cell_type": "markdown",
   "metadata": {
    "id": "KUN30y6ja-p9",
    "papermill": {
     "duration": 0.05406,
     "end_time": "2020-10-20T21:34:04.149973",
     "exception": false,
     "start_time": "2020-10-20T21:34:04.095913",
     "status": "completed"
    },
    "tags": []
   },
   "source": [
    "## Data Cleaning - Check for Missing Values and Duplicates\n",
    "\n",
    "Consider removing columns containing junk data. "
   ]
  },
  {
   "cell_type": "code",
   "execution_count": 16,
   "metadata": {},
   "outputs": [],
   "source": [
    "clean_df = df_data.dropna()"
   ]
  },
  {
   "cell_type": "code",
   "execution_count": 17,
   "metadata": {
    "id": "SfxVooCYk2As"
   },
   "outputs": [
    {
     "data": {
      "text/html": [
       "<div>\n",
       "<style scoped>\n",
       "    .dataframe tbody tr th:only-of-type {\n",
       "        vertical-align: middle;\n",
       "    }\n",
       "\n",
       "    .dataframe tbody tr th {\n",
       "        vertical-align: top;\n",
       "    }\n",
       "\n",
       "    .dataframe thead th {\n",
       "        text-align: right;\n",
       "    }\n",
       "</style>\n",
       "<table border=\"1\" class=\"dataframe\">\n",
       "  <thead>\n",
       "    <tr style=\"text-align: right;\">\n",
       "      <th></th>\n",
       "      <th>Organisation</th>\n",
       "      <th>Location</th>\n",
       "      <th>Date</th>\n",
       "      <th>Detail</th>\n",
       "      <th>Rocket_Status</th>\n",
       "      <th>Price</th>\n",
       "      <th>Mission_Status</th>\n",
       "    </tr>\n",
       "  </thead>\n",
       "  <tbody>\n",
       "    <tr>\n",
       "      <th>0</th>\n",
       "      <td>SpaceX</td>\n",
       "      <td>LC-39A, Kennedy Space Center, Florida, USA</td>\n",
       "      <td>Fri Aug 07, 2020 05:12 UTC</td>\n",
       "      <td>Falcon 9 Block 5 | Starlink V1 L9 &amp; BlackSky</td>\n",
       "      <td>StatusActive</td>\n",
       "      <td>50.0</td>\n",
       "      <td>Success</td>\n",
       "    </tr>\n",
       "    <tr>\n",
       "      <th>1</th>\n",
       "      <td>CASC</td>\n",
       "      <td>Site 9401 (SLS-2), Jiuquan Satellite Launch Ce...</td>\n",
       "      <td>Thu Aug 06, 2020 04:01 UTC</td>\n",
       "      <td>Long March 2D | Gaofen-9 04 &amp; Q-SAT</td>\n",
       "      <td>StatusActive</td>\n",
       "      <td>29.75</td>\n",
       "      <td>Success</td>\n",
       "    </tr>\n",
       "    <tr>\n",
       "      <th>2</th>\n",
       "      <td>SpaceX</td>\n",
       "      <td>Pad A, Boca Chica, Texas, USA</td>\n",
       "      <td>Tue Aug 04, 2020 23:57 UTC</td>\n",
       "      <td>Starship Prototype | 150 Meter Hop</td>\n",
       "      <td>StatusActive</td>\n",
       "      <td>NaN</td>\n",
       "      <td>Success</td>\n",
       "    </tr>\n",
       "    <tr>\n",
       "      <th>3</th>\n",
       "      <td>Roscosmos</td>\n",
       "      <td>Site 200/39, Baikonur Cosmodrome, Kazakhstan</td>\n",
       "      <td>Thu Jul 30, 2020 21:25 UTC</td>\n",
       "      <td>Proton-M/Briz-M | Ekspress-80 &amp; Ekspress-103</td>\n",
       "      <td>StatusActive</td>\n",
       "      <td>65.0</td>\n",
       "      <td>Success</td>\n",
       "    </tr>\n",
       "    <tr>\n",
       "      <th>4</th>\n",
       "      <td>ULA</td>\n",
       "      <td>SLC-41, Cape Canaveral AFS, Florida, USA</td>\n",
       "      <td>Thu Jul 30, 2020 11:50 UTC</td>\n",
       "      <td>Atlas V 541 | Perseverance</td>\n",
       "      <td>StatusActive</td>\n",
       "      <td>145.0</td>\n",
       "      <td>Success</td>\n",
       "    </tr>\n",
       "  </tbody>\n",
       "</table>\n",
       "</div>"
      ],
      "text/plain": [
       "  Organisation                                           Location  \\\n",
       "0       SpaceX         LC-39A, Kennedy Space Center, Florida, USA   \n",
       "1         CASC  Site 9401 (SLS-2), Jiuquan Satellite Launch Ce...   \n",
       "2       SpaceX                      Pad A, Boca Chica, Texas, USA   \n",
       "3    Roscosmos       Site 200/39, Baikonur Cosmodrome, Kazakhstan   \n",
       "4          ULA           SLC-41, Cape Canaveral AFS, Florida, USA   \n",
       "\n",
       "                         Date                                        Detail  \\\n",
       "0  Fri Aug 07, 2020 05:12 UTC  Falcon 9 Block 5 | Starlink V1 L9 & BlackSky   \n",
       "1  Thu Aug 06, 2020 04:01 UTC           Long March 2D | Gaofen-9 04 & Q-SAT   \n",
       "2  Tue Aug 04, 2020 23:57 UTC            Starship Prototype | 150 Meter Hop   \n",
       "3  Thu Jul 30, 2020 21:25 UTC  Proton-M/Briz-M | Ekspress-80 & Ekspress-103   \n",
       "4  Thu Jul 30, 2020 11:50 UTC                    Atlas V 541 | Perseverance   \n",
       "\n",
       "  Rocket_Status  Price Mission_Status  \n",
       "0  StatusActive   50.0        Success  \n",
       "1  StatusActive  29.75        Success  \n",
       "2  StatusActive    NaN        Success  \n",
       "3  StatusActive   65.0        Success  \n",
       "4  StatusActive  145.0        Success  "
      ]
     },
     "execution_count": 17,
     "metadata": {},
     "output_type": "execute_result"
    }
   ],
   "source": [
    "df_data.drop(columns=['Unnamed: 0', 'Unnamed: 0.1'], inplace=True)\n",
    "df_data.head()"
   ]
  },
  {
   "cell_type": "markdown",
   "metadata": {
    "id": "QHon_T5sa-p_",
    "papermill": {
     "duration": 0.036712,
     "end_time": "2020-10-20T21:34:05.227032",
     "exception": false,
     "start_time": "2020-10-20T21:34:05.190320",
     "status": "completed"
    },
    "tags": []
   },
   "source": [
    "## Descriptive Statistics"
   ]
  },
  {
   "cell_type": "code",
   "execution_count": 18,
   "metadata": {
    "id": "Fh1-libjkJIK"
   },
   "outputs": [
    {
     "data": {
      "text/html": [
       "<div>\n",
       "<style scoped>\n",
       "    .dataframe tbody tr th:only-of-type {\n",
       "        vertical-align: middle;\n",
       "    }\n",
       "\n",
       "    .dataframe tbody tr th {\n",
       "        vertical-align: top;\n",
       "    }\n",
       "\n",
       "    .dataframe thead th {\n",
       "        text-align: right;\n",
       "    }\n",
       "</style>\n",
       "<table border=\"1\" class=\"dataframe\">\n",
       "  <thead>\n",
       "    <tr style=\"text-align: right;\">\n",
       "      <th></th>\n",
       "      <th>Organisation</th>\n",
       "      <th>Location</th>\n",
       "      <th>Date</th>\n",
       "      <th>Detail</th>\n",
       "      <th>Rocket_Status</th>\n",
       "      <th>Price</th>\n",
       "      <th>Mission_Status</th>\n",
       "    </tr>\n",
       "  </thead>\n",
       "  <tbody>\n",
       "    <tr>\n",
       "      <th>count</th>\n",
       "      <td>4324</td>\n",
       "      <td>4324</td>\n",
       "      <td>4324</td>\n",
       "      <td>4324</td>\n",
       "      <td>4324</td>\n",
       "      <td>964</td>\n",
       "      <td>4324</td>\n",
       "    </tr>\n",
       "    <tr>\n",
       "      <th>unique</th>\n",
       "      <td>56</td>\n",
       "      <td>137</td>\n",
       "      <td>4319</td>\n",
       "      <td>4278</td>\n",
       "      <td>2</td>\n",
       "      <td>56</td>\n",
       "      <td>4</td>\n",
       "    </tr>\n",
       "    <tr>\n",
       "      <th>top</th>\n",
       "      <td>RVSN USSR</td>\n",
       "      <td>Site 31/6, Baikonur Cosmodrome, Kazakhstan</td>\n",
       "      <td>Wed Nov 05, 2008 00:15 UTC</td>\n",
       "      <td>Cosmos-3MRB (65MRB) | BOR-5 Shuttle</td>\n",
       "      <td>StatusRetired</td>\n",
       "      <td>450.0</td>\n",
       "      <td>Success</td>\n",
       "    </tr>\n",
       "    <tr>\n",
       "      <th>freq</th>\n",
       "      <td>1777</td>\n",
       "      <td>235</td>\n",
       "      <td>2</td>\n",
       "      <td>6</td>\n",
       "      <td>3534</td>\n",
       "      <td>136</td>\n",
       "      <td>3879</td>\n",
       "    </tr>\n",
       "  </tbody>\n",
       "</table>\n",
       "</div>"
      ],
      "text/plain": [
       "       Organisation                                    Location  \\\n",
       "count          4324                                        4324   \n",
       "unique           56                                         137   \n",
       "top       RVSN USSR  Site 31/6, Baikonur Cosmodrome, Kazakhstan   \n",
       "freq           1777                                         235   \n",
       "\n",
       "                              Date                               Detail  \\\n",
       "count                         4324                                 4324   \n",
       "unique                        4319                                 4278   \n",
       "top     Wed Nov 05, 2008 00:15 UTC  Cosmos-3MRB (65MRB) | BOR-5 Shuttle   \n",
       "freq                             2                                    6   \n",
       "\n",
       "        Rocket_Status  Price Mission_Status  \n",
       "count            4324    964           4324  \n",
       "unique              2     56              4  \n",
       "top     StatusRetired  450.0        Success  \n",
       "freq             3534    136           3879  "
      ]
     },
     "execution_count": 18,
     "metadata": {},
     "output_type": "execute_result"
    }
   ],
   "source": [
    "df_data.describe()"
   ]
  },
  {
   "cell_type": "code",
   "execution_count": 19,
   "metadata": {
    "id": "dGZa5HdbkJBT"
   },
   "outputs": [
    {
     "data": {
      "text/plain": [
       "count     964.00\n",
       "mean      153.79\n",
       "std       288.45\n",
       "min         5.30\n",
       "25%        40.00\n",
       "50%        62.00\n",
       "75%       164.00\n",
       "max     5,000.00\n",
       "Name: Price, dtype: float64"
      ]
     },
     "execution_count": 19,
     "metadata": {},
     "output_type": "execute_result"
    }
   ],
   "source": [
    "df_data[df_data[\"Price\"].notna()][\"Price\"].str.replace(',', '').astype(float).describe()"
   ]
  },
  {
   "cell_type": "markdown",
   "metadata": {
    "id": "cgCjcpeUkKPW"
   },
   "source": [
    "# Number of Launches per Company\n",
    "\n",
    "Create a chart that shows the number of space mission launches by organisation."
   ]
  },
  {
   "cell_type": "code",
   "execution_count": 20,
   "metadata": {
    "id": "rxvcIrtskxYB"
   },
   "outputs": [
    {
     "data": {
      "text/plain": [
       "<AxesSubplot:>"
      ]
     },
     "execution_count": 20,
     "metadata": {},
     "output_type": "execute_result"
    },
    {
     "data": {
      "image/png": "[encoded data removed]",
      "text/plain": [
       "<Figure size 432x288 with 1 Axes>"
      ]
     },
     "metadata": {
      "needs_background": "light"
     },
     "output_type": "display_data"
    }
   ],
   "source": [
    "df_data[\"Organisation\"].value_counts().plot()"
   ]
  },
  {
   "cell_type": "markdown",
   "metadata": {
    "id": "7Gwteht2kR_h"
   },
   "source": [
    "# Number of Active versus Retired Rockets\n",
    "\n",
    "How many rockets are active compared to those that are decomissioned? "
   ]
  },
  {
   "cell_type": "code",
   "execution_count": 21,
   "metadata": {
    "id": "SxmOWS9cmTq6"
   },
   "outputs": [
    {
     "data": {
      "text/plain": [
       "StatusRetired    3534\n",
       "StatusActive      790\n",
       "Name: Rocket_Status, dtype: int64"
      ]
     },
     "execution_count": 21,
     "metadata": {},
     "output_type": "execute_result"
    }
   ],
   "source": [
    "df_data[\"Rocket_Status\"].value_counts()"
   ]
  },
  {
   "cell_type": "code",
   "execution_count": 22,
   "metadata": {
    "id": "ydj0-OZ6mToH"
   },
   "outputs": [
    {
     "data": {
      "text/plain": [
       "<AxesSubplot:>"
      ]
     },
     "execution_count": 22,
     "metadata": {},
     "output_type": "execute_result"
    },
    {
     "data": {
      "image/png": "[encoded data removed]",
      "text/plain": [
       "<Figure size 432x288 with 1 Axes>"
      ]
     },
     "metadata": {
      "needs_background": "light"
     },
     "output_type": "display_data"
    }
   ],
   "source": [
    "df_data[\"Rocket_Status\"].value_counts().sort_values().plot(kind=\"barh\")"
   ]
  },
  {
   "cell_type": "markdown",
   "metadata": {
    "id": "y9WtP5xWkYkp"
   },
   "source": [
    "# Distribution of Mission Status\n",
    "\n",
    "How many missions were successful?\n",
    "How many missions failed?"
   ]
  },
  {
   "cell_type": "code",
   "execution_count": 23,
   "metadata": {
    "id": "83kY1alqmUhb"
   },
   "outputs": [
    {
     "data": {
      "text/plain": [
       "Success              3879\n",
       "Failure               339\n",
       "Partial Failure       102\n",
       "Prelaunch Failure       4\n",
       "Name: Mission_Status, dtype: int64"
      ]
     },
     "execution_count": 23,
     "metadata": {},
     "output_type": "execute_result"
    }
   ],
   "source": [
    "df_data[\"Mission_Status\"].value_counts()"
   ]
  },
  {
   "cell_type": "code",
   "execution_count": 24,
   "metadata": {
    "id": "bdmXcaopmUeZ"
   },
   "outputs": [
    {
     "data": {
      "text/html": [
       "<div>\n",
       "<style scoped>\n",
       "    .dataframe tbody tr th:only-of-type {\n",
       "        vertical-align: middle;\n",
       "    }\n",
       "\n",
       "    .dataframe tbody tr th {\n",
       "        vertical-align: top;\n",
       "    }\n",
       "\n",
       "    .dataframe thead th {\n",
       "        text-align: right;\n",
       "    }\n",
       "</style>\n",
       "<table border=\"1\" class=\"dataframe\">\n",
       "  <thead>\n",
       "    <tr style=\"text-align: right;\">\n",
       "      <th></th>\n",
       "      <th>Mission_Status</th>\n",
       "    </tr>\n",
       "    <tr>\n",
       "      <th>Mission_Status</th>\n",
       "      <th></th>\n",
       "    </tr>\n",
       "  </thead>\n",
       "  <tbody>\n",
       "    <tr>\n",
       "      <th>Failure</th>\n",
       "      <td>339</td>\n",
       "    </tr>\n",
       "    <tr>\n",
       "      <th>Partial Failure</th>\n",
       "      <td>102</td>\n",
       "    </tr>\n",
       "    <tr>\n",
       "      <th>Prelaunch Failure</th>\n",
       "      <td>4</td>\n",
       "    </tr>\n",
       "    <tr>\n",
       "      <th>Success</th>\n",
       "      <td>3879</td>\n",
       "    </tr>\n",
       "  </tbody>\n",
       "</table>\n",
       "</div>"
      ],
      "text/plain": [
       "                   Mission_Status\n",
       "Mission_Status                   \n",
       "Failure                       339\n",
       "Partial Failure               102\n",
       "Prelaunch Failure               4\n",
       "Success                      3879"
      ]
     },
     "execution_count": 24,
     "metadata": {},
     "output_type": "execute_result"
    }
   ],
   "source": [
    "df_data.groupby(\"Mission_Status\").agg({\"Mission_Status\":pd.Series.count})"
   ]
  },
  {
   "cell_type": "markdown",
   "metadata": {
    "id": "jgTCihuoa-qH",
    "papermill": {
     "duration": 0.03854,
     "end_time": "2020-10-20T21:34:05.968626",
     "exception": false,
     "start_time": "2020-10-20T21:34:05.930086",
     "status": "completed"
    },
    "tags": []
   },
   "source": [
    "# How Expensive are the Launches? \n",
    "\n",
    "Create a histogram and visualise the distribution. The price column is given in USD millions (careful of missing values). "
   ]
  },
  {
   "cell_type": "code",
   "execution_count": 25,
   "metadata": {
    "id": "PLOMhzZFnSCO",
    "scrolled": true
   },
   "outputs": [
    {
     "data": {
      "application/vnd.plotly.v1+json": {
       "config": {
        "plotlyServerURL": "https://plot.ly"
       },
       "data": [
        {
         "alignmentgroup": "True",
         "bingroup": "x",
         "hovertemplate": "Price=%{x}<br>count=%{y}<extra></extra>",
         "legendgroup": "",
         "marker": {
          "color": "#636efa",
          "pattern": {
           "shape": ""
          }
         },
         "name": "",
         "nbinsx": 10,
         "offsetgroup": "",
         "orientation": "v",
         "showlegend": false,
         "type": "histogram",
         "x": [
          null,
          null,
          null,
          "12.0",
          "65.0",
          "65.0",
          "65.0",
          "65.0",
          "65.0",
          "48.5",
          "48.5",
          "48.5",
          "48.5",
          "48.5",
          "48.5",
          "48.5",
          "48.5",
          "48.5",
          "41.8",
          "41.8",
          "41.8",
          "41.8",
          "41.8",
          "41.8",
          "41.8",
          "41.8",
          "41.8",
          "41.8",
          "41.8",
          "41.8",
          "41.8",
          "41.8",
          "41.8",
          "41.8",
          "41.8",
          "41.8",
          "35.0",
          null,
          null,
          null,
          null,
          null,
          null,
          null,
          null,
          null,
          null,
          null,
          null,
          null,
          null,
          null,
          null,
          null,
          null,
          null,
          null,
          null,
          null,
          null,
          null,
          null,
          null,
          null,
          null,
          null,
          null,
          null,
          null,
          null,
          null,
          null,
          null,
          null,
          null,
          null,
          null,
          null,
          null,
          null,
          null,
          null,
          null,
          null,
          null,
          null,
          null,
          null,
          null,
          null,
          null,
          null,
          null,
          null,
          null,
          null,
          null,
          null,
          null,
          null,
          null,
          null,
          null,
          null,
          null,
          null,
          null,
          null,
          null,
          null,
          null,
          null,
          null,
          null,
          null,
          null,
          null,
          null,
          null,
          null,
          null,
          null,
          null,
          null,
          null,
          null,
          null,
          null,
          null,
          null,
          null,
          null,
          null,
          null,
          null,
          null,
          null,
          null,
          null,
          null,
          null,
          null,
          null,
          null,
          null,
          null,
          null,
          null,
          null,
          null,
          null,
          null,
          null,
          null,
          null,
          null,
          null,
          null,
          null,
          null,
          null,
          null,
          null,
          null,
          null,
          null,
          null,
          null,
          null,
          null,
          null,
          null,
          null,
          null,
          null,
          null,
          null,
          null,
          null,
          null,
          null,
          null,
          null,
          null,
          null,
          null,
          null,
          null,
          null,
          null,
          null,
          null,
          null,
          null,
          null,
          null,
          null,
          null,
          null,
          null,
          null,
          null,
          null,
          null,
          null,
          null,
          null,
          null,
          null,
          null,
          null,
          null,
          null,
          null,
          null,
          null,
          null,
          null,
          null,
          null,
          null,
          null,
          null,
          null,
          null,
          null,
          null,
          "63.23",
          "63.23",
          "63.23",
          "63.23",
          "59.0",
          "59.0",
          "59.0",
          "59.0",
          "59.0",
          "59.0",
          "59.0",
          "59.0",
          "59.0",
          "59.0",
          "59.0",
          "59.0",
          "59.0",
          "59.0",
          "59.0",
          "59.0",
          "59.0",
          "59.0",
          "59.0",
          "59.0",
          "59.0",
          "59.0",
          null,
          null,
          null,
          null,
          null,
          null,
          null,
          null,
          null,
          null,
          null,
          null,
          null,
          null,
          null,
          null,
          null,
          null,
          null,
          null,
          null,
          null,
          null,
          null,
          null,
          null,
          null,
          null,
          null,
          null,
          null,
          null,
          null,
          null,
          null,
          null,
          null,
          null,
          null,
          null,
          null,
          null,
          null,
          null,
          null,
          null,
          null,
          null,
          null,
          null,
          null,
          null,
          null,
          null,
          null,
          null,
          null,
          null,
          null,
          null,
          null,
          null,
          null,
          null,
          null,
          null,
          null,
          null,
          null,
          null,
          null,
          null,
          null,
          null,
          null,
          null,
          null,
          null,
          null,
          null,
          null,
          null,
          null,
          null,
          null,
          null,
          null,
          null,
          null,
          null,
          null,
          null,
          null,
          null,
          null,
          null,
          null,
          null,
          null,
          null,
          null,
          null,
          null,
          null,
          null,
          null,
          null,
          null,
          null,
          null,
          null,
          null,
          null,
          null,
          null,
          null,
          null,
          null,
          null,
          null,
          null,
          null,
          null,
          null,
          null,
          null,
          null,
          null,
          null,
          null,
          null,
          null,
          null,
          null,
          null,
          "350.0",
          "350.0",
          "350.0",
          "350.0",
          "350.0",
          "350.0",
          "350.0",
          "350.0",
          "350.0",
          "350.0",
          "164.0",
          "164.0",
          "164.0",
          "164.0",
          "164.0",
          "164.0",
          "164.0",
          "164.0",
          "164.0",
          "164.0",
          "164.0",
          "164.0",
          "153.0",
          "153.0",
          "153.0",
          "153.0",
          "153.0",
          "153.0",
          "153.0",
          "153.0",
          "153.0",
          "153.0",
          "145.0",
          "145.0",
          "145.0",
          "145.0",
          "145.0",
          "145.0",
          "145.0",
          "140.0",
          "140.0",
          "140.0",
          "130.0",
          "130.0",
          "123.0",
          "123.0",
          "123.0",
          "123.0",
          "123.0",
          "123.0",
          "123.0",
          "123.0",
          "120.0",
          "120.0",
          "120.0",
          "120.0",
          "120.0",
          "120.0",
          "120.0",
          "115.0",
          "115.0",
          "115.0",
          "115.0",
          "115.0",
          "109.0",
          "109.0",
          "109.0",
          "109.0",
          "109.0",
          "109.0",
          "109.0",
          "109.0",
          "109.0",
          "109.0",
          "109.0",
          "109.0",
          "109.0",
          "109.0",
          "109.0",
          "109.0",
          "109.0",
          "109.0",
          "109.0",
          "109.0",
          "109.0",
          "109.0",
          "109.0",
          "109.0",
          "109.0",
          "109.0",
          "109.0",
          "109.0",
          "109.0",
          "109.0",
          "109.0",
          "109.0",
          "109.0",
          "109.0",
          null,
          null,
          null,
          null,
          null,
          null,
          null,
          null,
          null,
          null,
          null,
          null,
          null,
          null,
          null,
          null,
          null,
          null,
          null,
          null,
          null,
          null,
          null,
          null,
          null,
          null,
          null,
          null,
          null,
          null,
          null,
          null,
          null,
          null,
          null,
          null,
          null,
          null,
          null,
          null,
          null,
          null,
          null,
          "90.0",
          "90.0",
          "90.0",
          "7.0",
          "7.0",
          "7.0",
          "7.0",
          "7.0",
          "62.0",
          "62.0",
          "62.0",
          "62.0",
          "62.0",
          "62.0",
          "62.0",
          "62.0",
          "62.0",
          "62.0",
          "62.0",
          "62.0",
          "62.0",
          "62.0",
          "62.0",
          "62.0",
          "62.0",
          "62.0",
          "62.0",
          "62.0",
          "62.0",
          "62.0",
          "62.0",
          "62.0",
          "62.0",
          "62.0",
          "62.0",
          "62.0",
          "62.0",
          "62.0",
          "62.0",
          "62.0",
          "62.0",
          "62.0",
          "62.0",
          "62.0",
          "62.0",
          "59.5",
          "59.5",
          "59.5",
          "59.5",
          "59.5",
          "56.5",
          "56.5",
          "56.5",
          "56.5",
          "56.5",
          "56.5",
          "56.5",
          "56.5",
          "56.5",
          "56.5",
          "56.5",
          "56.5",
          "56.5",
          "56.5",
          "56.5",
          "50.0",
          "50.0",
          "50.0",
          "50.0",
          "50.0",
          "50.0",
          "50.0",
          "50.0",
          "50.0",
          "50.0",
          "50.0",
          "50.0",
          "50.0",
          "50.0",
          "50.0",
          "50.0",
          "50.0",
          "50.0",
          "50.0",
          "50.0",
          "50.0",
          "50.0",
          "50.0",
          "50.0",
          "50.0",
          "50.0",
          "50.0",
          "50.0",
          "50.0",
          "50.0",
          "50.0",
          "50.0",
          "50.0",
          "50.0",
          null,
          null,
          null,
          null,
          null,
          null,
          null,
          null,
          null,
          null,
          null,
          null,
          null,
          null,
          null,
          null,
          null,
          null,
          null,
          null,
          null,
          null,
          null,
          null,
          null,
          null,
          null,
          null,
          null,
          null,
          null,
          null,
          null,
          null,
          null,
          null,
          null,
          "15.0",
          null,
          null,
          null,
          "65.0",
          "65.0",
          "65.0",
          "65.0",
          "65.0",
          "65.0",
          "48.5",
          "48.5",
          "48.5",
          "48.5",
          "48.5",
          "48.5",
          "48.5",
          "48.5",
          "48.5",
          "48.5",
          "48.5",
          "48.5",
          "48.5",
          "48.5",
          "48.5",
          "35.0",
          "35.0",
          null,
          null,
          null,
          null,
          null,
          null,
          null,
          null,
          null,
          null,
          null,
          null,
          null,
          null,
          null,
          null,
          null,
          null,
          null,
          null,
          null,
          null,
          null,
          null,
          null,
          null,
          null,
          null,
          null,
          null,
          null,
          null,
          "7.5",
          "7.5",
          "7.5",
          "7.5",
          "7.5",
          "7.5",
          "7.5",
          "7.5",
          "7.5",
          "7.5",
          "7.5",
          "7.5",
          "7.5",
          "5,000.0",
          "5,000.0",
          null,
          null,
          null,
          null,
          null,
          null,
          null,
          null,
          null,
          null,
          null,
          null,
          null,
          null,
          null,
          null,
          null,
          null,
          null,
          null,
          null,
          null,
          null,
          null,
          null,
          null,
          null,
          null,
          null,
          null,
          null,
          null,
          null,
          null,
          null,
          null,
          null,
          null,
          null,
          null,
          null,
          null,
          null,
          null,
          null,
          null,
          null,
          null,
          null,
          null,
          null,
          null,
          null,
          null,
          null,
          null,
          null,
          null,
          null,
          null,
          null,
          null,
          null,
          null,
          null,
          null,
          null,
          null,
          null,
          null,
          null,
          null,
          null,
          null,
          null,
          null,
          null,
          null,
          null,
          null,
          null,
          null,
          null,
          null,
          null,
          null,
          null,
          null,
          null,
          null,
          null,
          null,
          null,
          null,
          null,
          null,
          null,
          null,
          null,
          null,
          null,
          null,
          null,
          null,
          null,
          null,
          null,
          null,
          null,
          null,
          null,
          null,
          null,
          null,
          null,
          null,
          null,
          null,
          null,
          null,
          null,
          null,
          null,
          null,
          null,
          null,
          null,
          null,
          null,
          null,
          null,
          null,
          null,
          null,
          null,
          null,
          null,
          null,
          null,
          null,
          null,
          null,
          null,
          null,
          null,
          null,
          null,
          null,
          null,
          null,
          null,
          null,
          null,
          null,
          null,
          null,
          null,
          null,
          null,
          null,
          null,
          null,
          null,
          null,
          null,
          null,
          null,
          null,
          null,
          null,
          null,
          null,
          null,
          null,
          null,
          null,
          null,
          null,
          null,
          null,
          null,
          null,
          null,
          null,
          null,
          null,
          null,
          null,
          null,
          null,
          null,
          null,
          null,
          null,
          null,
          null,
          null,
          null,
          null,
          null,
          null,
          null,
          null,
          null,
          null,
          null,
          null,
          null,
          null,
          null,
          null,
          null,
          null,
          null,
          null,
          null,
          null,
          null,
          null,
          null,
          null,
          null,
          null,
          null,
          null,
          null,
          null,
          null,
          null,
          null,
          null,
          null,
          null,
          null,
          null,
          null,
          null,
          null,
          null,
          null,
          null,
          null,
          null,
          null,
          null,
          null,
          null,
          null,
          null,
          null,
          null,
          null,
          null,
          null,
          null,
          null,
          null,
          null,
          null,
          null,
          null,
          null,
          null,
          null,
          null,
          null,
          null,
          null,
          null,
          null,
          null,
          null,
          null,
          null,
          null,
          null,
          null,
          null,
          null,
          null,
          null,
          null,
          null,
          null,
          null,
          null,
          null,
          null,
          null,
          null,
          null,
          null,
          null,
          null,
          null,
          null,
          null,
          null,
          null,
          null,
          null,
          null,
          null,
          null,
          null,
          null,
          null,
          null,
          null,
          null,
          null,
          null,
          null,
          null,
          null,
          null,
          null,
          null,
          null,
          null,
          null,
          null,
          null,
          null,
          null,
          null,
          null,
          null,
          null,
          null,
          null,
          null,
          null,
          null,
          null,
          null,
          null,
          null,
          null,
          null,
          null,
          null,
          null,
          null,
          null,
          null,
          null,
          null,
          null,
          null,
          null,
          null,
          null,
          null,
          null,
          null,
          null,
          null,
          null,
          null,
          null,
          null,
          null,
          null,
          null,
          null,
          null,
          null,
          null,
          null,
          null,
          null,
          null,
          null,
          null,
          null,
          null,
          null,
          null,
          null,
          null,
          null,
          null,
          null,
          null,
          null,
          null,
          null,
          null,
          null,
          null,
          null,
          null,
          null,
          null,
          null,
          null,
          null,
          null,
          null,
          null,
          null,
          null,
          null,
          null,
          null,
          null,
          null,
          null,
          null,
          null,
          null,
          null,
          null,
          null,
          null,
          null,
          null,
          null,
          null,
          null,
          null,
          null,
          null,
          null,
          null,
          null,
          null,
          null,
          null,
          null,
          null,
          null,
          null,
          null,
          null,
          null,
          null,
          null,
          null,
          null,
          null,
          null,
          null,
          null,
          null,
          null,
          null,
          null,
          null,
          null,
          null,
          null,
          null,
          null,
          null,
          null,
          null,
          null,
          null,
          null,
          null,
          null,
          null,
          null,
          null,
          null,
          null,
          null,
          null,
          null,
          null,
          null,
          null,
          null,
          null,
          null,
          null,
          null,
          null,
          null,
          null,
          null,
          null,
          null,
          null,
          null,
          null,
          null,
          null,
          null,
          null,
          null,
          null,
          null,
          null,
          null,
          null,
          null,
          null,
          null,
          null,
          null,
          null,
          null,
          null,
          null,
          null,
          null,
          null,
          null,
          null,
          null,
          null,
          null,
          null,
          null,
          null,
          null,
          null,
          null,
          null,
          null,
          null,
          null,
          null,
          null,
          null,
          null,
          null,
          null,
          null,
          null,
          null,
          null,
          null,
          null,
          null,
          null,
          null,
          null,
          null,
          null,
          null,
          null,
          null,
          null,
          null,
          null,
          null,
          null,
          null,
          null,
          null,
          null,
          null,
          null,
          null,
          null,
          null,
          null,
          null,
          null,
          null,
          null,
          null,
          null,
          null,
          null,
          null,
          null,
          null,
          null,
          null,
          null,
          null,
          null,
          null,
          null,
          null,
          null,
          null,
          null,
          null,
          null,
          null,
          null,
          null,
          null,
          null,
          null,
          null,
          null,
          null,
          null,
          null,
          null,
          null,
          null,
          null,
          null,
          null,
          null,
          null,
          null,
          null,
          null,
          null,
          null,
          null,
          null,
          null,
          null,
          null,
          null,
          null,
          null,
          null,
          null,
          null,
          null,
          null,
          null,
          null,
          null,
          null,
          null,
          null,
          null,
          null,
          null,
          null,
          null,
          null,
          null,
          null,
          null,
          null,
          null,
          null,
          null,
          null,
          null,
          null,
          null,
          null,
          null,
          null,
          null,
          null,
          null,
          null,
          null,
          null,
          null,
          null,
          null,
          null,
          null,
          null,
          null,
          null,
          null,
          null,
          null,
          null,
          null,
          null,
          null,
          null,
          null,
          null,
          null,
          null,
          null,
          null,
          null,
          null,
          null,
          null,
          null,
          null,
          null,
          null,
          null,
          null,
          null,
          null,
          null,
          null,
          null,
          null,
          null,
          null,
          null,
          null,
          null,
          null,
          null,
          null,
          null,
          null,
          null,
          null,
          null,
          null,
          null,
          null,
          null,
          null,
          null,
          null,
          null,
          null,
          null,
          null,
          null,
          null,
          null,
          null,
          null,
          null,
          null,
          null,
          null,
          null,
          null,
          null,
          null,
          null,
          null,
          null,
          null,
          null,
          null,
          null,
          null,
          null,
          null,
          null,
          null,
          null,
          null,
          null,
          null,
          null,
          null,
          null,
          null,
          null,
          null,
          null,
          null,
          null,
          null,
          null,
          null,
          null,
          null,
          null,
          null,
          null,
          null,
          null,
          null,
          null,
          null,
          null,
          null,
          null,
          null,
          null,
          null,
          null,
          null,
          null,
          null,
          null,
          null,
          null,
          null,
          null,
          null,
          null,
          null,
          null,
          null,
          null,
          null,
          null,
          null,
          null,
          null,
          null,
          null,
          null,
          null,
          null,
          null,
          null,
          null,
          null,
          null,
          null,
          null,
          null,
          null,
          null,
          null,
          null,
          null,
          null,
          null,
          null,
          null,
          null,
          null,
          null,
          null,
          null,
          null,
          null,
          null,
          null,
          null,
          null,
          null,
          null,
          null,
          null,
          null,
          null,
          null,
          null,
          null,
          null,
          null,
          null,
          null,
          null,
          null,
          null,
          null,
          null,
          null,
          null,
          null,
          null,
          null,
          null,
          null,
          null,
          null,
          null,
          null,
          null,
          null,
          null,
          null,
          null,
          null,
          null,
          null,
          null,
          null,
          null,
          null,
          null,
          null,
          null,
          null,
          null,
          null,
          null,
          null,
          null,
          null,
          null,
          null,
          null,
          null,
          null,
          null,
          null,
          null,
          null,
          null,
          null,
          null,
          null,
          null,
          null,
          null,
          null,
          null,
          null,
          null,
          null,
          null,
          null,
          null,
          null,
          null,
          null,
          null,
          null,
          null,
          null,
          null,
          null,
          null,
          null,
          null,
          null,
          null,
          null,
          null,
          null,
          null,
          null,
          null,
          null,
          null,
          null,
          null,
          null,
          null,
          null,
          null,
          null,
          null,
          null,
          null,
          null,
          null,
          null,
          null,
          null,
          null,
          null,
          null,
          null,
          null,
          null,
          null,
          null,
          null,
          null,
          null,
          null,
          null,
          null,
          null,
          null,
          null,
          null,
          null,
          null,
          null,
          null,
          null,
          null,
          null,
          null,
          null,
          null,
          null,
          null,
          null,
          null,
          null,
          null,
          null,
          null,
          null,
          null,
          null,
          null,
          null,
          null,
          null,
          null,
          null,
          null,
          null,
          null,
          null,
          null,
          null,
          null,
          null,
          null,
          null,
          null,
          null,
          null,
          null,
          null,
          null,
          null,
          null,
          null,
          null,
          null,
          null,
          null,
          null,
          null,
          null,
          null,
          null,
          null,
          null,
          null,
          null,
          null,
          null,
          null,
          null,
          null,
          null,
          null,
          null,
          null,
          null,
          null,
          null,
          null,
          null,
          null,
          null,
          null,
          null,
          null,
          null,
          null,
          null,
          null,
          null,
          null,
          null,
          null,
          null,
          null,
          null,
          null,
          null,
          null,
          null,
          null,
          null,
          null,
          null,
          null,
          null,
          null,
          null,
          null,
          null,
          null,
          null,
          null,
          null,
          null,
          null,
          null,
          null,
          null,
          null,
          null,
          null,
          null,
          null,
          null,
          null,
          null,
          null,
          null,
          null,
          null,
          null,
          null,
          null,
          null,
          null,
          null,
          null,
          null,
          null,
          null,
          null,
          null,
          null,
          null,
          null,
          null,
          null,
          null,
          null,
          null,
          null,
          null,
          null,
          null,
          null,
          null,
          null,
          null,
          null,
          null,
          null,
          null,
          null,
          null,
          null,
          null,
          null,
          null,
          null,
          null,
          null,
          null,
          null,
          null,
          null,
          null,
          null,
          null,
          null,
          null,
          null,
          null,
          null,
          null,
          null,
          null,
          null,
          null,
          null,
          null,
          null,
          null,
          null,
          null,
          null,
          null,
          null,
          null,
          null,
          null,
          null,
          null,
          null,
          null,
          null,
          null,
          null,
          null,
          null,
          null,
          null,
          null,
          null,
          null,
          null,
          null,
          null,
          null,
          null,
          null,
          null,
          null,
          null,
          null,
          null,
          null,
          null,
          null,
          null,
          null,
          null,
          null,
          null,
          null,
          null,
          null,
          null,
          null,
          null,
          null,
          null,
          null,
          null,
          null,
          null,
          null,
          null,
          null,
          null,
          null,
          null,
          null,
          null,
          null,
          null,
          null,
          null,
          null,
          null,
          null,
          null,
          null,
          null,
          null,
          null,
          null,
          null,
          null,
          null,
          null,
          null,
          null,
          null,
          null,
          null,
          null,
          null,
          null,
          null,
          null,
          null,
          null,
          null,
          null,
          null,
          null,
          null,
          null,
          null,
          null,
          null,
          null,
          null,
          null,
          null,
          null,
          null,
          null,
          null,
          null,
          null,
          null,
          null,
          null,
          null,
          null,
          null,
          null,
          null,
          null,
          null,
          null,
          null,
          null,
          null,
          null,
          null,
          null,
          null,
          null,
          null,
          null,
          null,
          null,
          null,
          null,
          null,
          null,
          null,
          null,
          null,
          null,
          null,
          null,
          null,
          null,
          null,
          null,
          null,
          null,
          null,
          null,
          null,
          null,
          null,
          null,
          null,
          null,
          null,
          null,
          null,
          null,
          null,
          null,
          null,
          null,
          null,
          null,
          null,
          null,
          null,
          null,
          null,
          null,
          null,
          null,
          null,
          null,
          null,
          null,
          null,
          null,
          null,
          null,
          null,
          null,
          null,
          null,
          null,
          null,
          null,
          null,
          null,
          null,
          null,
          null,
          null,
          null,
          null,
          null,
          null,
          null,
          null,
          null,
          null,
          null,
          null,
          null,
          null,
          null,
          null,
          null,
          null,
          null,
          null,
          null,
          null,
          null,
          null,
          null,
          null,
          null,
          null,
          null,
          null,
          null,
          null,
          null,
          null,
          null,
          null,
          null,
          null,
          null,
          null,
          null,
          null,
          null,
          null,
          null,
          null,
          null,
          null,
          null,
          null,
          null,
          null,
          null,
          null,
          null,
          null,
          null,
          null,
          null,
          null,
          null,
          null,
          null,
          null,
          null,
          null,
          null,
          null,
          null,
          null,
          null,
          null,
          null,
          null,
          null,
          null,
          null,
          null,
          null,
          null,
          null,
          null,
          null,
          null,
          null,
          null,
          null,
          null,
          null,
          null,
          null,
          null,
          null,
          null,
          null,
          null,
          null,
          null,
          null,
          null,
          null,
          null,
          null,
          null,
          null,
          null,
          null,
          null,
          null,
          null,
          null,
          null,
          null,
          null,
          null,
          null,
          null,
          null,
          null,
          null,
          null,
          null,
          null,
          null,
          null,
          null,
          null,
          null,
          null,
          null,
          null,
          null,
          null,
          null,
          null,
          null,
          null,
          null,
          null,
          null,
          null,
          null,
          null,
          null,
          null,
          null,
          null,
          null,
          null,
          null,
          null,
          null,
          null,
          null,
          null,
          null,
          null,
          null,
          null,
          null,
          null,
          null,
          null,
          null,
          null,
          null,
          null,
          null,
          null,
          null,
          null,
          null,
          null,
          null,
          null,
          null,
          null,
          null,
          null,
          null,
          null,
          null,
          null,
          null,
          null,
          null,
          null,
          null,
          null,
          null,
          null,
          null,
          null,
          null,
          null,
          null,
          null,
          null,
          null,
          null,
          null,
          null,
          null,
          null,
          null,
          null,
          null,
          null,
          null,
          null,
          null,
          null,
          null,
          null,
          null,
          null,
          null,
          null,
          null,
          null,
          null,
          null,
          null,
          null,
          null,
          null,
          null,
          null,
          null,
          null,
          null,
          null,
          null,
          null,
          null,
          null,
          null,
          null,
          null,
          null,
          null,
          null,
          null,
          null,
          null,
          null,
          null,
          null,
          null,
          null,
          null,
          null,
          null,
          null,
          null,
          null,
          null,
          null,
          null,
          null,
          null,
          null,
          null,
          null,
          null,
          null,
          null,
          null,
          null,
          null,
          null,
          null,
          null,
          null,
          null,
          null,
          null,
          null,
          null,
          null,
          null,
          null,
          null,
          null,
          null,
          null,
          null,
          null,
          null,
          null,
          null,
          null,
          null,
          null,
          null,
          null,
          null,
          null,
          null,
          null,
          null,
          null,
          null,
          null,
          null,
          null,
          null,
          null,
          null,
          null,
          null,
          null,
          null,
          null,
          null,
          null,
          null,
          null,
          null,
          null,
          null,
          null,
          null,
          null,
          null,
          null,
          null,
          null,
          null,
          null,
          null,
          null,
          null,
          null,
          null,
          null,
          null,
          null,
          null,
          null,
          null,
          null,
          null,
          null,
          null,
          null,
          null,
          null,
          null,
          null,
          null,
          null,
          null,
          null,
          null,
          null,
          null,
          null,
          null,
          null,
          null,
          null,
          null,
          null,
          null,
          null,
          null,
          null,
          null,
          null,
          null,
          null,
          null,
          null,
          null,
          null,
          null,
          null,
          null,
          null,
          null,
          null,
          null,
          null,
          null,
          null,
          null,
          null,
          null,
          null,
          null,
          null,
          null,
          null,
          null,
          null,
          null,
          null,
          null,
          null,
          null,
          null,
          null,
          null,
          null,
          null,
          null,
          null,
          null,
          null,
          null,
          null,
          null,
          null,
          null,
          null,
          null,
          null,
          null,
          null,
          null,
          null,
          null,
          null,
          null,
          null,
          null,
          null,
          null,
          null,
          null,
          null,
          null,
          null,
          null,
          null,
          null,
          null,
          null,
          null,
          null,
          null,
          null,
          null,
          null,
          "85.0",
          "85.0",
          "85.0",
          "85.0",
          "85.0",
          "85.0",
          "85.0",
          "80.0",
          "80.0",
          "80.0",
          "80.0",
          "80.0",
          "55.0",
          "46.0",
          "46.0",
          "46.0",
          "46.0",
          "46.0",
          "45.0",
          "45.0",
          "45.0",
          "45.0",
          "45.0",
          "45.0",
          "45.0",
          "45.0",
          "45.0",
          "45.0",
          "40.0",
          "40.0",
          "40.0",
          "40.0",
          "40.0",
          "40.0",
          "40.0",
          "40.0",
          "40.0",
          "40.0",
          "40.0",
          "40.0",
          "40.0",
          "40.0",
          "40.0",
          "40.0",
          "40.0",
          "40.0",
          "40.0",
          "40.0",
          "40.0",
          "40.0",
          "40.0",
          "40.0",
          "40.0",
          "40.0",
          "40.0",
          "40.0",
          "40.0",
          "40.0",
          "40.0",
          "40.0",
          "40.0",
          "40.0",
          "40.0",
          "40.0",
          "40.0",
          "40.0",
          "40.0",
          "40.0",
          "40.0",
          "40.0",
          "40.0",
          "40.0",
          "40.0",
          "40.0",
          "40.0",
          "40.0",
          "40.0",
          "40.0",
          "40.0",
          "40.0",
          "40.0",
          "40.0",
          "40.0",
          "450.0",
          "450.0",
          "450.0",
          "450.0",
          "450.0",
          "450.0",
          "450.0",
          "450.0",
          "450.0",
          "450.0",
          "450.0",
          "450.0",
          "450.0",
          "450.0",
          "450.0",
          "450.0",
          "450.0",
          "450.0",
          "450.0",
          "450.0",
          "450.0",
          "450.0",
          "450.0",
          "450.0",
          "450.0",
          "450.0",
          "450.0",
          "450.0",
          "450.0",
          "450.0",
          "450.0",
          "450.0",
          "450.0",
          "450.0",
          "450.0",
          "450.0",
          "450.0",
          "450.0",
          "450.0",
          "450.0",
          "450.0",
          "450.0",
          "450.0",
          "450.0",
          "450.0",
          "450.0",
          "450.0",
          "450.0",
          "450.0",
          "450.0",
          "450.0",
          "450.0",
          "450.0",
          "450.0",
          "450.0",
          "450.0",
          "450.0",
          "450.0",
          "450.0",
          "450.0",
          "450.0",
          "450.0",
          "450.0",
          "450.0",
          "450.0",
          "450.0",
          "450.0",
          "450.0",
          "450.0",
          "450.0",
          "450.0",
          "450.0",
          "450.0",
          "450.0",
          "450.0",
          "450.0",
          "450.0",
          "450.0",
          "450.0",
          "450.0",
          "450.0",
          "450.0",
          "450.0",
          "450.0",
          "450.0",
          "450.0",
          "450.0",
          "450.0",
          "450.0",
          "450.0",
          "450.0",
          "450.0",
          "450.0",
          "450.0",
          "450.0",
          "450.0",
          "450.0",
          "450.0",
          "450.0",
          "450.0",
          "450.0",
          "450.0",
          "450.0",
          "450.0",
          "450.0",
          "450.0",
          "450.0",
          "450.0",
          "450.0",
          "450.0",
          "450.0",
          "450.0",
          "450.0",
          "450.0",
          "450.0",
          "450.0",
          "450.0",
          "450.0",
          "450.0",
          "450.0",
          "450.0",
          "450.0",
          "450.0",
          "450.0",
          "450.0",
          "450.0",
          "450.0",
          "450.0",
          "450.0",
          "450.0",
          "450.0",
          "450.0",
          "450.0",
          "450.0",
          "450.0",
          "450.0",
          "1,160.0",
          "1,160.0",
          "1,160.0",
          "1,160.0",
          "1,160.0",
          "1,160.0",
          "1,160.0",
          "1,160.0",
          "1,160.0",
          "1,160.0",
          "1,160.0",
          "1,160.0",
          "1,160.0",
          null,
          null,
          null,
          null,
          null,
          null,
          null,
          null,
          null,
          null,
          null,
          null,
          null,
          null,
          null,
          null,
          null,
          null,
          null,
          null,
          null,
          null,
          null,
          null,
          null,
          null,
          null,
          null,
          null,
          null,
          null,
          null,
          null,
          null,
          null,
          null,
          null,
          null,
          null,
          null,
          null,
          null,
          null,
          null,
          null,
          null,
          null,
          null,
          null,
          null,
          null,
          null,
          null,
          null,
          "35.0",
          "35.0",
          "35.0",
          "35.0",
          "35.0",
          "136.6",
          "136.6",
          "136.6",
          "136.6",
          null,
          null,
          null,
          null,
          null,
          null,
          null,
          null,
          null,
          null,
          null,
          null,
          null,
          null,
          null,
          null,
          null,
          null,
          null,
          null,
          null,
          null,
          null,
          null,
          null,
          null,
          null,
          null,
          null,
          null,
          null,
          null,
          null,
          null,
          null,
          null,
          null,
          null,
          null,
          null,
          null,
          null,
          null,
          null,
          null,
          null,
          null,
          null,
          null,
          null,
          null,
          null,
          null,
          null,
          null,
          null,
          null,
          null,
          null,
          null,
          null,
          null,
          null,
          null,
          null,
          null,
          null,
          null,
          null,
          null,
          null,
          null,
          null,
          null,
          null,
          null,
          null,
          null,
          null,
          null,
          null,
          null,
          null,
          null,
          null,
          null,
          null,
          null,
          null,
          null,
          null,
          null,
          null,
          null,
          null,
          null,
          null,
          null,
          null,
          null,
          null,
          null,
          null,
          null,
          null,
          null,
          null,
          null,
          null,
          null,
          null,
          null,
          "90.0",
          "90.0",
          "90.0",
          "90.0",
          "90.0",
          "90.0",
          "90.0",
          "90.0",
          "90.0",
          "90.0",
          "90.0",
          "90.0",
          "90.0",
          "90.0",
          "90.0",
          "90.0",
          "90.0",
          "90.0",
          "90.0",
          "90.0",
          "90.0",
          "90.0",
          "90.0",
          "90.0",
          "90.0",
          "90.0",
          "90.0",
          "90.0",
          "112.5",
          "112.5",
          "112.5",
          "112.5",
          "112.5",
          "112.5",
          "112.5",
          "112.5",
          "112.5",
          null,
          null,
          null,
          null,
          null,
          null,
          null,
          null,
          null,
          null,
          null,
          null,
          null,
          null,
          null,
          null,
          null,
          null,
          null,
          null,
          null,
          null,
          null,
          null,
          null,
          null,
          null,
          null,
          null,
          null,
          null,
          null,
          null,
          null,
          null,
          null,
          null,
          null,
          null,
          null,
          null,
          null,
          null,
          null,
          null,
          null,
          null,
          "35.0",
          "35.0",
          "35.0",
          "35.0",
          "35.0",
          "35.0",
          "35.0",
          "35.0",
          null,
          null,
          null,
          null,
          null,
          null,
          null,
          null,
          null,
          null,
          null,
          null,
          null,
          null,
          null,
          null,
          null,
          null,
          null,
          null,
          null,
          null,
          null,
          null,
          null,
          null,
          null,
          null,
          null,
          null,
          null,
          null,
          null,
          null,
          null,
          null,
          null,
          null,
          null,
          null,
          null,
          null,
          null,
          null,
          null,
          null,
          null,
          null,
          null,
          null,
          null,
          null,
          null,
          null,
          null,
          null,
          null,
          null,
          null,
          null,
          null,
          null,
          null,
          null,
          null,
          null,
          null,
          null,
          null,
          null,
          null,
          null,
          null,
          null,
          null,
          null,
          null,
          null,
          null,
          "29.0",
          "29.0",
          "29.0",
          "29.0",
          "29.0",
          "29.0",
          "29.0",
          "29.0",
          "29.0",
          "29.0",
          "29.0",
          "29.0",
          "29.0",
          "29.0",
          "29.0",
          "29.0",
          "29.0",
          "29.0",
          "29.0",
          "29.0",
          "29.0",
          "29.0",
          null,
          null,
          null,
          null,
          null,
          null,
          null,
          null,
          null,
          "90.0",
          "39.0",
          "39.0",
          null,
          null,
          null,
          null,
          "62.0",
          "62.0",
          "62.0",
          "62.0",
          "47.0",
          "47.0",
          "47.0",
          "47.0",
          "47.0",
          "47.0",
          "47.0",
          "47.0",
          "47.0",
          "47.0",
          "47.0",
          "47.0",
          "47.0",
          "31.0",
          "31.0",
          "31.0",
          "31.0",
          "31.0",
          "31.0",
          "31.0",
          "31.0",
          "31.0",
          "31.0",
          "31.0",
          "31.0",
          "31.0",
          "31.0",
          "31.0",
          "31.0",
          "31.0",
          "31.0",
          "31.0",
          "31.0",
          "31.0",
          "31.0",
          "25.0",
          "25.0",
          "25.0",
          "25.0",
          "25.0",
          "25.0",
          "25.0",
          "25.0",
          "25.0",
          "25.0",
          "25.0",
          "25.0",
          "21.0",
          "21.0",
          "21.0",
          "21.0",
          "21.0",
          "21.0",
          "21.0",
          "21.0",
          "21.0",
          "21.0",
          "21.0",
          "21.0",
          "21.0",
          "21.0",
          "21.0",
          "21.0",
          null,
          null,
          null,
          null,
          null,
          null,
          null,
          null,
          null,
          null,
          null,
          null,
          null,
          null,
          null,
          null,
          null,
          null,
          null,
          null,
          null,
          null,
          null,
          null,
          null,
          null,
          null,
          null,
          null,
          null,
          null,
          null,
          null,
          null,
          null,
          null,
          null,
          null,
          null,
          null,
          null,
          null,
          null,
          null,
          null,
          null,
          null,
          null,
          null,
          null,
          null,
          null,
          null,
          "65.0",
          "65.0",
          "65.0",
          "65.0",
          "65.0",
          "153.0",
          "135.0",
          "135.0",
          "130.0",
          "115.0",
          "109.0",
          "109.0",
          "109.0",
          null,
          null,
          null,
          null,
          null,
          null,
          null,
          null,
          null,
          null,
          null,
          null,
          null,
          null,
          null,
          null,
          null,
          null,
          null,
          null,
          null,
          null,
          null,
          null,
          null,
          null,
          null,
          null,
          null,
          null,
          null,
          null,
          null,
          null,
          null,
          null,
          null,
          null,
          null,
          null,
          null,
          null,
          null,
          null,
          null,
          null,
          null,
          null,
          null,
          null,
          null,
          null,
          null,
          null,
          null,
          null,
          null,
          null,
          null,
          null,
          null,
          null,
          null,
          null,
          null,
          null,
          null,
          null,
          null,
          null,
          null,
          null,
          null,
          null,
          null,
          null,
          null,
          null,
          null,
          null,
          null,
          null,
          null,
          null,
          null,
          null,
          null,
          null,
          null,
          null,
          null,
          null,
          null,
          null,
          null,
          null,
          null,
          null,
          null,
          null,
          null,
          null,
          null,
          null,
          null,
          null,
          null,
          null,
          null,
          null,
          null,
          null,
          null,
          null,
          null,
          null,
          null,
          null,
          null,
          null,
          null,
          null,
          null,
          null,
          null,
          null,
          null,
          null,
          null,
          null,
          null,
          null,
          null,
          null,
          null,
          null,
          null,
          null,
          null,
          null,
          null,
          null,
          null,
          null,
          null,
          null,
          null,
          null,
          null,
          null,
          null,
          null,
          null,
          null,
          null,
          null,
          null,
          null,
          null,
          null,
          null,
          null,
          null,
          null,
          null,
          null,
          null,
          null,
          null,
          null,
          null,
          null,
          null,
          null,
          null,
          null,
          null,
          null,
          null,
          null,
          null,
          null,
          null,
          null,
          null,
          null,
          null,
          null,
          null,
          null,
          null,
          null,
          null,
          null,
          null,
          null,
          null,
          null,
          null,
          null,
          null,
          null,
          null,
          null,
          null,
          null,
          null,
          null,
          null,
          null,
          null,
          null,
          null,
          null,
          null,
          null,
          null,
          null,
          null,
          null,
          null,
          null,
          null,
          null,
          null,
          null,
          null,
          null,
          null,
          null,
          null,
          null,
          null,
          null,
          null,
          null,
          null,
          null,
          null,
          null,
          null,
          null,
          null,
          null,
          null,
          null,
          null,
          null,
          null,
          null,
          null,
          null,
          null,
          null,
          null,
          null,
          null,
          null,
          null,
          null,
          null,
          null,
          null,
          null,
          null,
          null,
          null,
          null,
          null,
          null,
          null,
          null,
          null,
          null,
          null,
          null,
          null,
          null,
          null,
          null,
          null,
          null,
          null,
          null,
          null,
          null,
          null,
          null,
          null,
          null,
          null,
          null,
          null,
          null,
          null,
          null,
          null,
          null,
          null,
          "28.3",
          null,
          null,
          null,
          null,
          null,
          null,
          null,
          null,
          null,
          "41.8",
          "41.8",
          "41.8",
          "41.8",
          "41.8",
          "41.8",
          "41.8",
          "41.8",
          "41.8",
          "41.8",
          "41.8",
          "41.8",
          "41.8",
          "37.0",
          null,
          null,
          null,
          null,
          null,
          null,
          null,
          null,
          null,
          null,
          null,
          null,
          "20.0",
          null,
          null,
          null,
          null,
          null,
          null,
          null,
          null,
          null,
          null,
          null,
          null,
          null,
          null,
          null,
          null,
          null,
          null,
          "7.5",
          "69.7",
          "69.7",
          "69.7",
          "69.7",
          "69.7",
          "69.7",
          "69.7",
          "69.7",
          "69.7",
          "69.7",
          "69.7",
          "69.7",
          "69.7",
          "69.7",
          "69.7",
          "69.7",
          "69.7",
          "64.68",
          "64.68",
          "64.68",
          "64.68",
          "64.68",
          "64.68",
          "64.68",
          "64.68",
          "64.68",
          "64.68",
          "64.68",
          "64.68",
          "64.68",
          "64.68",
          "64.68",
          "64.68",
          "64.68",
          "64.68",
          "64.68",
          "64.68",
          "64.68",
          "64.68",
          "64.68",
          "64.68",
          "64.68",
          "64.68",
          "64.68",
          "64.68",
          "64.68",
          "64.68",
          "64.68",
          "64.68",
          "64.68",
          "64.68",
          "5.3",
          "5.3",
          "5.3",
          "5.3",
          "5.3",
          "5.3",
          "5.3",
          "5.3",
          "5.3",
          "30.8",
          "30.8",
          "30.8",
          "30.8",
          "30.8",
          "30.8",
          "30.8",
          "30.8",
          "30.8",
          "30.8",
          "30.8",
          "30.8",
          "30.8",
          "30.8",
          "30.8",
          "30.8",
          "30.8",
          "30.8",
          "30.8",
          "30.8",
          "30.8",
          "30.8",
          "30.8",
          "30.8",
          "30.8",
          "30.8",
          "30.8",
          "30.8",
          "30.8",
          "30.8",
          "30.8",
          "30.8",
          "30.8",
          "30.8",
          "30.8",
          "30.8",
          "30.8",
          "30.8",
          "29.75",
          "29.75",
          "29.75",
          "29.75",
          "29.75",
          "29.75",
          "29.75",
          "29.75",
          "29.75",
          "29.75",
          "29.75",
          "29.75",
          "29.75",
          "29.75",
          "29.75",
          "29.75",
          "29.75",
          "29.75",
          "29.75",
          "29.75",
          "29.75",
          "29.75",
          "29.75",
          "29.75",
          "29.75",
          "29.75",
          "29.75",
          "29.75",
          "29.75",
          "29.75",
          "29.75",
          "29.75",
          "29.75",
          "29.15",
          "29.15",
          "29.15",
          "29.15",
          "29.15",
          "29.15",
          "29.15",
          "29.15",
          "29.15",
          "29.15",
          "29.15",
          "29.15",
          "29.15",
          "29.15",
          "29.15",
          "29.15",
          "29.15",
          "29.15",
          "29.15",
          "29.15",
          "29.15",
          "29.15",
          "29.15",
          "29.15",
          "29.15",
          "20.14",
          null,
          null,
          null,
          null,
          null,
          null,
          null,
          null,
          null,
          null,
          null,
          null,
          null,
          null,
          null,
          null,
          null,
          null,
          null,
          null,
          null,
          null,
          null,
          null,
          null,
          null,
          null,
          null,
          null,
          null,
          null,
          null,
          null,
          null,
          null,
          null,
          null,
          null,
          null,
          null,
          null,
          null,
          null,
          null,
          null,
          null,
          null,
          null,
          null,
          null,
          null,
          null,
          null,
          null,
          null,
          null,
          null,
          null,
          null,
          null,
          null,
          null,
          null,
          null,
          null,
          null,
          null,
          null,
          null,
          null,
          null,
          null,
          null,
          null,
          null,
          null,
          null,
          null,
          null,
          null,
          null,
          null,
          null,
          null,
          null,
          null,
          null,
          null,
          null,
          null,
          null,
          null,
          null,
          "350.0",
          "164.0",
          "164.0",
          "164.0",
          "133.0",
          "133.0",
          "133.0",
          null,
          null,
          null,
          null,
          null,
          null,
          null,
          null,
          null,
          null,
          null,
          null,
          null,
          null,
          null,
          null,
          null,
          null,
          null,
          null,
          null,
          null,
          null,
          null,
          null,
          null,
          null,
          null,
          null,
          null,
          null,
          null,
          null,
          null,
          null,
          null,
          null,
          null,
          null,
          null,
          null,
          null,
          null,
          null,
          null,
          null,
          null,
          null,
          null,
          null,
          null,
          null,
          null,
          null,
          null,
          null,
          null,
          null,
          null,
          null,
          null,
          null,
          null,
          null,
          null,
          null,
          null,
          null,
          null,
          null,
          null,
          null,
          null,
          null,
          null,
          null,
          null,
          null,
          null,
          null,
          null,
          null,
          null,
          null,
          null,
          null,
          null,
          null,
          null,
          null,
          null,
          null,
          null,
          null,
          null,
          null,
          null,
          null,
          null,
          null,
          null,
          null,
          null,
          null,
          null,
          null,
          null,
          null,
          null,
          null,
          null,
          null,
          null,
          null,
          null,
          null,
          null,
          null,
          null,
          null,
          null,
          null,
          null,
          null,
          null,
          null,
          null,
          null,
          null,
          null,
          null,
          null,
          null,
          null,
          null,
          null,
          null,
          null,
          null,
          null,
          null,
          null,
          null,
          null,
          null,
          "80.0",
          "80.0",
          "48.5",
          "48.5",
          "37.0",
          "37.0",
          "37.0",
          "37.0",
          "37.0",
          "37.0",
          "37.0",
          "37.0",
          "37.0",
          "37.0",
          "37.0",
          "37.0",
          "37.0",
          "37.0",
          "200.0",
          "200.0",
          "200.0",
          "200.0",
          "200.0",
          "200.0",
          "200.0",
          "200.0",
          "200.0",
          "200.0",
          "200.0",
          "200.0",
          "200.0",
          "200.0",
          "200.0",
          "200.0",
          "200.0",
          "200.0",
          "200.0",
          "200.0",
          "200.0",
          "200.0",
          "200.0",
          "200.0",
          "200.0",
          "200.0",
          "200.0",
          "200.0",
          "200.0",
          "200.0",
          "200.0",
          "200.0",
          "200.0",
          "200.0",
          "200.0",
          "200.0",
          "200.0",
          "200.0",
          "200.0",
          "200.0",
          "200.0",
          "200.0",
          "200.0",
          "200.0",
          "200.0",
          "200.0",
          "200.0",
          "200.0",
          "200.0",
          "200.0",
          "200.0",
          "200.0",
          "200.0",
          "200.0",
          "200.0",
          "200.0",
          "200.0",
          "200.0",
          "200.0",
          "200.0",
          "200.0",
          "200.0",
          "200.0",
          "200.0",
          "200.0",
          "200.0",
          "200.0",
          "200.0",
          "200.0",
          "200.0",
          "200.0",
          "200.0",
          "200.0",
          "200.0",
          "200.0",
          "190.0",
          "190.0",
          "190.0",
          null,
          null,
          null,
          null,
          null,
          null,
          null,
          null,
          null,
          null,
          null,
          null,
          null,
          null,
          null,
          null,
          null,
          null,
          null,
          null,
          null,
          null,
          null,
          null,
          null,
          null,
          null,
          null,
          null,
          null,
          null,
          null,
          null,
          null,
          null,
          null,
          null,
          null,
          null,
          null,
          null,
          null,
          null,
          null,
          null,
          null,
          null,
          null,
          null,
          null,
          null,
          null,
          null,
          null,
          null,
          null,
          null,
          null,
          null,
          null,
          null,
          null,
          null,
          null,
          null,
          null,
          null,
          null,
          null,
          null,
          null,
          null,
          null,
          null,
          null,
          null,
          null,
          null,
          null,
          null,
          null,
          null,
          null,
          null,
          null,
          null,
          null,
          null,
          null,
          null,
          null,
          null,
          null,
          null,
          null,
          null,
          null,
          null,
          null,
          null,
          null,
          null,
          null,
          null,
          null,
          null,
          null,
          null,
          null,
          null,
          null,
          null,
          null,
          null,
          null,
          null,
          null,
          null,
          null,
          null,
          null,
          null,
          null,
          null,
          null,
          null,
          null,
          null,
          null,
          null,
          null,
          null,
          null,
          null,
          null,
          null,
          null,
          null,
          null,
          null,
          null,
          null,
          null,
          null,
          null,
          null,
          null,
          null,
          null,
          null,
          null,
          null,
          null,
          null,
          null,
          null,
          null,
          null,
          null,
          null,
          null,
          null,
          null,
          null,
          null,
          null,
          null,
          null,
          null,
          null,
          null,
          null,
          null,
          null,
          null,
          null,
          null,
          null,
          null,
          null,
          null,
          null,
          null,
          null,
          null,
          null,
          null,
          null,
          null,
          null,
          null,
          null,
          null,
          null,
          null,
          null,
          null,
          null,
          null,
          null,
          null,
          null,
          null
         ],
         "xaxis": "x",
         "yaxis": "y"
        }
       ],
       "layout": {
        "barmode": "relative",
        "legend": {
         "tracegroupgap": 0
        },
        "margin": {
         "t": 60
        },
        "template": {
         "data": {
          "bar": [
           {
            "error_x": {
             "color": "#2a3f5f"
            },
            "error_y": {
             "color": "#2a3f5f"
            },
            "marker": {
             "line": {
              "color": "#E5ECF6",
              "width": 0.5
             },
             "pattern": {
              "fillmode": "overlay",
              "size": 10,
              "solidity": 0.2
             }
            },
            "type": "bar"
           }
          ],
          "barpolar": [
           {
            "marker": {
             "line": {
              "color": "#E5ECF6",
              "width": 0.5
             },
             "pattern": {
              "fillmode": "overlay",
              "size": 10,
              "solidity": 0.2
             }
            },
            "type": "barpolar"
           }
          ],
          "carpet": [
           {
            "aaxis": {
             "endlinecolor": "#2a3f5f",
             "gridcolor": "white",
             "linecolor": "white",
             "minorgridcolor": "white",
             "startlinecolor": "#2a3f5f"
            },
            "baxis": {
             "endlinecolor": "#2a3f5f",
             "gridcolor": "white",
             "linecolor": "white",
             "minorgridcolor": "white",
             "startlinecolor": "#2a3f5f"
            },
            "type": "carpet"
           }
          ],
          "choropleth": [
           {
            "colorbar": {
             "outlinewidth": 0,
             "ticks": ""
            },
            "type": "choropleth"
           }
          ],
          "contour": [
           {
            "colorbar": {
             "outlinewidth": 0,
             "ticks": ""
            },
            "colorscale": [
             [
              0,
              "#0d0887"
             ],
             [
              0.1111111111111111,
              "#46039f"
             ],
             [
              0.2222222222222222,
              "#7201a8"
             ],
             [
              0.3333333333333333,
              "#9c179e"
             ],
             [
              0.4444444444444444,
              "#bd3786"
             ],
             [
              0.5555555555555556,
              "#d8576b"
             ],
             [
              0.6666666666666666,
              "#ed7953"
             ],
             [
              0.7777777777777778,
              "#fb9f3a"
             ],
             [
              0.8888888888888888,
              "#fdca26"
             ],
             [
              1,
              "#f0f921"
             ]
            ],
            "type": "contour"
           }
          ],
          "contourcarpet": [
           {
            "colorbar": {
             "outlinewidth": 0,
             "ticks": ""
            },
            "type": "contourcarpet"
           }
          ],
          "heatmap": [
           {
            "colorbar": {
             "outlinewidth": 0,
             "ticks": ""
            },
            "colorscale": [
             [
              0,
              "#0d0887"
             ],
             [
              0.1111111111111111,
              "#46039f"
             ],
             [
              0.2222222222222222,
              "#7201a8"
             ],
             [
              0.3333333333333333,
              "#9c179e"
             ],
             [
              0.4444444444444444,
              "#bd3786"
             ],
             [
              0.5555555555555556,
              "#d8576b"
             ],
             [
              0.6666666666666666,
              "#ed7953"
             ],
             [
              0.7777777777777778,
              "#fb9f3a"
             ],
             [
              0.8888888888888888,
              "#fdca26"
             ],
             [
              1,
              "#f0f921"
             ]
            ],
            "type": "heatmap"
           }
          ],
          "heatmapgl": [
           {
            "colorbar": {
             "outlinewidth": 0,
             "ticks": ""
            },
            "colorscale": [
             [
              0,
              "#0d0887"
             ],
             [
              0.1111111111111111,
              "#46039f"
             ],
             [
              0.2222222222222222,
              "#7201a8"
             ],
             [
              0.3333333333333333,
              "#9c179e"
             ],
             [
              0.4444444444444444,
              "#bd3786"
             ],
             [
              0.5555555555555556,
              "#d8576b"
             ],
             [
              0.6666666666666666,
              "#ed7953"
             ],
             [
              0.7777777777777778,
              "#fb9f3a"
             ],
             [
              0.8888888888888888,
              "#fdca26"
             ],
             [
              1,
              "#f0f921"
             ]
            ],
            "type": "heatmapgl"
           }
          ],
          "histogram": [
           {
            "marker": {
             "pattern": {
              "fillmode": "overlay",
              "size": 10,
              "solidity": 0.2
             }
            },
            "type": "histogram"
           }
          ],
          "histogram2d": [
           {
            "colorbar": {
             "outlinewidth": 0,
             "ticks": ""
            },
            "colorscale": [
             [
              0,
              "#0d0887"
             ],
             [
              0.1111111111111111,
              "#46039f"
             ],
             [
              0.2222222222222222,
              "#7201a8"
             ],
             [
              0.3333333333333333,
              "#9c179e"
             ],
             [
              0.4444444444444444,
              "#bd3786"
             ],
             [
              0.5555555555555556,
              "#d8576b"
             ],
             [
              0.6666666666666666,
              "#ed7953"
             ],
             [
              0.7777777777777778,
              "#fb9f3a"
             ],
             [
              0.8888888888888888,
              "#fdca26"
             ],
             [
              1,
              "#f0f921"
             ]
            ],
            "type": "histogram2d"
           }
          ],
          "histogram2dcontour": [
           {
            "colorbar": {
             "outlinewidth": 0,
             "ticks": ""
            },
            "colorscale": [
             [
              0,
              "#0d0887"
             ],
             [
              0.1111111111111111,
              "#46039f"
             ],
             [
              0.2222222222222222,
              "#7201a8"
             ],
             [
              0.3333333333333333,
              "#9c179e"
             ],
             [
              0.4444444444444444,
              "#bd3786"
             ],
             [
              0.5555555555555556,
              "#d8576b"
             ],
             [
              0.6666666666666666,
              "#ed7953"
             ],
             [
              0.7777777777777778,
              "#fb9f3a"
             ],
             [
              0.8888888888888888,
              "#fdca26"
             ],
             [
              1,
              "#f0f921"
             ]
            ],
            "type": "histogram2dcontour"
           }
          ],
          "mesh3d": [
           {
            "colorbar": {
             "outlinewidth": 0,
             "ticks": ""
            },
            "type": "mesh3d"
           }
          ],
          "parcoords": [
           {
            "line": {
             "colorbar": {
              "outlinewidth": 0,
              "ticks": ""
             }
            },
            "type": "parcoords"
           }
          ],
          "pie": [
           {
            "automargin": true,
            "type": "pie"
           }
          ],
          "scatter": [
           {
            "marker": {
             "colorbar": {
              "outlinewidth": 0,
              "ticks": ""
             }
            },
            "type": "scatter"
           }
          ],
          "scatter3d": [
           {
            "line": {
             "colorbar": {
              "outlinewidth": 0,
              "ticks": ""
             }
            },
            "marker": {
             "colorbar": {
              "outlinewidth": 0,
              "ticks": ""
             }
            },
            "type": "scatter3d"
           }
          ],
          "scattercarpet": [
           {
            "marker": {
             "colorbar": {
              "outlinewidth": 0,
              "ticks": ""
             }
            },
            "type": "scattercarpet"
           }
          ],
          "scattergeo": [
           {
            "marker": {
             "colorbar": {
              "outlinewidth": 0,
              "ticks": ""
             }
            },
            "type": "scattergeo"
           }
          ],
          "scattergl": [
           {
            "marker": {
             "colorbar": {
              "outlinewidth": 0,
              "ticks": ""
             }
            },
            "type": "scattergl"
           }
          ],
          "scattermapbox": [
           {
            "marker": {
             "colorbar": {
              "outlinewidth": 0,
              "ticks": ""
             }
            },
            "type": "scattermapbox"
           }
          ],
          "scatterpolar": [
           {
            "marker": {
             "colorbar": {
              "outlinewidth": 0,
              "ticks": ""
             }
            },
            "type": "scatterpolar"
           }
          ],
          "scatterpolargl": [
           {
            "marker": {
             "colorbar": {
              "outlinewidth": 0,
              "ticks": ""
             }
            },
            "type": "scatterpolargl"
           }
          ],
          "scatterternary": [
           {
            "marker": {
             "colorbar": {
              "outlinewidth": 0,
              "ticks": ""
             }
            },
            "type": "scatterternary"
           }
          ],
          "surface": [
           {
            "colorbar": {
             "outlinewidth": 0,
             "ticks": ""
            },
            "colorscale": [
             [
              0,
              "#0d0887"
             ],
             [
              0.1111111111111111,
              "#46039f"
             ],
             [
              0.2222222222222222,
              "#7201a8"
             ],
             [
              0.3333333333333333,
              "#9c179e"
             ],
             [
              0.4444444444444444,
              "#bd3786"
             ],
             [
              0.5555555555555556,
              "#d8576b"
             ],
             [
              0.6666666666666666,
              "#ed7953"
             ],
             [
              0.7777777777777778,
              "#fb9f3a"
             ],
             [
              0.8888888888888888,
              "#fdca26"
             ],
             [
              1,
              "#f0f921"
             ]
            ],
            "type": "surface"
           }
          ],
          "table": [
           {
            "cells": {
             "fill": {
              "color": "#EBF0F8"
             },
             "line": {
              "color": "white"
             }
            },
            "header": {
             "fill": {
              "color": "#C8D4E3"
             },
             "line": {
              "color": "white"
             }
            },
            "type": "table"
           }
          ]
         },
         "layout": {
          "annotationdefaults": {
           "arrowcolor": "#2a3f5f",
           "arrowhead": 0,
           "arrowwidth": 1
          },
          "autotypenumbers": "strict",
          "coloraxis": {
           "colorbar": {
            "outlinewidth": 0,
            "ticks": ""
           }
          },
          "colorscale": {
           "diverging": [
            [
             0,
             "#8e0152"
            ],
            [
             0.1,
             "#c51b7d"
            ],
            [
             0.2,
             "#de77ae"
            ],
            [
             0.3,
             "#f1b6da"
            ],
            [
             0.4,
             "#fde0ef"
            ],
            [
             0.5,
             "#f7f7f7"
            ],
            [
             0.6,
             "#e6f5d0"
            ],
            [
             0.7,
             "#b8e186"
            ],
            [
             0.8,
             "#7fbc41"
            ],
            [
             0.9,
             "#4d9221"
            ],
            [
             1,
             "#276419"
            ]
           ],
           "sequential": [
            [
             0,
             "#0d0887"
            ],
            [
             0.1111111111111111,
             "#46039f"
            ],
            [
             0.2222222222222222,
             "#7201a8"
            ],
            [
             0.3333333333333333,
             "#9c179e"
            ],
            [
             0.4444444444444444,
             "#bd3786"
            ],
            [
             0.5555555555555556,
             "#d8576b"
            ],
            [
             0.6666666666666666,
             "#ed7953"
            ],
            [
             0.7777777777777778,
             "#fb9f3a"
            ],
            [
             0.8888888888888888,
             "#fdca26"
            ],
            [
             1,
             "#f0f921"
            ]
           ],
           "sequentialminus": [
            [
             0,
             "#0d0887"
            ],
            [
             0.1111111111111111,
             "#46039f"
            ],
            [
             0.2222222222222222,
             "#7201a8"
            ],
            [
             0.3333333333333333,
             "#9c179e"
            ],
            [
             0.4444444444444444,
             "#bd3786"
            ],
            [
             0.5555555555555556,
             "#d8576b"
            ],
            [
             0.6666666666666666,
             "#ed7953"
            ],
            [
             0.7777777777777778,
             "#fb9f3a"
            ],
            [
             0.8888888888888888,
             "#fdca26"
            ],
            [
             1,
             "#f0f921"
            ]
           ]
          },
          "colorway": [
           "#636efa",
           "#EF553B",
           "#00cc96",
           "#ab63fa",
           "#FFA15A",
           "#19d3f3",
           "#FF6692",
           "#B6E880",
           "#FF97FF",
           "#FECB52"
          ],
          "font": {
           "color": "#2a3f5f"
          },
          "geo": {
           "bgcolor": "white",
           "lakecolor": "white",
           "landcolor": "#E5ECF6",
           "showlakes": true,
           "showland": true,
           "subunitcolor": "white"
          },
          "hoverlabel": {
           "align": "left"
          },
          "hovermode": "closest",
          "mapbox": {
           "style": "light"
          },
          "paper_bgcolor": "white",
          "plot_bgcolor": "#E5ECF6",
          "polar": {
           "angularaxis": {
            "gridcolor": "white",
            "linecolor": "white",
            "ticks": ""
           },
           "bgcolor": "#E5ECF6",
           "radialaxis": {
            "gridcolor": "white",
            "linecolor": "white",
            "ticks": ""
           }
          },
          "scene": {
           "xaxis": {
            "backgroundcolor": "#E5ECF6",
            "gridcolor": "white",
            "gridwidth": 2,
            "linecolor": "white",
            "showbackground": true,
            "ticks": "",
            "zerolinecolor": "white"
           },
           "yaxis": {
            "backgroundcolor": "#E5ECF6",
            "gridcolor": "white",
            "gridwidth": 2,
            "linecolor": "white",
            "showbackground": true,
            "ticks": "",
            "zerolinecolor": "white"
           },
           "zaxis": {
            "backgroundcolor": "#E5ECF6",
            "gridcolor": "white",
            "gridwidth": 2,
            "linecolor": "white",
            "showbackground": true,
            "ticks": "",
            "zerolinecolor": "white"
           }
          },
          "shapedefaults": {
           "line": {
            "color": "#2a3f5f"
           }
          },
          "ternary": {
           "aaxis": {
            "gridcolor": "white",
            "linecolor": "white",
            "ticks": ""
           },
           "baxis": {
            "gridcolor": "white",
            "linecolor": "white",
            "ticks": ""
           },
           "bgcolor": "#E5ECF6",
           "caxis": {
            "gridcolor": "white",
            "linecolor": "white",
            "ticks": ""
           }
          },
          "title": {
           "x": 0.05
          },
          "xaxis": {
           "automargin": true,
           "gridcolor": "white",
           "linecolor": "white",
           "ticks": "",
           "title": {
            "standoff": 15
           },
           "zerolinecolor": "white",
           "zerolinewidth": 2
          },
          "yaxis": {
           "automargin": true,
           "gridcolor": "white",
           "linecolor": "white",
           "ticks": "",
           "title": {
            "standoff": 15
           },
           "zerolinecolor": "white",
           "zerolinewidth": 2
          }
         }
        },
        "xaxis": {
         "anchor": "y",
         "domain": [
          0,
          1
         ],
         "title": {
          "text": "Price"
         }
        },
        "yaxis": {
         "anchor": "x",
         "domain": [
          0,
          1
         ],
         "title": {
          "text": "count"
         }
        }
       }
      }
     },
     "metadata": {},
     "output_type": "display_data"
    }
   ],
   "source": [
    "px.histogram(df_data.sort_values(by=[\"Organisation\", \"Price\"], ascending=[False, False]), x=\"Price\",nbins=10) "
   ]
  },
  {
   "cell_type": "markdown",
   "metadata": {
    "id": "QiNtigQDne3E"
   },
   "source": [
    "# Use a Choropleth Map to Show the Number of Launches by Country\n",
    "\n",
    "* Create a choropleth map using [the plotly documentation](https://plotly.com/python/choropleth-maps/)\n",
    "* Experiment with [plotly's available colours](https://plotly.com/python/builtin-colorscales/). I quite like the sequential colour `matter` on this map. \n",
    "* You'll need to extract a `country` feature as well as change the country names that no longer exist.\n",
    "\n",
    "Wrangle the Country Names\n",
    "\n",
    "You'll need to use a 3 letter country code for each country. You might have to change some country names.\n",
    "\n",
    "* Russia is the Russian Federation\n",
    "* New Mexico should be USA\n",
    "* Yellow Sea refers to China\n",
    "* Shahrud Missile Test Site should be Iran\n",
    "* Pacific Missile Range Facility should be USA\n",
    "* Barents Sea should be Russian Federation\n",
    "* Gran Canaria should be USA\n",
    "\n",
    "\n",
    "You can use the iso3166 package to convert the country names to Alpha3 format."
   ]
  },
  {
   "cell_type": "code",
   "execution_count": 26,
   "metadata": {
    "id": "Y46-4GHrozhF",
    "scrolled": true
   },
   "outputs": [
    {
     "data": {
      "application/vnd.plotly.v1+json": {
       "config": {
        "plotlyServerURL": "https://plot.ly"
       },
       "data": [
        {
         "coloraxis": "coloraxis",
         "geo": "geo",
         "hovertemplate": "Country=%{location}<br>counts=%{z}<extra></extra>",
         "locations": [
          "RUS",
          "USA",
          "FRA",
          "CHN",
          "JPN",
          "IND",
          "Pacific Ocean",
          "IRN",
          "NZL",
          "ISR",
          "KEN",
          "AUS",
          "PRK",
          "KOR",
          "BRA"
         ],
         "name": "",
         "type": "choropleth",
         "z": [
          2099,
          1351,
          303,
          269,
          126,
          76,
          36,
          14,
          13,
          11,
          9,
          6,
          5,
          3,
          3
         ]
        }
       ],
       "layout": {
        "coloraxis": {
         "colorbar": {
          "title": {
           "text": "counts"
          }
         },
         "colorscale": [
          [
           0,
           "rgb(253, 237, 176)"
          ],
          [
           0.09090909090909091,
           "rgb(250, 205, 145)"
          ],
          [
           0.18181818181818182,
           "rgb(246, 173, 119)"
          ],
          [
           0.2727272727272727,
           "rgb(240, 142, 98)"
          ],
          [
           0.36363636363636365,
           "rgb(231, 109, 84)"
          ],
          [
           0.45454545454545453,
           "rgb(216, 80, 83)"
          ],
          [
           0.5454545454545454,
           "rgb(195, 56, 90)"
          ],
          [
           0.6363636363636364,
           "rgb(168, 40, 96)"
          ],
          [
           0.7272727272727273,
           "rgb(138, 29, 99)"
          ],
          [
           0.8181818181818182,
           "rgb(107, 24, 93)"
          ],
          [
           0.9090909090909091,
           "rgb(76, 21, 80)"
          ],
          [
           1,
           "rgb(47, 15, 61)"
          ]
         ],
         "showscale": true
        },
        "geo": {
         "center": {},
         "domain": {
          "x": [
           0,
           1
          ],
          "y": [
           0,
           1
          ]
         }
        },
        "legend": {
         "tracegroupgap": 0
        },
        "margin": {
         "t": 60
        },
        "template": {
         "data": {
          "bar": [
           {
            "error_x": {
             "color": "#2a3f5f"
            },
            "error_y": {
             "color": "#2a3f5f"
            },
            "marker": {
             "line": {
              "color": "#E5ECF6",
              "width": 0.5
             },
             "pattern": {
              "fillmode": "overlay",
              "size": 10,
              "solidity": 0.2
             }
            },
            "type": "bar"
           }
          ],
          "barpolar": [
           {
            "marker": {
             "line": {
              "color": "#E5ECF6",
              "width": 0.5
             },
             "pattern": {
              "fillmode": "overlay",
              "size": 10,
              "solidity": 0.2
             }
            },
            "type": "barpolar"
           }
          ],
          "carpet": [
           {
            "aaxis": {
             "endlinecolor": "#2a3f5f",
             "gridcolor": "white",
             "linecolor": "white",
             "minorgridcolor": "white",
             "startlinecolor": "#2a3f5f"
            },
            "baxis": {
             "endlinecolor": "#2a3f5f",
             "gridcolor": "white",
             "linecolor": "white",
             "minorgridcolor": "white",
             "startlinecolor": "#2a3f5f"
            },
            "type": "carpet"
           }
          ],
          "choropleth": [
           {
            "colorbar": {
             "outlinewidth": 0,
             "ticks": ""
            },
            "type": "choropleth"
           }
          ],
          "contour": [
           {
            "colorbar": {
             "outlinewidth": 0,
             "ticks": ""
            },
            "colorscale": [
             [
              0,
              "#0d0887"
             ],
             [
              0.1111111111111111,
              "#46039f"
             ],
             [
              0.2222222222222222,
              "#7201a8"
             ],
             [
              0.3333333333333333,
              "#9c179e"
             ],
             [
              0.4444444444444444,
              "#bd3786"
             ],
             [
              0.5555555555555556,
              "#d8576b"
             ],
             [
              0.6666666666666666,
              "#ed7953"
             ],
             [
              0.7777777777777778,
              "#fb9f3a"
             ],
             [
              0.8888888888888888,
              "#fdca26"
             ],
             [
              1,
              "#f0f921"
             ]
            ],
            "type": "contour"
           }
          ],
          "contourcarpet": [
           {
            "colorbar": {
             "outlinewidth": 0,
             "ticks": ""
            },
            "type": "contourcarpet"
           }
          ],
          "heatmap": [
           {
            "colorbar": {
             "outlinewidth": 0,
             "ticks": ""
            },
            "colorscale": [
             [
              0,
              "#0d0887"
             ],
             [
              0.1111111111111111,
              "#46039f"
             ],
             [
              0.2222222222222222,
              "#7201a8"
             ],
             [
              0.3333333333333333,
              "#9c179e"
             ],
             [
              0.4444444444444444,
              "#bd3786"
             ],
             [
              0.5555555555555556,
              "#d8576b"
             ],
             [
              0.6666666666666666,
              "#ed7953"
             ],
             [
              0.7777777777777778,
              "#fb9f3a"
             ],
             [
              0.8888888888888888,
              "#fdca26"
             ],
             [
              1,
              "#f0f921"
             ]
            ],
            "type": "heatmap"
           }
          ],
          "heatmapgl": [
           {
            "colorbar": {
             "outlinewidth": 0,
             "ticks": ""
            },
            "colorscale": [
             [
              0,
              "#0d0887"
             ],
             [
              0.1111111111111111,
              "#46039f"
             ],
             [
              0.2222222222222222,
              "#7201a8"
             ],
             [
              0.3333333333333333,
              "#9c179e"
             ],
             [
              0.4444444444444444,
              "#bd3786"
             ],
             [
              0.5555555555555556,
              "#d8576b"
             ],
             [
              0.6666666666666666,
              "#ed7953"
             ],
             [
              0.7777777777777778,
              "#fb9f3a"
             ],
             [
              0.8888888888888888,
              "#fdca26"
             ],
             [
              1,
              "#f0f921"
             ]
            ],
            "type": "heatmapgl"
           }
          ],
          "histogram": [
           {
            "marker": {
             "pattern": {
              "fillmode": "overlay",
              "size": 10,
              "solidity": 0.2
             }
            },
            "type": "histogram"
           }
          ],
          "histogram2d": [
           {
            "colorbar": {
             "outlinewidth": 0,
             "ticks": ""
            },
            "colorscale": [
             [
              0,
              "#0d0887"
             ],
             [
              0.1111111111111111,
              "#46039f"
             ],
             [
              0.2222222222222222,
              "#7201a8"
             ],
             [
              0.3333333333333333,
              "#9c179e"
             ],
             [
              0.4444444444444444,
              "#bd3786"
             ],
             [
              0.5555555555555556,
              "#d8576b"
             ],
             [
              0.6666666666666666,
              "#ed7953"
             ],
             [
              0.7777777777777778,
              "#fb9f3a"
             ],
             [
              0.8888888888888888,
              "#fdca26"
             ],
             [
              1,
              "#f0f921"
             ]
            ],
            "type": "histogram2d"
           }
          ],
          "histogram2dcontour": [
           {
            "colorbar": {
             "outlinewidth": 0,
             "ticks": ""
            },
            "colorscale": [
             [
              0,
              "#0d0887"
             ],
             [
              0.1111111111111111,
              "#46039f"
             ],
             [
              0.2222222222222222,
              "#7201a8"
             ],
             [
              0.3333333333333333,
              "#9c179e"
             ],
             [
              0.4444444444444444,
              "#bd3786"
             ],
             [
              0.5555555555555556,
              "#d8576b"
             ],
             [
              0.6666666666666666,
              "#ed7953"
             ],
             [
              0.7777777777777778,
              "#fb9f3a"
             ],
             [
              0.8888888888888888,
              "#fdca26"
             ],
             [
              1,
              "#f0f921"
             ]
            ],
            "type": "histogram2dcontour"
           }
          ],
          "mesh3d": [
           {
            "colorbar": {
             "outlinewidth": 0,
             "ticks": ""
            },
            "type": "mesh3d"
           }
          ],
          "parcoords": [
           {
            "line": {
             "colorbar": {
              "outlinewidth": 0,
              "ticks": ""
             }
            },
            "type": "parcoords"
           }
          ],
          "pie": [
           {
            "automargin": true,
            "type": "pie"
           }
          ],
          "scatter": [
           {
            "marker": {
             "colorbar": {
              "outlinewidth": 0,
              "ticks": ""
             }
            },
            "type": "scatter"
           }
          ],
          "scatter3d": [
           {
            "line": {
             "colorbar": {
              "outlinewidth": 0,
              "ticks": ""
             }
            },
            "marker": {
             "colorbar": {
              "outlinewidth": 0,
              "ticks": ""
             }
            },
            "type": "scatter3d"
           }
          ],
          "scattercarpet": [
           {
            "marker": {
             "colorbar": {
              "outlinewidth": 0,
              "ticks": ""
             }
            },
            "type": "scattercarpet"
           }
          ],
          "scattergeo": [
           {
            "marker": {
             "colorbar": {
              "outlinewidth": 0,
              "ticks": ""
             }
            },
            "type": "scattergeo"
           }
          ],
          "scattergl": [
           {
            "marker": {
             "colorbar": {
              "outlinewidth": 0,
              "ticks": ""
             }
            },
            "type": "scattergl"
           }
          ],
          "scattermapbox": [
           {
            "marker": {
             "colorbar": {
              "outlinewidth": 0,
              "ticks": ""
             }
            },
            "type": "scattermapbox"
           }
          ],
          "scatterpolar": [
           {
            "marker": {
             "colorbar": {
              "outlinewidth": 0,
              "ticks": ""
             }
            },
            "type": "scatterpolar"
           }
          ],
          "scatterpolargl": [
           {
            "marker": {
             "colorbar": {
              "outlinewidth": 0,
              "ticks": ""
             }
            },
            "type": "scatterpolargl"
           }
          ],
          "scatterternary": [
           {
            "marker": {
             "colorbar": {
              "outlinewidth": 0,
              "ticks": ""
             }
            },
            "type": "scatterternary"
           }
          ],
          "surface": [
           {
            "colorbar": {
             "outlinewidth": 0,
             "ticks": ""
            },
            "colorscale": [
             [
              0,
              "#0d0887"
             ],
             [
              0.1111111111111111,
              "#46039f"
             ],
             [
              0.2222222222222222,
              "#7201a8"
             ],
             [
              0.3333333333333333,
              "#9c179e"
             ],
             [
              0.4444444444444444,
              "#bd3786"
             ],
             [
              0.5555555555555556,
              "#d8576b"
             ],
             [
              0.6666666666666666,
              "#ed7953"
             ],
             [
              0.7777777777777778,
              "#fb9f3a"
             ],
             [
              0.8888888888888888,
              "#fdca26"
             ],
             [
              1,
              "#f0f921"
             ]
            ],
            "type": "surface"
           }
          ],
          "table": [
           {
            "cells": {
             "fill": {
              "color": "#EBF0F8"
             },
             "line": {
              "color": "white"
             }
            },
            "header": {
             "fill": {
              "color": "#C8D4E3"
             },
             "line": {
              "color": "white"
             }
            },
            "type": "table"
           }
          ]
         },
         "layout": {
          "annotationdefaults": {
           "arrowcolor": "#2a3f5f",
           "arrowhead": 0,
           "arrowwidth": 1
          },
          "autotypenumbers": "strict",
          "coloraxis": {
           "colorbar": {
            "outlinewidth": 0,
            "ticks": ""
           }
          },
          "colorscale": {
           "diverging": [
            [
             0,
             "#8e0152"
            ],
            [
             0.1,
             "#c51b7d"
            ],
            [
             0.2,
             "#de77ae"
            ],
            [
             0.3,
             "#f1b6da"
            ],
            [
             0.4,
             "#fde0ef"
            ],
            [
             0.5,
             "#f7f7f7"
            ],
            [
             0.6,
             "#e6f5d0"
            ],
            [
             0.7,
             "#b8e186"
            ],
            [
             0.8,
             "#7fbc41"
            ],
            [
             0.9,
             "#4d9221"
            ],
            [
             1,
             "#276419"
            ]
           ],
           "sequential": [
            [
             0,
             "#0d0887"
            ],
            [
             0.1111111111111111,
             "#46039f"
            ],
            [
             0.2222222222222222,
             "#7201a8"
            ],
            [
             0.3333333333333333,
             "#9c179e"
            ],
            [
             0.4444444444444444,
             "#bd3786"
            ],
            [
             0.5555555555555556,
             "#d8576b"
            ],
            [
             0.6666666666666666,
             "#ed7953"
            ],
            [
             0.7777777777777778,
             "#fb9f3a"
            ],
            [
             0.8888888888888888,
             "#fdca26"
            ],
            [
             1,
             "#f0f921"
            ]
           ],
           "sequentialminus": [
            [
             0,
             "#0d0887"
            ],
            [
             0.1111111111111111,
             "#46039f"
            ],
            [
             0.2222222222222222,
             "#7201a8"
            ],
            [
             0.3333333333333333,
             "#9c179e"
            ],
            [
             0.4444444444444444,
             "#bd3786"
            ],
            [
             0.5555555555555556,
             "#d8576b"
            ],
            [
             0.6666666666666666,
             "#ed7953"
            ],
            [
             0.7777777777777778,
             "#fb9f3a"
            ],
            [
             0.8888888888888888,
             "#fdca26"
            ],
            [
             1,
             "#f0f921"
            ]
           ]
          },
          "colorway": [
           "#636efa",
           "#EF553B",
           "#00cc96",
           "#ab63fa",
           "#FFA15A",
           "#19d3f3",
           "#FF6692",
           "#B6E880",
           "#FF97FF",
           "#FECB52"
          ],
          "font": {
           "color": "#2a3f5f"
          },
          "geo": {
           "bgcolor": "white",
           "lakecolor": "white",
           "landcolor": "#E5ECF6",
           "showlakes": true,
           "showland": true,
           "subunitcolor": "white"
          },
          "hoverlabel": {
           "align": "left"
          },
          "hovermode": "closest",
          "mapbox": {
           "style": "light"
          },
          "paper_bgcolor": "white",
          "plot_bgcolor": "#E5ECF6",
          "polar": {
           "angularaxis": {
            "gridcolor": "white",
            "linecolor": "white",
            "ticks": ""
           },
           "bgcolor": "#E5ECF6",
           "radialaxis": {
            "gridcolor": "white",
            "linecolor": "white",
            "ticks": ""
           }
          },
          "scene": {
           "xaxis": {
            "backgroundcolor": "#E5ECF6",
            "gridcolor": "white",
            "gridwidth": 2,
            "linecolor": "white",
            "showbackground": true,
            "ticks": "",
            "zerolinecolor": "white"
           },
           "yaxis": {
            "backgroundcolor": "#E5ECF6",
            "gridcolor": "white",
            "gridwidth": 2,
            "linecolor": "white",
            "showbackground": true,
            "ticks": "",
            "zerolinecolor": "white"
           },
           "zaxis": {
            "backgroundcolor": "#E5ECF6",
            "gridcolor": "white",
            "gridwidth": 2,
            "linecolor": "white",
            "showbackground": true,
            "ticks": "",
            "zerolinecolor": "white"
           }
          },
          "shapedefaults": {
           "line": {
            "color": "#2a3f5f"
           }
          },
          "ternary": {
           "aaxis": {
            "gridcolor": "white",
            "linecolor": "white",
            "ticks": ""
           },
           "baxis": {
            "gridcolor": "white",
            "linecolor": "white",
            "ticks": ""
           },
           "bgcolor": "#E5ECF6",
           "caxis": {
            "gridcolor": "white",
            "linecolor": "white",
            "ticks": ""
           }
          },
          "title": {
           "x": 0.05
          },
          "xaxis": {
           "automargin": true,
           "gridcolor": "white",
           "linecolor": "white",
           "ticks": "",
           "title": {
            "standoff": 15
           },
           "zerolinecolor": "white",
           "zerolinewidth": 2
          },
          "yaxis": {
           "automargin": true,
           "gridcolor": "white",
           "linecolor": "white",
           "ticks": "",
           "title": {
            "standoff": 15
           },
           "zerolinecolor": "white",
           "zerolinewidth": 2
          }
         }
        }
       }
      }
     },
     "metadata": {},
     "output_type": "display_data"
    },
    {
     "data": {
      "text/html": [
       "<div>\n",
       "<style scoped>\n",
       "    .dataframe tbody tr th:only-of-type {\n",
       "        vertical-align: middle;\n",
       "    }\n",
       "\n",
       "    .dataframe tbody tr th {\n",
       "        vertical-align: top;\n",
       "    }\n",
       "\n",
       "    .dataframe thead th {\n",
       "        text-align: right;\n",
       "    }\n",
       "</style>\n",
       "<table border=\"1\" class=\"dataframe\">\n",
       "  <thead>\n",
       "    <tr style=\"text-align: right;\">\n",
       "      <th></th>\n",
       "      <th>Organisation</th>\n",
       "      <th>Location</th>\n",
       "      <th>Date</th>\n",
       "      <th>Detail</th>\n",
       "      <th>Rocket_Status</th>\n",
       "      <th>Price</th>\n",
       "      <th>Mission_Status</th>\n",
       "      <th>Country</th>\n",
       "    </tr>\n",
       "  </thead>\n",
       "  <tbody>\n",
       "    <tr>\n",
       "      <th>0</th>\n",
       "      <td>SpaceX</td>\n",
       "      <td>LC-39A, Kennedy Space Center, Florida, USA</td>\n",
       "      <td>Fri Aug 07, 2020 05:12 UTC</td>\n",
       "      <td>Falcon 9 Block 5 | Starlink V1 L9 &amp; BlackSky</td>\n",
       "      <td>StatusActive</td>\n",
       "      <td>50.0</td>\n",
       "      <td>Success</td>\n",
       "      <td>USA</td>\n",
       "    </tr>\n",
       "    <tr>\n",
       "      <th>1</th>\n",
       "      <td>CASC</td>\n",
       "      <td>Site 9401 (SLS-2), Jiuquan Satellite Launch Ce...</td>\n",
       "      <td>Thu Aug 06, 2020 04:01 UTC</td>\n",
       "      <td>Long March 2D | Gaofen-9 04 &amp; Q-SAT</td>\n",
       "      <td>StatusActive</td>\n",
       "      <td>29.75</td>\n",
       "      <td>Success</td>\n",
       "      <td>CHN</td>\n",
       "    </tr>\n",
       "    <tr>\n",
       "      <th>2</th>\n",
       "      <td>SpaceX</td>\n",
       "      <td>Pad A, Boca Chica, Texas, USA</td>\n",
       "      <td>Tue Aug 04, 2020 23:57 UTC</td>\n",
       "      <td>Starship Prototype | 150 Meter Hop</td>\n",
       "      <td>StatusActive</td>\n",
       "      <td>NaN</td>\n",
       "      <td>Success</td>\n",
       "      <td>USA</td>\n",
       "    </tr>\n",
       "    <tr>\n",
       "      <th>3</th>\n",
       "      <td>Roscosmos</td>\n",
       "      <td>Site 200/39, Baikonur Cosmodrome, Kazakhstan</td>\n",
       "      <td>Thu Jul 30, 2020 21:25 UTC</td>\n",
       "      <td>Proton-M/Briz-M | Ekspress-80 &amp; Ekspress-103</td>\n",
       "      <td>StatusActive</td>\n",
       "      <td>65.0</td>\n",
       "      <td>Success</td>\n",
       "      <td>RUS</td>\n",
       "    </tr>\n",
       "    <tr>\n",
       "      <th>4</th>\n",
       "      <td>ULA</td>\n",
       "      <td>SLC-41, Cape Canaveral AFS, Florida, USA</td>\n",
       "      <td>Thu Jul 30, 2020 11:50 UTC</td>\n",
       "      <td>Atlas V 541 | Perseverance</td>\n",
       "      <td>StatusActive</td>\n",
       "      <td>145.0</td>\n",
       "      <td>Success</td>\n",
       "      <td>USA</td>\n",
       "    </tr>\n",
       "  </tbody>\n",
       "</table>\n",
       "</div>"
      ],
      "text/plain": [
       "  Organisation                                           Location  \\\n",
       "0       SpaceX         LC-39A, Kennedy Space Center, Florida, USA   \n",
       "1         CASC  Site 9401 (SLS-2), Jiuquan Satellite Launch Ce...   \n",
       "2       SpaceX                      Pad A, Boca Chica, Texas, USA   \n",
       "3    Roscosmos       Site 200/39, Baikonur Cosmodrome, Kazakhstan   \n",
       "4          ULA           SLC-41, Cape Canaveral AFS, Florida, USA   \n",
       "\n",
       "                         Date                                        Detail  \\\n",
       "0  Fri Aug 07, 2020 05:12 UTC  Falcon 9 Block 5 | Starlink V1 L9 & BlackSky   \n",
       "1  Thu Aug 06, 2020 04:01 UTC           Long March 2D | Gaofen-9 04 & Q-SAT   \n",
       "2  Tue Aug 04, 2020 23:57 UTC            Starship Prototype | 150 Meter Hop   \n",
       "3  Thu Jul 30, 2020 21:25 UTC  Proton-M/Briz-M | Ekspress-80 & Ekspress-103   \n",
       "4  Thu Jul 30, 2020 11:50 UTC                    Atlas V 541 | Perseverance   \n",
       "\n",
       "  Rocket_Status  Price Mission_Status Country  \n",
       "0  StatusActive   50.0        Success     USA  \n",
       "1  StatusActive  29.75        Success     CHN  \n",
       "2  StatusActive    NaN        Success     USA  \n",
       "3  StatusActive   65.0        Success     RUS  \n",
       "4  StatusActive  145.0        Success     USA  "
      ]
     },
     "execution_count": 26,
     "metadata": {},
     "output_type": "execute_result"
    }
   ],
   "source": [
    "df_data[\"Country\"] = df_data[\"Location\"].str.split(\", \").str[-1]\n",
    "\n",
    "df_data.loc[(df_data[\"Country\"] == 'Russia'), \"Country\"] = \"Russian Federation\"\n",
    "df_data.loc[(df_data[\"Country\"] == 'New Mexico'), \"Country\"] = \"USA\"\n",
    "df_data.loc[(df_data[\"Country\"] == 'Yellow Sea'), \"Country\"] = \"China\"\n",
    "df_data.loc[(df_data[\"Country\"] == 'Shahrud Missile Test Site'), \"Country\"] = \"Iran\"\n",
    "df_data.loc[(df_data[\"Country\"] == 'Pacific Missile Range Facility'), \"Country\"] = \"USA\"\n",
    "df_data.loc[(df_data[\"Country\"] == 'Barents Sea'), \"Country\"] = \"Russian Federation\"\n",
    "df_data.loc[(df_data[\"Country\"] == 'Gran Canaria'), \"Country\"] = \"USA\"\n",
    "df_data.loc[(df_data[\"Country\"] == 'Iran'), \"Country\"] = \"Iran, Islamic Republic of\"\n",
    "df_data.loc[(df_data[\"Country\"] == 'South Korea'), \"Country\"] = \"Korea, Republic of\"\n",
    "df_data.loc[(df_data[\"Country\"] == 'North Korea'), \"Country\"] = \"Korea, Democratic People's Republic of\"\n",
    "df_data.loc[(df_data[\"Country\"] == 'Kazakhstan'), \"Country\"] = \"Russian Federation\"\n",
    "\n",
    "countries = {country.name: key for key, country in iso.countries_by_alpha3.items()}\n",
    "df_data = df_data.replace({\"Country\": countries})\n",
    "\n",
    "launches = df_data[\"Country\"].value_counts().rename_axis(\"Country\").reset_index(name='counts')\n",
    "launches.head()\n",
    "\n",
    "world_map = px.choropleth(launches, locations=\"Country\", color=\"counts\", color_continuous_scale=px.colors.sequential.matter)\n",
    "world_map.update_layout(coloraxis_showscale=True)\n",
    "world_map.show()\n",
    "df_data.head()"
   ]
  },
  {
   "cell_type": "code",
   "execution_count": 27,
   "metadata": {},
   "outputs": [
    {
     "name": "stdout",
     "output_type": "stream",
     "text": [
      "Afghanistan\n",
      "Åland Islands\n",
      "Albania\n",
      "Algeria\n",
      "American Samoa\n",
      "Andorra\n",
      "Angola\n",
      "Anguilla\n",
      "Antarctica\n",
      "Antigua and Barbuda\n",
      "Argentina\n",
      "Armenia\n",
      "Aruba\n",
      "Australia\n",
      "Austria\n",
      "Azerbaijan\n",
      "Bahamas\n",
      "Bahrain\n",
      "Bangladesh\n",
      "Barbados\n",
      "Belarus\n",
      "Belgium\n",
      "Belize\n",
      "Benin\n",
      "Bermuda\n",
      "Bhutan\n",
      "Bolivia, Plurinational State of\n",
      "Bonaire, Sint Eustatius and Saba\n",
      "Bosnia and Herzegovina\n",
      "Botswana\n",
      "Bouvet Island\n",
      "Brazil\n",
      "British Indian Ocean Territory\n",
      "Brunei Darussalam\n",
      "Bulgaria\n",
      "Burkina Faso\n",
      "Burundi\n",
      "Cambodia\n",
      "Cameroon\n",
      "Canada\n",
      "Cabo Verde\n",
      "Cayman Islands\n",
      "Central African Republic\n",
      "Chad\n",
      "Chile\n",
      "China\n",
      "Christmas Island\n",
      "Cocos (Keeling) Islands\n",
      "Colombia\n",
      "Comoros\n",
      "Congo\n",
      "Congo, Democratic Republic of the\n",
      "Cook Islands\n",
      "Costa Rica\n",
      "Côte d'Ivoire\n",
      "Croatia\n",
      "Cuba\n",
      "Curaçao\n",
      "Cyprus\n",
      "Czechia\n",
      "Denmark\n",
      "Djibouti\n",
      "Dominica\n",
      "Dominican Republic\n",
      "Ecuador\n",
      "Egypt\n",
      "El Salvador\n",
      "Equatorial Guinea\n",
      "Eritrea\n",
      "Estonia\n",
      "Ethiopia\n",
      "Falkland Islands (Malvinas)\n",
      "Faroe Islands\n",
      "Fiji\n",
      "Finland\n",
      "France\n",
      "French Guiana\n",
      "French Polynesia\n",
      "French Southern Territories\n",
      "Gabon\n",
      "Gambia\n",
      "Georgia\n",
      "Germany\n",
      "Ghana\n",
      "Gibraltar\n",
      "Greece\n",
      "Greenland\n",
      "Grenada\n",
      "Guadeloupe\n",
      "Guam\n",
      "Guatemala\n",
      "Guernsey\n",
      "Guinea\n",
      "Guinea-Bissau\n",
      "Guyana\n",
      "Haiti\n",
      "Heard Island and McDonald Islands\n",
      "Holy See\n",
      "Honduras\n",
      "Hong Kong\n",
      "Hungary\n",
      "Iceland\n",
      "India\n",
      "Indonesia\n",
      "Iran, Islamic Republic of\n",
      "Iraq\n",
      "Ireland\n",
      "Isle of Man\n",
      "Israel\n",
      "Italy\n",
      "Jamaica\n",
      "Japan\n",
      "Jersey\n",
      "Jordan\n",
      "Kazakhstan\n",
      "Kenya\n",
      "Kiribati\n",
      "Korea, Democratic People's Republic of\n",
      "Korea, Republic of\n",
      "Kosovo\n",
      "Kuwait\n",
      "Kyrgyzstan\n",
      "Lao People's Democratic Republic\n",
      "Latvia\n",
      "Lebanon\n",
      "Lesotho\n",
      "Liberia\n",
      "Libya\n",
      "Liechtenstein\n",
      "Lithuania\n",
      "Luxembourg\n",
      "Macao\n",
      "North Macedonia\n",
      "Madagascar\n",
      "Malawi\n",
      "Malaysia\n",
      "Maldives\n",
      "Mali\n",
      "Malta\n",
      "Marshall Islands\n",
      "Martinique\n",
      "Mauritania\n",
      "Mauritius\n",
      "Mayotte\n",
      "Mexico\n",
      "Micronesia, Federated States of\n",
      "Moldova, Republic of\n",
      "Monaco\n",
      "Mongolia\n",
      "Montenegro\n",
      "Montserrat\n",
      "Morocco\n",
      "Mozambique\n",
      "Myanmar\n",
      "Namibia\n",
      "Nauru\n",
      "Nepal\n",
      "Netherlands\n",
      "New Caledonia\n",
      "New Zealand\n",
      "Nicaragua\n",
      "Niger\n",
      "Nigeria\n",
      "Niue\n",
      "Norfolk Island\n",
      "Northern Mariana Islands\n",
      "Norway\n",
      "Oman\n",
      "Pakistan\n",
      "Palau\n",
      "Palestine, State of\n",
      "Panama\n",
      "Papua New Guinea\n",
      "Paraguay\n",
      "Peru\n",
      "Philippines\n",
      "Pitcairn\n",
      "Poland\n",
      "Portugal\n",
      "Puerto Rico\n",
      "Qatar\n",
      "Réunion\n",
      "Romania\n",
      "Russian Federation\n",
      "Rwanda\n",
      "Saint Barthélemy\n",
      "Saint Helena, Ascension and Tristan da Cunha\n",
      "Saint Kitts and Nevis\n",
      "Saint Lucia\n",
      "Saint Martin (French part)\n",
      "Saint Pierre and Miquelon\n",
      "Saint Vincent and the Grenadines\n",
      "Samoa\n",
      "San Marino\n",
      "Sao Tome and Principe\n",
      "Saudi Arabia\n",
      "Senegal\n",
      "Serbia\n",
      "Seychelles\n",
      "Sierra Leone\n",
      "Singapore\n",
      "Sint Maarten (Dutch part)\n",
      "Slovakia\n",
      "Slovenia\n",
      "Solomon Islands\n",
      "Somalia\n",
      "South Africa\n",
      "South Georgia and the South Sandwich Islands\n",
      "South Sudan\n",
      "Spain\n",
      "Sri Lanka\n",
      "Sudan\n",
      "Suriname\n",
      "Svalbard and Jan Mayen\n",
      "Eswatini\n",
      "Sweden\n",
      "Switzerland\n",
      "Syrian Arab Republic\n",
      "Taiwan, Province of China\n",
      "Tajikistan\n",
      "Tanzania, United Republic of\n",
      "Thailand\n",
      "Timor-Leste\n",
      "Togo\n",
      "Tokelau\n",
      "Tonga\n",
      "Trinidad and Tobago\n",
      "Tunisia\n",
      "Turkey\n",
      "Turkmenistan\n",
      "Turks and Caicos Islands\n",
      "Tuvalu\n",
      "Uganda\n",
      "Ukraine\n",
      "United Arab Emirates\n",
      "United Kingdom of Great Britain and Northern Ireland\n",
      "United States of America\n",
      "United States Minor Outlying Islands\n",
      "Uruguay\n",
      "Uzbekistan\n",
      "Vanuatu\n",
      "Venezuela, Bolivarian Republic of\n",
      "Viet Nam\n",
      "Virgin Islands, British\n",
      "Virgin Islands, U.S.\n",
      "Wallis and Futuna\n",
      "Western Sahara\n",
      "Yemen\n",
      "Zambia\n",
      "Zimbabwe\n"
     ]
    }
   ],
   "source": [
    "for c in countries: \n",
    "    print(c)"
   ]
  },
  {
   "cell_type": "markdown",
   "metadata": {
    "id": "F3pwYSUlo_AK"
   },
   "source": [
    "# Use a Choropleth Map to Show the Number of Failures by Country\n"
   ]
  },
  {
   "cell_type": "code",
   "execution_count": 28,
   "metadata": {
    "id": "sfw-q7Obo9GM",
    "scrolled": true
   },
   "outputs": [
    {
     "data": {
      "application/vnd.plotly.v1+json": {
       "config": {
        "plotlyServerURL": "https://plot.ly"
       },
       "data": [
        {
         "coloraxis": "coloraxis",
         "geo": "geo",
         "hovertemplate": "Country=%{location}<br>counts=%{z}<extra></extra>",
         "locations": [
          "AUS",
          "BRA",
          "CHN",
          "FRA",
          "IND",
          "IRN",
          "ISR",
          "JPN",
          "KOR",
          "NZL",
          "PRK",
          "Pacific Ocean",
          "RUS",
          "USA"
         ],
         "name": "",
         "type": "choropleth",
         "z": [
          3,
          3,
          25,
          18,
          13,
          9,
          2,
          13,
          2,
          2,
          3,
          3,
          186,
          163
         ]
        }
       ],
       "layout": {
        "coloraxis": {
         "colorbar": {
          "title": {
           "text": "counts"
          }
         },
         "colorscale": [
          [
           0,
           "rgb(253, 237, 176)"
          ],
          [
           0.09090909090909091,
           "rgb(250, 205, 145)"
          ],
          [
           0.18181818181818182,
           "rgb(246, 173, 119)"
          ],
          [
           0.2727272727272727,
           "rgb(240, 142, 98)"
          ],
          [
           0.36363636363636365,
           "rgb(231, 109, 84)"
          ],
          [
           0.45454545454545453,
           "rgb(216, 80, 83)"
          ],
          [
           0.5454545454545454,
           "rgb(195, 56, 90)"
          ],
          [
           0.6363636363636364,
           "rgb(168, 40, 96)"
          ],
          [
           0.7272727272727273,
           "rgb(138, 29, 99)"
          ],
          [
           0.8181818181818182,
           "rgb(107, 24, 93)"
          ],
          [
           0.9090909090909091,
           "rgb(76, 21, 80)"
          ],
          [
           1,
           "rgb(47, 15, 61)"
          ]
         ],
         "showscale": true
        },
        "geo": {
         "center": {},
         "domain": {
          "x": [
           0,
           1
          ],
          "y": [
           0,
           1
          ]
         }
        },
        "legend": {
         "tracegroupgap": 0
        },
        "margin": {
         "t": 60
        },
        "template": {
         "data": {
          "bar": [
           {
            "error_x": {
             "color": "#2a3f5f"
            },
            "error_y": {
             "color": "#2a3f5f"
            },
            "marker": {
             "line": {
              "color": "#E5ECF6",
              "width": 0.5
             },
             "pattern": {
              "fillmode": "overlay",
              "size": 10,
              "solidity": 0.2
             }
            },
            "type": "bar"
           }
          ],
          "barpolar": [
           {
            "marker": {
             "line": {
              "color": "#E5ECF6",
              "width": 0.5
             },
             "pattern": {
              "fillmode": "overlay",
              "size": 10,
              "solidity": 0.2
             }
            },
            "type": "barpolar"
           }
          ],
          "carpet": [
           {
            "aaxis": {
             "endlinecolor": "#2a3f5f",
             "gridcolor": "white",
             "linecolor": "white",
             "minorgridcolor": "white",
             "startlinecolor": "#2a3f5f"
            },
            "baxis": {
             "endlinecolor": "#2a3f5f",
             "gridcolor": "white",
             "linecolor": "white",
             "minorgridcolor": "white",
             "startlinecolor": "#2a3f5f"
            },
            "type": "carpet"
           }
          ],
          "choropleth": [
           {
            "colorbar": {
             "outlinewidth": 0,
             "ticks": ""
            },
            "type": "choropleth"
           }
          ],
          "contour": [
           {
            "colorbar": {
             "outlinewidth": 0,
             "ticks": ""
            },
            "colorscale": [
             [
              0,
              "#0d0887"
             ],
             [
              0.1111111111111111,
              "#46039f"
             ],
             [
              0.2222222222222222,
              "#7201a8"
             ],
             [
              0.3333333333333333,
              "#9c179e"
             ],
             [
              0.4444444444444444,
              "#bd3786"
             ],
             [
              0.5555555555555556,
              "#d8576b"
             ],
             [
              0.6666666666666666,
              "#ed7953"
             ],
             [
              0.7777777777777778,
              "#fb9f3a"
             ],
             [
              0.8888888888888888,
              "#fdca26"
             ],
             [
              1,
              "#f0f921"
             ]
            ],
            "type": "contour"
           }
          ],
          "contourcarpet": [
           {
            "colorbar": {
             "outlinewidth": 0,
             "ticks": ""
            },
            "type": "contourcarpet"
           }
          ],
          "heatmap": [
           {
            "colorbar": {
             "outlinewidth": 0,
             "ticks": ""
            },
            "colorscale": [
             [
              0,
              "#0d0887"
             ],
             [
              0.1111111111111111,
              "#46039f"
             ],
             [
              0.2222222222222222,
              "#7201a8"
             ],
             [
              0.3333333333333333,
              "#9c179e"
             ],
             [
              0.4444444444444444,
              "#bd3786"
             ],
             [
              0.5555555555555556,
              "#d8576b"
             ],
             [
              0.6666666666666666,
              "#ed7953"
             ],
             [
              0.7777777777777778,
              "#fb9f3a"
             ],
             [
              0.8888888888888888,
              "#fdca26"
             ],
             [
              1,
              "#f0f921"
             ]
            ],
            "type": "heatmap"
           }
          ],
          "heatmapgl": [
           {
            "colorbar": {
             "outlinewidth": 0,
             "ticks": ""
            },
            "colorscale": [
             [
              0,
              "#0d0887"
             ],
             [
              0.1111111111111111,
              "#46039f"
             ],
             [
              0.2222222222222222,
              "#7201a8"
             ],
             [
              0.3333333333333333,
              "#9c179e"
             ],
             [
              0.4444444444444444,
              "#bd3786"
             ],
             [
              0.5555555555555556,
              "#d8576b"
             ],
             [
              0.6666666666666666,
              "#ed7953"
             ],
             [
              0.7777777777777778,
              "#fb9f3a"
             ],
             [
              0.8888888888888888,
              "#fdca26"
             ],
             [
              1,
              "#f0f921"
             ]
            ],
            "type": "heatmapgl"
           }
          ],
          "histogram": [
           {
            "marker": {
             "pattern": {
              "fillmode": "overlay",
              "size": 10,
              "solidity": 0.2
             }
            },
            "type": "histogram"
           }
          ],
          "histogram2d": [
           {
            "colorbar": {
             "outlinewidth": 0,
             "ticks": ""
            },
            "colorscale": [
             [
              0,
              "#0d0887"
             ],
             [
              0.1111111111111111,
              "#46039f"
             ],
             [
              0.2222222222222222,
              "#7201a8"
             ],
             [
              0.3333333333333333,
              "#9c179e"
             ],
             [
              0.4444444444444444,
              "#bd3786"
             ],
             [
              0.5555555555555556,
              "#d8576b"
             ],
             [
              0.6666666666666666,
              "#ed7953"
             ],
             [
              0.7777777777777778,
              "#fb9f3a"
             ],
             [
              0.8888888888888888,
              "#fdca26"
             ],
             [
              1,
              "#f0f921"
             ]
            ],
            "type": "histogram2d"
           }
          ],
          "histogram2dcontour": [
           {
            "colorbar": {
             "outlinewidth": 0,
             "ticks": ""
            },
            "colorscale": [
             [
              0,
              "#0d0887"
             ],
             [
              0.1111111111111111,
              "#46039f"
             ],
             [
              0.2222222222222222,
              "#7201a8"
             ],
             [
              0.3333333333333333,
              "#9c179e"
             ],
             [
              0.4444444444444444,
              "#bd3786"
             ],
             [
              0.5555555555555556,
              "#d8576b"
             ],
             [
              0.6666666666666666,
              "#ed7953"
             ],
             [
              0.7777777777777778,
              "#fb9f3a"
             ],
             [
              0.8888888888888888,
              "#fdca26"
             ],
             [
              1,
              "#f0f921"
             ]
            ],
            "type": "histogram2dcontour"
           }
          ],
          "mesh3d": [
           {
            "colorbar": {
             "outlinewidth": 0,
             "ticks": ""
            },
            "type": "mesh3d"
           }
          ],
          "parcoords": [
           {
            "line": {
             "colorbar": {
              "outlinewidth": 0,
              "ticks": ""
             }
            },
            "type": "parcoords"
           }
          ],
          "pie": [
           {
            "automargin": true,
            "type": "pie"
           }
          ],
          "scatter": [
           {
            "marker": {
             "colorbar": {
              "outlinewidth": 0,
              "ticks": ""
             }
            },
            "type": "scatter"
           }
          ],
          "scatter3d": [
           {
            "line": {
             "colorbar": {
              "outlinewidth": 0,
              "ticks": ""
             }
            },
            "marker": {
             "colorbar": {
              "outlinewidth": 0,
              "ticks": ""
             }
            },
            "type": "scatter3d"
           }
          ],
          "scattercarpet": [
           {
            "marker": {
             "colorbar": {
              "outlinewidth": 0,
              "ticks": ""
             }
            },
            "type": "scattercarpet"
           }
          ],
          "scattergeo": [
           {
            "marker": {
             "colorbar": {
              "outlinewidth": 0,
              "ticks": ""
             }
            },
            "type": "scattergeo"
           }
          ],
          "scattergl": [
           {
            "marker": {
             "colorbar": {
              "outlinewidth": 0,
              "ticks": ""
             }
            },
            "type": "scattergl"
           }
          ],
          "scattermapbox": [
           {
            "marker": {
             "colorbar": {
              "outlinewidth": 0,
              "ticks": ""
             }
            },
            "type": "scattermapbox"
           }
          ],
          "scatterpolar": [
           {
            "marker": {
             "colorbar": {
              "outlinewidth": 0,
              "ticks": ""
             }
            },
            "type": "scatterpolar"
           }
          ],
          "scatterpolargl": [
           {
            "marker": {
             "colorbar": {
              "outlinewidth": 0,
              "ticks": ""
             }
            },
            "type": "scatterpolargl"
           }
          ],
          "scatterternary": [
           {
            "marker": {
             "colorbar": {
              "outlinewidth": 0,
              "ticks": ""
             }
            },
            "type": "scatterternary"
           }
          ],
          "surface": [
           {
            "colorbar": {
             "outlinewidth": 0,
             "ticks": ""
            },
            "colorscale": [
             [
              0,
              "#0d0887"
             ],
             [
              0.1111111111111111,
              "#46039f"
             ],
             [
              0.2222222222222222,
              "#7201a8"
             ],
             [
              0.3333333333333333,
              "#9c179e"
             ],
             [
              0.4444444444444444,
              "#bd3786"
             ],
             [
              0.5555555555555556,
              "#d8576b"
             ],
             [
              0.6666666666666666,
              "#ed7953"
             ],
             [
              0.7777777777777778,
              "#fb9f3a"
             ],
             [
              0.8888888888888888,
              "#fdca26"
             ],
             [
              1,
              "#f0f921"
             ]
            ],
            "type": "surface"
           }
          ],
          "table": [
           {
            "cells": {
             "fill": {
              "color": "#EBF0F8"
             },
             "line": {
              "color": "white"
             }
            },
            "header": {
             "fill": {
              "color": "#C8D4E3"
             },
             "line": {
              "color": "white"
             }
            },
            "type": "table"
           }
          ]
         },
         "layout": {
          "annotationdefaults": {
           "arrowcolor": "#2a3f5f",
           "arrowhead": 0,
           "arrowwidth": 1
          },
          "autotypenumbers": "strict",
          "coloraxis": {
           "colorbar": {
            "outlinewidth": 0,
            "ticks": ""
           }
          },
          "colorscale": {
           "diverging": [
            [
             0,
             "#8e0152"
            ],
            [
             0.1,
             "#c51b7d"
            ],
            [
             0.2,
             "#de77ae"
            ],
            [
             0.3,
             "#f1b6da"
            ],
            [
             0.4,
             "#fde0ef"
            ],
            [
             0.5,
             "#f7f7f7"
            ],
            [
             0.6,
             "#e6f5d0"
            ],
            [
             0.7,
             "#b8e186"
            ],
            [
             0.8,
             "#7fbc41"
            ],
            [
             0.9,
             "#4d9221"
            ],
            [
             1,
             "#276419"
            ]
           ],
           "sequential": [
            [
             0,
             "#0d0887"
            ],
            [
             0.1111111111111111,
             "#46039f"
            ],
            [
             0.2222222222222222,
             "#7201a8"
            ],
            [
             0.3333333333333333,
             "#9c179e"
            ],
            [
             0.4444444444444444,
             "#bd3786"
            ],
            [
             0.5555555555555556,
             "#d8576b"
            ],
            [
             0.6666666666666666,
             "#ed7953"
            ],
            [
             0.7777777777777778,
             "#fb9f3a"
            ],
            [
             0.8888888888888888,
             "#fdca26"
            ],
            [
             1,
             "#f0f921"
            ]
           ],
           "sequentialminus": [
            [
             0,
             "#0d0887"
            ],
            [
             0.1111111111111111,
             "#46039f"
            ],
            [
             0.2222222222222222,
             "#7201a8"
            ],
            [
             0.3333333333333333,
             "#9c179e"
            ],
            [
             0.4444444444444444,
             "#bd3786"
            ],
            [
             0.5555555555555556,
             "#d8576b"
            ],
            [
             0.6666666666666666,
             "#ed7953"
            ],
            [
             0.7777777777777778,
             "#fb9f3a"
            ],
            [
             0.8888888888888888,
             "#fdca26"
            ],
            [
             1,
             "#f0f921"
            ]
           ]
          },
          "colorway": [
           "#636efa",
           "#EF553B",
           "#00cc96",
           "#ab63fa",
           "#FFA15A",
           "#19d3f3",
           "#FF6692",
           "#B6E880",
           "#FF97FF",
           "#FECB52"
          ],
          "font": {
           "color": "#2a3f5f"
          },
          "geo": {
           "bgcolor": "white",
           "lakecolor": "white",
           "landcolor": "#E5ECF6",
           "showlakes": true,
           "showland": true,
           "subunitcolor": "white"
          },
          "hoverlabel": {
           "align": "left"
          },
          "hovermode": "closest",
          "mapbox": {
           "style": "light"
          },
          "paper_bgcolor": "white",
          "plot_bgcolor": "#E5ECF6",
          "polar": {
           "angularaxis": {
            "gridcolor": "white",
            "linecolor": "white",
            "ticks": ""
           },
           "bgcolor": "#E5ECF6",
           "radialaxis": {
            "gridcolor": "white",
            "linecolor": "white",
            "ticks": ""
           }
          },
          "scene": {
           "xaxis": {
            "backgroundcolor": "#E5ECF6",
            "gridcolor": "white",
            "gridwidth": 2,
            "linecolor": "white",
            "showbackground": true,
            "ticks": "",
            "zerolinecolor": "white"
           },
           "yaxis": {
            "backgroundcolor": "#E5ECF6",
            "gridcolor": "white",
            "gridwidth": 2,
            "linecolor": "white",
            "showbackground": true,
            "ticks": "",
            "zerolinecolor": "white"
           },
           "zaxis": {
            "backgroundcolor": "#E5ECF6",
            "gridcolor": "white",
            "gridwidth": 2,
            "linecolor": "white",
            "showbackground": true,
            "ticks": "",
            "zerolinecolor": "white"
           }
          },
          "shapedefaults": {
           "line": {
            "color": "#2a3f5f"
           }
          },
          "ternary": {
           "aaxis": {
            "gridcolor": "white",
            "linecolor": "white",
            "ticks": ""
           },
           "baxis": {
            "gridcolor": "white",
            "linecolor": "white",
            "ticks": ""
           },
           "bgcolor": "#E5ECF6",
           "caxis": {
            "gridcolor": "white",
            "linecolor": "white",
            "ticks": ""
           }
          },
          "title": {
           "x": 0.05
          },
          "xaxis": {
           "automargin": true,
           "gridcolor": "white",
           "linecolor": "white",
           "ticks": "",
           "title": {
            "standoff": 15
           },
           "zerolinecolor": "white",
           "zerolinewidth": 2
          },
          "yaxis": {
           "automargin": true,
           "gridcolor": "white",
           "linecolor": "white",
           "ticks": "",
           "title": {
            "standoff": 15
           },
           "zerolinecolor": "white",
           "zerolinewidth": 2
          }
         }
        }
       }
      }
     },
     "metadata": {},
     "output_type": "display_data"
    }
   ],
   "source": [
    "statuses = df_data.groupby(\"Country\")[\"Mission_Status\"].value_counts().rename_axis([\"Country\", \"Status\"]).reset_index(name='counts')\n",
    "failures = statuses[statuses[\"Status\"].str.contains(\"Fail\")].groupby(\"Country\").sum()\n",
    "\n",
    "world_map = px.choropleth(failures, locations=failures.index, color=\"counts\", color_continuous_scale=px.colors.sequential.matter)\n",
    "world_map.update_layout(coloraxis_showscale=True) \n",
    "world_map.show()\n"
   ]
  },
  {
   "cell_type": "markdown",
   "metadata": {
    "id": "9LqcqSrKa-qN",
    "papermill": {
     "duration": 0.039343,
     "end_time": "2020-10-20T21:34:06.591694",
     "exception": false,
     "start_time": "2020-10-20T21:34:06.552351",
     "status": "completed"
    },
    "tags": []
   },
   "source": [
    "# Create a Plotly Sunburst Chart of the countries, organisations, and mission status. "
   ]
  },
  {
   "cell_type": "code",
   "execution_count": 29,
   "metadata": {},
   "outputs": [
    {
     "data": {
      "application/vnd.plotly.v1+json": {
       "config": {
        "plotlyServerURL": "https://plot.ly"
       },
       "data": [
        {
         "branchvalues": "total",
         "domain": {
          "x": [
           0,
           1
          ],
          "y": [
           0,
           1
          ]
         },
         "hovertemplate": "labels=%{label}<br>size=%{value}<br>parent=%{parent}<br>id=%{id}<extra></extra>",
         "ids": [
          "BRA/AEB/Failure",
          "USA/AMBA/Failure",
          "FRA/Arianespace/Failure",
          "USA/Boeing/Failure",
          "CHN/CASC/Failure",
          "CHN/CASIC/Failure",
          "AUS/CECLES/Failure",
          "FRA/CECLES/Failure",
          "FRA/CNES/Failure",
          "USA/EER/Failure",
          "FRA/ESA/Failure",
          "RUS/Eurockot/Failure",
          "CHN/ExPace/Failure",
          "USA/Exos/Failure",
          "USA/General Dynamics/Failure",
          "ISR/IAI/Failure",
          "IRN/ISA/Failure",
          "JPN/ISAS/Failure",
          "IND/ISRO/Failure",
          "JPN/JAXA/Failure",
          "KOR/KARI/Failure",
          "PRK/KCST/Failure",
          "RUS/Kosmotras/Failure",
          "CHN/Landspace/Failure",
          "USA/Lockheed/Failure",
          "JPN/MHI/Failure",
          "RUS/MITT/Failure",
          "USA/Martin Marietta/Failure",
          "USA/NASA/Failure",
          "USA/Northrop/Failure",
          "CHN/OneSpace/Failure",
          "AUS/RAE/Failure",
          "RUS/RVSN USSR/Failure",
          "NZL/Rocket Lab/Failure",
          "RUS/Roscosmos/Failure",
          "RUS/SRC/Failure",
          "USA/Sandia/Failure",
          "Pacific Ocean/Sea Launch/Failure",
          "USA/SpaceX/Failure",
          "USA/US Air Force/Failure",
          "USA/US Navy/Failure",
          "JPN/UT/Failure",
          "RUS/VKS RF/Failure",
          "USA/Virgin Orbit/Failure",
          "USA/AMBA/Partial Failure",
          "FRA/Arianespace/Partial Failure",
          "FRA/Arm??e de l'Air/Partial Failure",
          "USA/Boeing/Partial Failure",
          "CHN/CASC/Partial Failure",
          "FRA/ESA/Partial Failure",
          "USA/Exos/Partial Failure",
          "USA/General Dynamics/Partial Failure",
          "RUS/ILS/Partial Failure",
          "JPN/ISAS/Partial Failure",
          "IND/ISRO/Partial Failure",
          "RUS/Land Launch/Partial Failure",
          "JPN/MHI/Partial Failure",
          "USA/Martin Marietta/Partial Failure",
          "USA/NASA/Partial Failure",
          "USA/Northrop/Partial Failure",
          "RUS/RVSN USSR/Partial Failure",
          "RUS/Roscosmos/Partial Failure",
          "USA/SpaceX/Partial Failure",
          "USA/ULA/Partial Failure",
          "USA/US Air Force/Partial Failure",
          "USA/US Navy/Partial Failure",
          "RUS/VKS RF/Partial Failure",
          "BRA/AEB/Prelaunch Failure",
          "IRN/ISA/Prelaunch Failure",
          "RUS/RVSN USSR/Prelaunch Failure",
          "USA/SpaceX/Prelaunch Failure",
          "AUS/AMBA/Success",
          "USA/AMBA/Success",
          "KEN/ASI/Success",
          "FRA/Arianespace/Success",
          "RUS/Arianespace/Success",
          "FRA/Arm??e de l'Air/Success",
          "USA/Blue Origin/Success",
          "USA/Boeing/Success",
          "CHN/CASC/Success",
          "CHN/CASIC/Success",
          "AUS/CECLES/Success",
          "FRA/CNES/Success",
          "USA/Douglas/Success",
          "FRA/ESA/Success",
          "RUS/Eurockot/Success",
          "CHN/ExPace/Success",
          "USA/General Dynamics/Success",
          "ISR/IAI/Success",
          "RUS/ILS/Success",
          "USA/ILS/Success",
          "IRN/IRGC/Success",
          "IRN/ISA/Success",
          "JPN/ISAS/Success",
          "IND/ISRO/Success",
          "JPN/JAXA/Success",
          "KOR/KARI/Success",
          "PRK/KCST/Success",
          "RUS/Khrunichev/Success",
          "RUS/Kosmotras/Success",
          "RUS/Land Launch/Success",
          "USA/Lockheed/Success",
          "JPN/MHI/Success",
          "RUS/MITT/Success",
          "USA/Martin Marietta/Success",
          "USA/NASA/Success",
          "USA/Northrop/Success",
          "RUS/OKB-586/Success",
          "AUS/RAE/Success",
          "RUS/RVSN USSR/Success",
          "NZL/Rocket Lab/Success",
          "RUS/Roscosmos/Success",
          "RUS/SRC/Success",
          "Pacific Ocean/Sea Launch/Success",
          "USA/SpaceX/Success",
          "RUS/Starsem/Success",
          "USA/ULA/Success",
          "USA/US Air Force/Success",
          "USA/US Navy/Success",
          "JPN/UT/Success",
          "RUS/VKS RF/Success",
          "RUS/Yuzhmash/Success",
          "CHN/i-Space/Success",
          "BRA/AEB",
          "AUS/AMBA",
          "USA/AMBA",
          "KEN/ASI",
          "FRA/Arianespace",
          "RUS/Arianespace",
          "FRA/Arm??e de l'Air",
          "USA/Blue Origin",
          "USA/Boeing",
          "CHN/CASC",
          "CHN/CASIC",
          "AUS/CECLES",
          "FRA/CECLES",
          "FRA/CNES",
          "USA/Douglas",
          "USA/EER",
          "FRA/ESA",
          "RUS/Eurockot",
          "CHN/ExPace",
          "USA/Exos",
          "USA/General Dynamics",
          "ISR/IAI",
          "RUS/ILS",
          "USA/ILS",
          "IRN/IRGC",
          "IRN/ISA",
          "JPN/ISAS",
          "IND/ISRO",
          "JPN/JAXA",
          "KOR/KARI",
          "PRK/KCST",
          "RUS/Khrunichev",
          "RUS/Kosmotras",
          "RUS/Land Launch",
          "CHN/Landspace",
          "USA/Lockheed",
          "JPN/MHI",
          "RUS/MITT",
          "USA/Martin Marietta",
          "USA/NASA",
          "USA/Northrop",
          "RUS/OKB-586",
          "CHN/OneSpace",
          "AUS/RAE",
          "RUS/RVSN USSR",
          "NZL/Rocket Lab",
          "RUS/Roscosmos",
          "RUS/SRC",
          "USA/Sandia",
          "Pacific Ocean/Sea Launch",
          "USA/SpaceX",
          "RUS/Starsem",
          "USA/ULA",
          "USA/US Air Force",
          "USA/US Navy",
          "JPN/UT",
          "RUS/VKS RF",
          "USA/Virgin Orbit",
          "RUS/Yuzhmash",
          "CHN/i-Space",
          "AUS",
          "BRA",
          "CHN",
          "FRA",
          "IND",
          "IRN",
          "ISR",
          "JPN",
          "KEN",
          "KOR",
          "NZL",
          "PRK",
          "Pacific Ocean",
          "RUS",
          "USA"
         ],
         "labels": [
          "Failure",
          "Failure",
          "Failure",
          "Failure",
          "Failure",
          "Failure",
          "Failure",
          "Failure",
          "Failure",
          "Failure",
          "Failure",
          "Failure",
          "Failure",
          "Failure",
          "Failure",
          "Failure",
          "Failure",
          "Failure",
          "Failure",
          "Failure",
          "Failure",
          "Failure",
          "Failure",
          "Failure",
          "Failure",
          "Failure",
          "Failure",
          "Failure",
          "Failure",
          "Failure",
          "Failure",
          "Failure",
          "Failure",
          "Failure",
          "Failure",
          "Failure",
          "Failure",
          "Failure",
          "Failure",
          "Failure",
          "Failure",
          "Failure",
          "Failure",
          "Failure",
          "Partial Failure",
          "Partial Failure",
          "Partial Failure",
          "Partial Failure",
          "Partial Failure",
          "Partial Failure",
          "Partial Failure",
          "Partial Failure",
          "Partial Failure",
          "Partial Failure",
          "Partial Failure",
          "Partial Failure",
          "Partial Failure",
          "Partial Failure",
          "Partial Failure",
          "Partial Failure",
          "Partial Failure",
          "Partial Failure",
          "Partial Failure",
          "Partial Failure",
          "Partial Failure",
          "Partial Failure",
          "Partial Failure",
          "Prelaunch Failure",
          "Prelaunch Failure",
          "Prelaunch Failure",
          "Prelaunch Failure",
          "Success",
          "Success",
          "Success",
          "Success",
          "Success",
          "Success",
          "Success",
          "Success",
          "Success",
          "Success",
          "Success",
          "Success",
          "Success",
          "Success",
          "Success",
          "Success",
          "Success",
          "Success",
          "Success",
          "Success",
          "Success",
          "Success",
          "Success",
          "Success",
          "Success",
          "Success",
          "Success",
          "Success",
          "Success",
          "Success",
          "Success",
          "Success",
          "Success",
          "Success",
          "Success",
          "Success",
          "Success",
          "Success",
          "Success",
          "Success",
          "Success",
          "Success",
          "Success",
          "Success",
          "Success",
          "Success",
          "Success",
          "Success",
          "Success",
          "Success",
          "Success",
          "Success",
          "AEB",
          "AMBA",
          "AMBA",
          "ASI",
          "Arianespace",
          "Arianespace",
          "Arm??e de l'Air",
          "Blue Origin",
          "Boeing",
          "CASC",
          "CASIC",
          "CECLES",
          "CECLES",
          "CNES",
          "Douglas",
          "EER",
          "ESA",
          "Eurockot",
          "ExPace",
          "Exos",
          "General Dynamics",
          "IAI",
          "ILS",
          "ILS",
          "IRGC",
          "ISA",
          "ISAS",
          "ISRO",
          "JAXA",
          "KARI",
          "KCST",
          "Khrunichev",
          "Kosmotras",
          "Land Launch",
          "Landspace",
          "Lockheed",
          "MHI",
          "MITT",
          "Martin Marietta",
          "NASA",
          "Northrop",
          "OKB-586",
          "OneSpace",
          "RAE",
          "RVSN USSR",
          "Rocket Lab",
          "Roscosmos",
          "SRC",
          "Sandia",
          "Sea Launch",
          "SpaceX",
          "Starsem",
          "ULA",
          "US Air Force",
          "US Navy",
          "UT",
          "VKS RF",
          "Virgin Orbit",
          "Yuzhmash",
          "i-Space",
          "AUS",
          "BRA",
          "CHN",
          "FRA",
          "IND",
          "IRN",
          "ISR",
          "JPN",
          "KEN",
          "KOR",
          "NZL",
          "PRK",
          "Pacific Ocean",
          "RUS",
          "USA"
         ],
         "name": "",
         "parents": [
          "BRA/AEB",
          "USA/AMBA",
          "FRA/Arianespace",
          "USA/Boeing",
          "CHN/CASC",
          "CHN/CASIC",
          "AUS/CECLES",
          "FRA/CECLES",
          "FRA/CNES",
          "USA/EER",
          "FRA/ESA",
          "RUS/Eurockot",
          "CHN/ExPace",
          "USA/Exos",
          "USA/General Dynamics",
          "ISR/IAI",
          "IRN/ISA",
          "JPN/ISAS",
          "IND/ISRO",
          "JPN/JAXA",
          "KOR/KARI",
          "PRK/KCST",
          "RUS/Kosmotras",
          "CHN/Landspace",
          "USA/Lockheed",
          "JPN/MHI",
          "RUS/MITT",
          "USA/Martin Marietta",
          "USA/NASA",
          "USA/Northrop",
          "CHN/OneSpace",
          "AUS/RAE",
          "RUS/RVSN USSR",
          "NZL/Rocket Lab",
          "RUS/Roscosmos",
          "RUS/SRC",
          "USA/Sandia",
          "Pacific Ocean/Sea Launch",
          "USA/SpaceX",
          "USA/US Air Force",
          "USA/US Navy",
          "JPN/UT",
          "RUS/VKS RF",
          "USA/Virgin Orbit",
          "USA/AMBA",
          "FRA/Arianespace",
          "FRA/Arm??e de l'Air",
          "USA/Boeing",
          "CHN/CASC",
          "FRA/ESA",
          "USA/Exos",
          "USA/General Dynamics",
          "RUS/ILS",
          "JPN/ISAS",
          "IND/ISRO",
          "RUS/Land Launch",
          "JPN/MHI",
          "USA/Martin Marietta",
          "USA/NASA",
          "USA/Northrop",
          "RUS/RVSN USSR",
          "RUS/Roscosmos",
          "USA/SpaceX",
          "USA/ULA",
          "USA/US Air Force",
          "USA/US Navy",
          "RUS/VKS RF",
          "BRA/AEB",
          "IRN/ISA",
          "RUS/RVSN USSR",
          "USA/SpaceX",
          "AUS/AMBA",
          "USA/AMBA",
          "KEN/ASI",
          "FRA/Arianespace",
          "RUS/Arianespace",
          "FRA/Arm??e de l'Air",
          "USA/Blue Origin",
          "USA/Boeing",
          "CHN/CASC",
          "CHN/CASIC",
          "AUS/CECLES",
          "FRA/CNES",
          "USA/Douglas",
          "FRA/ESA",
          "RUS/Eurockot",
          "CHN/ExPace",
          "USA/General Dynamics",
          "ISR/IAI",
          "RUS/ILS",
          "USA/ILS",
          "IRN/IRGC",
          "IRN/ISA",
          "JPN/ISAS",
          "IND/ISRO",
          "JPN/JAXA",
          "KOR/KARI",
          "PRK/KCST",
          "RUS/Khrunichev",
          "RUS/Kosmotras",
          "RUS/Land Launch",
          "USA/Lockheed",
          "JPN/MHI",
          "RUS/MITT",
          "USA/Martin Marietta",
          "USA/NASA",
          "USA/Northrop",
          "RUS/OKB-586",
          "AUS/RAE",
          "RUS/RVSN USSR",
          "NZL/Rocket Lab",
          "RUS/Roscosmos",
          "RUS/SRC",
          "Pacific Ocean/Sea Launch",
          "USA/SpaceX",
          "RUS/Starsem",
          "USA/ULA",
          "USA/US Air Force",
          "USA/US Navy",
          "JPN/UT",
          "RUS/VKS RF",
          "RUS/Yuzhmash",
          "CHN/i-Space",
          "BRA",
          "AUS",
          "USA",
          "KEN",
          "FRA",
          "RUS",
          "FRA",
          "USA",
          "USA",
          "CHN",
          "CHN",
          "AUS",
          "FRA",
          "FRA",
          "USA",
          "USA",
          "FRA",
          "RUS",
          "CHN",
          "USA",
          "USA",
          "ISR",
          "RUS",
          "USA",
          "IRN",
          "IRN",
          "JPN",
          "IND",
          "JPN",
          "KOR",
          "PRK",
          "RUS",
          "RUS",
          "RUS",
          "CHN",
          "USA",
          "JPN",
          "RUS",
          "USA",
          "USA",
          "USA",
          "RUS",
          "CHN",
          "AUS",
          "RUS",
          "NZL",
          "RUS",
          "RUS",
          "USA",
          "Pacific Ocean",
          "USA",
          "RUS",
          "USA",
          "USA",
          "USA",
          "JPN",
          "RUS",
          "USA",
          "RUS",
          "CHN",
          "",
          "",
          "",
          "",
          "",
          "",
          "",
          "",
          "",
          "",
          "",
          "",
          "",
          "",
          ""
         ],
         "type": "sunburst",
         "values": [
          2,
          3,
          7,
          3,
          14,
          2,
          2,
          1,
          2,
          1,
          3,
          1,
          1,
          1,
          37,
          2,
          8,
          3,
          8,
          1,
          2,
          3,
          1,
          1,
          5,
          2,
          1,
          11,
          11,
          7,
          1,
          1,
          121,
          2,
          3,
          1,
          1,
          3,
          4,
          30,
          14,
          4,
          7,
          1,
          1,
          3,
          1,
          2,
          6,
          1,
          3,
          11,
          1,
          1,
          5,
          1,
          2,
          3,
          6,
          2,
          41,
          1,
          1,
          1,
          2,
          1,
          6,
          1,
          1,
          1,
          1,
          1,
          3,
          9,
          267,
          2,
          3,
          12,
          131,
          231,
          3,
          1,
          6,
          1,
          9,
          12,
          9,
          203,
          9,
          5,
          40,
          1,
          4,
          26,
          63,
          6,
          1,
          2,
          1,
          21,
          6,
          74,
          80,
          6,
          100,
          186,
          74,
          2,
          1,
          1614,
          11,
          51,
          2,
          33,
          94,
          1,
          139,
          129,
          2,
          1,
          188,
          2,
          1,
          3,
          1,
          7,
          9,
          277,
          2,
          4,
          12,
          136,
          251,
          5,
          3,
          1,
          8,
          1,
          1,
          13,
          13,
          10,
          4,
          251,
          11,
          6,
          40,
          1,
          13,
          30,
          76,
          7,
          3,
          5,
          1,
          22,
          7,
          1,
          79,
          84,
          7,
          114,
          203,
          83,
          2,
          1,
          2,
          1777,
          13,
          55,
          3,
          1,
          36,
          100,
          1,
          140,
          161,
          17,
          5,
          201,
          1,
          2,
          1,
          6,
          3,
          269,
          303,
          76,
          14,
          11,
          126,
          9,
          3,
          13,
          5,
          36,
          2099,
          1351
         ]
        }
       ],
       "layout": {
        "legend": {
         "tracegroupgap": 0
        },
        "template": {
         "data": {
          "bar": [
           {
            "error_x": {
             "color": "#2a3f5f"
            },
            "error_y": {
             "color": "#2a3f5f"
            },
            "marker": {
             "line": {
              "color": "#E5ECF6",
              "width": 0.5
             },
             "pattern": {
              "fillmode": "overlay",
              "size": 10,
              "solidity": 0.2
             }
            },
            "type": "bar"
           }
          ],
          "barpolar": [
           {
            "marker": {
             "line": {
              "color": "#E5ECF6",
              "width": 0.5
             },
             "pattern": {
              "fillmode": "overlay",
              "size": 10,
              "solidity": 0.2
             }
            },
            "type": "barpolar"
           }
          ],
          "carpet": [
           {
            "aaxis": {
             "endlinecolor": "#2a3f5f",
             "gridcolor": "white",
             "linecolor": "white",
             "minorgridcolor": "white",
             "startlinecolor": "#2a3f5f"
            },
            "baxis": {
             "endlinecolor": "#2a3f5f",
             "gridcolor": "white",
             "linecolor": "white",
             "minorgridcolor": "white",
             "startlinecolor": "#2a3f5f"
            },
            "type": "carpet"
           }
          ],
          "choropleth": [
           {
            "colorbar": {
             "outlinewidth": 0,
             "ticks": ""
            },
            "type": "choropleth"
           }
          ],
          "contour": [
           {
            "colorbar": {
             "outlinewidth": 0,
             "ticks": ""
            },
            "colorscale": [
             [
              0,
              "#0d0887"
             ],
             [
              0.1111111111111111,
              "#46039f"
             ],
             [
              0.2222222222222222,
              "#7201a8"
             ],
             [
              0.3333333333333333,
              "#9c179e"
             ],
             [
              0.4444444444444444,
              "#bd3786"
             ],
             [
              0.5555555555555556,
              "#d8576b"
             ],
             [
              0.6666666666666666,
              "#ed7953"
             ],
             [
              0.7777777777777778,
              "#fb9f3a"
             ],
             [
              0.8888888888888888,
              "#fdca26"
             ],
             [
              1,
              "#f0f921"
             ]
            ],
            "type": "contour"
           }
          ],
          "contourcarpet": [
           {
            "colorbar": {
             "outlinewidth": 0,
             "ticks": ""
            },
            "type": "contourcarpet"
           }
          ],
          "heatmap": [
           {
            "colorbar": {
             "outlinewidth": 0,
             "ticks": ""
            },
            "colorscale": [
             [
              0,
              "#0d0887"
             ],
             [
              0.1111111111111111,
              "#46039f"
             ],
             [
              0.2222222222222222,
              "#7201a8"
             ],
             [
              0.3333333333333333,
              "#9c179e"
             ],
             [
              0.4444444444444444,
              "#bd3786"
             ],
             [
              0.5555555555555556,
              "#d8576b"
             ],
             [
              0.6666666666666666,
              "#ed7953"
             ],
             [
              0.7777777777777778,
              "#fb9f3a"
             ],
             [
              0.8888888888888888,
              "#fdca26"
             ],
             [
              1,
              "#f0f921"
             ]
            ],
            "type": "heatmap"
           }
          ],
          "heatmapgl": [
           {
            "colorbar": {
             "outlinewidth": 0,
             "ticks": ""
            },
            "colorscale": [
             [
              0,
              "#0d0887"
             ],
             [
              0.1111111111111111,
              "#46039f"
             ],
             [
              0.2222222222222222,
              "#7201a8"
             ],
             [
              0.3333333333333333,
              "#9c179e"
             ],
             [
              0.4444444444444444,
              "#bd3786"
             ],
             [
              0.5555555555555556,
              "#d8576b"
             ],
             [
              0.6666666666666666,
              "#ed7953"
             ],
             [
              0.7777777777777778,
              "#fb9f3a"
             ],
             [
              0.8888888888888888,
              "#fdca26"
             ],
             [
              1,
              "#f0f921"
             ]
            ],
            "type": "heatmapgl"
           }
          ],
          "histogram": [
           {
            "marker": {
             "pattern": {
              "fillmode": "overlay",
              "size": 10,
              "solidity": 0.2
             }
            },
            "type": "histogram"
           }
          ],
          "histogram2d": [
           {
            "colorbar": {
             "outlinewidth": 0,
             "ticks": ""
            },
            "colorscale": [
             [
              0,
              "#0d0887"
             ],
             [
              0.1111111111111111,
              "#46039f"
             ],
             [
              0.2222222222222222,
              "#7201a8"
             ],
             [
              0.3333333333333333,
              "#9c179e"
             ],
             [
              0.4444444444444444,
              "#bd3786"
             ],
             [
              0.5555555555555556,
              "#d8576b"
             ],
             [
              0.6666666666666666,
              "#ed7953"
             ],
             [
              0.7777777777777778,
              "#fb9f3a"
             ],
             [
              0.8888888888888888,
              "#fdca26"
             ],
             [
              1,
              "#f0f921"
             ]
            ],
            "type": "histogram2d"
           }
          ],
          "histogram2dcontour": [
           {
            "colorbar": {
             "outlinewidth": 0,
             "ticks": ""
            },
            "colorscale": [
             [
              0,
              "#0d0887"
             ],
             [
              0.1111111111111111,
              "#46039f"
             ],
             [
              0.2222222222222222,
              "#7201a8"
             ],
             [
              0.3333333333333333,
              "#9c179e"
             ],
             [
              0.4444444444444444,
              "#bd3786"
             ],
             [
              0.5555555555555556,
              "#d8576b"
             ],
             [
              0.6666666666666666,
              "#ed7953"
             ],
             [
              0.7777777777777778,
              "#fb9f3a"
             ],
             [
              0.8888888888888888,
              "#fdca26"
             ],
             [
              1,
              "#f0f921"
             ]
            ],
            "type": "histogram2dcontour"
           }
          ],
          "mesh3d": [
           {
            "colorbar": {
             "outlinewidth": 0,
             "ticks": ""
            },
            "type": "mesh3d"
           }
          ],
          "parcoords": [
           {
            "line": {
             "colorbar": {
              "outlinewidth": 0,
              "ticks": ""
             }
            },
            "type": "parcoords"
           }
          ],
          "pie": [
           {
            "automargin": true,
            "type": "pie"
           }
          ],
          "scatter": [
           {
            "marker": {
             "colorbar": {
              "outlinewidth": 0,
              "ticks": ""
             }
            },
            "type": "scatter"
           }
          ],
          "scatter3d": [
           {
            "line": {
             "colorbar": {
              "outlinewidth": 0,
              "ticks": ""
             }
            },
            "marker": {
             "colorbar": {
              "outlinewidth": 0,
              "ticks": ""
             }
            },
            "type": "scatter3d"
           }
          ],
          "scattercarpet": [
           {
            "marker": {
             "colorbar": {
              "outlinewidth": 0,
              "ticks": ""
             }
            },
            "type": "scattercarpet"
           }
          ],
          "scattergeo": [
           {
            "marker": {
             "colorbar": {
              "outlinewidth": 0,
              "ticks": ""
             }
            },
            "type": "scattergeo"
           }
          ],
          "scattergl": [
           {
            "marker": {
             "colorbar": {
              "outlinewidth": 0,
              "ticks": ""
             }
            },
            "type": "scattergl"
           }
          ],
          "scattermapbox": [
           {
            "marker": {
             "colorbar": {
              "outlinewidth": 0,
              "ticks": ""
             }
            },
            "type": "scattermapbox"
           }
          ],
          "scatterpolar": [
           {
            "marker": {
             "colorbar": {
              "outlinewidth": 0,
              "ticks": ""
             }
            },
            "type": "scatterpolar"
           }
          ],
          "scatterpolargl": [
           {
            "marker": {
             "colorbar": {
              "outlinewidth": 0,
              "ticks": ""
             }
            },
            "type": "scatterpolargl"
           }
          ],
          "scatterternary": [
           {
            "marker": {
             "colorbar": {
              "outlinewidth": 0,
              "ticks": ""
             }
            },
            "type": "scatterternary"
           }
          ],
          "surface": [
           {
            "colorbar": {
             "outlinewidth": 0,
             "ticks": ""
            },
            "colorscale": [
             [
              0,
              "#0d0887"
             ],
             [
              0.1111111111111111,
              "#46039f"
             ],
             [
              0.2222222222222222,
              "#7201a8"
             ],
             [
              0.3333333333333333,
              "#9c179e"
             ],
             [
              0.4444444444444444,
              "#bd3786"
             ],
             [
              0.5555555555555556,
              "#d8576b"
             ],
             [
              0.6666666666666666,
              "#ed7953"
             ],
             [
              0.7777777777777778,
              "#fb9f3a"
             ],
             [
              0.8888888888888888,
              "#fdca26"
             ],
             [
              1,
              "#f0f921"
             ]
            ],
            "type": "surface"
           }
          ],
          "table": [
           {
            "cells": {
             "fill": {
              "color": "#EBF0F8"
             },
             "line": {
              "color": "white"
             }
            },
            "header": {
             "fill": {
              "color": "#C8D4E3"
             },
             "line": {
              "color": "white"
             }
            },
            "type": "table"
           }
          ]
         },
         "layout": {
          "annotationdefaults": {
           "arrowcolor": "#2a3f5f",
           "arrowhead": 0,
           "arrowwidth": 1
          },
          "autotypenumbers": "strict",
          "coloraxis": {
           "colorbar": {
            "outlinewidth": 0,
            "ticks": ""
           }
          },
          "colorscale": {
           "diverging": [
            [
             0,
             "#8e0152"
            ],
            [
             0.1,
             "#c51b7d"
            ],
            [
             0.2,
             "#de77ae"
            ],
            [
             0.3,
             "#f1b6da"
            ],
            [
             0.4,
             "#fde0ef"
            ],
            [
             0.5,
             "#f7f7f7"
            ],
            [
             0.6,
             "#e6f5d0"
            ],
            [
             0.7,
             "#b8e186"
            ],
            [
             0.8,
             "#7fbc41"
            ],
            [
             0.9,
             "#4d9221"
            ],
            [
             1,
             "#276419"
            ]
           ],
           "sequential": [
            [
             0,
             "#0d0887"
            ],
            [
             0.1111111111111111,
             "#46039f"
            ],
            [
             0.2222222222222222,
             "#7201a8"
            ],
            [
             0.3333333333333333,
             "#9c179e"
            ],
            [
             0.4444444444444444,
             "#bd3786"
            ],
            [
             0.5555555555555556,
             "#d8576b"
            ],
            [
             0.6666666666666666,
             "#ed7953"
            ],
            [
             0.7777777777777778,
             "#fb9f3a"
            ],
            [
             0.8888888888888888,
             "#fdca26"
            ],
            [
             1,
             "#f0f921"
            ]
           ],
           "sequentialminus": [
            [
             0,
             "#0d0887"
            ],
            [
             0.1111111111111111,
             "#46039f"
            ],
            [
             0.2222222222222222,
             "#7201a8"
            ],
            [
             0.3333333333333333,
             "#9c179e"
            ],
            [
             0.4444444444444444,
             "#bd3786"
            ],
            [
             0.5555555555555556,
             "#d8576b"
            ],
            [
             0.6666666666666666,
             "#ed7953"
            ],
            [
             0.7777777777777778,
             "#fb9f3a"
            ],
            [
             0.8888888888888888,
             "#fdca26"
            ],
            [
             1,
             "#f0f921"
            ]
           ]
          },
          "colorway": [
           "#636efa",
           "#EF553B",
           "#00cc96",
           "#ab63fa",
           "#FFA15A",
           "#19d3f3",
           "#FF6692",
           "#B6E880",
           "#FF97FF",
           "#FECB52"
          ],
          "font": {
           "color": "#2a3f5f"
          },
          "geo": {
           "bgcolor": "white",
           "lakecolor": "white",
           "landcolor": "#E5ECF6",
           "showlakes": true,
           "showland": true,
           "subunitcolor": "white"
          },
          "hoverlabel": {
           "align": "left"
          },
          "hovermode": "closest",
          "mapbox": {
           "style": "light"
          },
          "paper_bgcolor": "white",
          "plot_bgcolor": "#E5ECF6",
          "polar": {
           "angularaxis": {
            "gridcolor": "white",
            "linecolor": "white",
            "ticks": ""
           },
           "bgcolor": "#E5ECF6",
           "radialaxis": {
            "gridcolor": "white",
            "linecolor": "white",
            "ticks": ""
           }
          },
          "scene": {
           "xaxis": {
            "backgroundcolor": "#E5ECF6",
            "gridcolor": "white",
            "gridwidth": 2,
            "linecolor": "white",
            "showbackground": true,
            "ticks": "",
            "zerolinecolor": "white"
           },
           "yaxis": {
            "backgroundcolor": "#E5ECF6",
            "gridcolor": "white",
            "gridwidth": 2,
            "linecolor": "white",
            "showbackground": true,
            "ticks": "",
            "zerolinecolor": "white"
           },
           "zaxis": {
            "backgroundcolor": "#E5ECF6",
            "gridcolor": "white",
            "gridwidth": 2,
            "linecolor": "white",
            "showbackground": true,
            "ticks": "",
            "zerolinecolor": "white"
           }
          },
          "shapedefaults": {
           "line": {
            "color": "#2a3f5f"
           }
          },
          "ternary": {
           "aaxis": {
            "gridcolor": "white",
            "linecolor": "white",
            "ticks": ""
           },
           "baxis": {
            "gridcolor": "white",
            "linecolor": "white",
            "ticks": ""
           },
           "bgcolor": "#E5ECF6",
           "caxis": {
            "gridcolor": "white",
            "linecolor": "white",
            "ticks": ""
           }
          },
          "title": {
           "x": 0.05
          },
          "xaxis": {
           "automargin": true,
           "gridcolor": "white",
           "linecolor": "white",
           "ticks": "",
           "title": {
            "standoff": 15
           },
           "zerolinecolor": "white",
           "zerolinewidth": 2
          },
          "yaxis": {
           "automargin": true,
           "gridcolor": "white",
           "linecolor": "white",
           "ticks": "",
           "title": {
            "standoff": 15
           },
           "zerolinecolor": "white",
           "zerolinewidth": 2
          }
         }
        },
        "title": {
         "text": "Missions By Country"
        }
       }
      }
     },
     "metadata": {},
     "output_type": "display_data"
    }
   ],
   "source": [
    "sunburst = df_data.groupby(by=[\"Country\", \"Organisation\", \"Mission_Status\"], as_index=False).size()\n",
    "sunburst = sunburst.sort_values(\"size\", ascending=False)\n",
    "sunburst.head()\n",
    "px.sunburst(sunburst, path=[\"Country\", \"Organisation\", \"Mission_Status\"], values=\"size\", title=\"Missions By Country\")"
   ]
  },
  {
   "cell_type": "markdown",
   "metadata": {
    "id": "70pG1BCZa-qY",
    "papermill": {
     "duration": 0.062712,
     "end_time": "2020-10-20T21:34:07.951200",
     "exception": false,
     "start_time": "2020-10-20T21:34:07.888488",
     "status": "completed"
    },
    "tags": []
   },
   "source": [
    "# Analyse the Total Amount of Money Spent by Organisation on Space Missions"
   ]
  },
  {
   "cell_type": "code",
   "execution_count": 30,
   "metadata": {
    "id": "IaJYxwEVpKHy",
    "scrolled": false
   },
   "outputs": [
    {
     "name": "stderr",
     "output_type": "stream",
     "text": [
      "/tmp/ipykernel_105706/635511458.py:3: SettingWithCopyWarning:\n",
      "\n",
      "\n",
      "A value is trying to be set on a copy of a slice from a DataFrame.\n",
      "Try using .loc[row_indexer,col_indexer] = value instead\n",
      "\n",
      "See the caveats in the documentation: https://pandas.pydata.org/pandas-docs/stable/user_guide/indexing.html#returning-a-view-versus-a-copy\n",
      "\n"
     ]
    },
    {
     "data": {
      "text/html": [
       "<div>\n",
       "<style scoped>\n",
       "    .dataframe tbody tr th:only-of-type {\n",
       "        vertical-align: middle;\n",
       "    }\n",
       "\n",
       "    .dataframe tbody tr th {\n",
       "        vertical-align: top;\n",
       "    }\n",
       "\n",
       "    .dataframe thead th {\n",
       "        text-align: right;\n",
       "    }\n",
       "</style>\n",
       "<table border=\"1\" class=\"dataframe\">\n",
       "  <thead>\n",
       "    <tr style=\"text-align: right;\">\n",
       "      <th></th>\n",
       "      <th>Organisation</th>\n",
       "      <th>Price</th>\n",
       "    </tr>\n",
       "  </thead>\n",
       "  <tbody>\n",
       "    <tr>\n",
       "      <th>0</th>\n",
       "      <td>Arianespace</td>\n",
       "      <td>16,345.00</td>\n",
       "    </tr>\n",
       "    <tr>\n",
       "      <th>1</th>\n",
       "      <td>Boeing</td>\n",
       "      <td>1,241.00</td>\n",
       "    </tr>\n",
       "    <tr>\n",
       "      <th>2</th>\n",
       "      <td>CASC</td>\n",
       "      <td>6,340.26</td>\n",
       "    </tr>\n",
       "    <tr>\n",
       "      <th>3</th>\n",
       "      <td>EER</td>\n",
       "      <td>20.00</td>\n",
       "    </tr>\n",
       "    <tr>\n",
       "      <th>4</th>\n",
       "      <td>ESA</td>\n",
       "      <td>37.00</td>\n",
       "    </tr>\n",
       "  </tbody>\n",
       "</table>\n",
       "</div>"
      ],
      "text/plain": [
       "  Organisation     Price\n",
       "0  Arianespace 16,345.00\n",
       "1       Boeing  1,241.00\n",
       "2         CASC  6,340.26\n",
       "3          EER     20.00\n",
       "4          ESA     37.00"
      ]
     },
     "execution_count": 30,
     "metadata": {},
     "output_type": "execute_result"
    }
   ],
   "source": [
    "money_spent = df_data[df_data[\"Price\"].notna()]\n",
    "\n",
    "money_spent[\"Price\"] = money_spent[\"Price\"].str.replace(',', '').astype(float)\n",
    "\n",
    "total_money_spent = money_spent.groupby(\"Organisation\")[\"Price\"].sum().reset_index()\n",
    "total_money_spent.sort_values(by=\"Price\", ascending=False)\n",
    "total_money_spent.head()\n"
   ]
  },
  {
   "cell_type": "markdown",
   "metadata": {
    "id": "DpsWkPxzpPXs"
   },
   "source": [
    "# Analyse the Amount of Money Spent by Organisation per Launch"
   ]
  },
  {
   "cell_type": "code",
   "execution_count": 31,
   "metadata": {
    "id": "opYJ6GiRpTk5"
   },
   "outputs": [
    {
     "data": {
      "text/html": [
       "<div>\n",
       "<style scoped>\n",
       "    .dataframe tbody tr th:only-of-type {\n",
       "        vertical-align: middle;\n",
       "    }\n",
       "\n",
       "    .dataframe tbody tr th {\n",
       "        vertical-align: top;\n",
       "    }\n",
       "\n",
       "    .dataframe thead th {\n",
       "        text-align: right;\n",
       "    }\n",
       "</style>\n",
       "<table border=\"1\" class=\"dataframe\">\n",
       "  <thead>\n",
       "    <tr style=\"text-align: right;\">\n",
       "      <th></th>\n",
       "      <th>Organisation</th>\n",
       "      <th>Price</th>\n",
       "    </tr>\n",
       "  </thead>\n",
       "  <tbody>\n",
       "    <tr>\n",
       "      <th>0</th>\n",
       "      <td>Arianespace</td>\n",
       "      <td>170.26</td>\n",
       "    </tr>\n",
       "    <tr>\n",
       "      <th>1</th>\n",
       "      <td>Boeing</td>\n",
       "      <td>177.29</td>\n",
       "    </tr>\n",
       "    <tr>\n",
       "      <th>2</th>\n",
       "      <td>CASC</td>\n",
       "      <td>40.13</td>\n",
       "    </tr>\n",
       "    <tr>\n",
       "      <th>3</th>\n",
       "      <td>EER</td>\n",
       "      <td>20.00</td>\n",
       "    </tr>\n",
       "    <tr>\n",
       "      <th>4</th>\n",
       "      <td>ESA</td>\n",
       "      <td>37.00</td>\n",
       "    </tr>\n",
       "  </tbody>\n",
       "</table>\n",
       "</div>"
      ],
      "text/plain": [
       "  Organisation  Price\n",
       "0  Arianespace 170.26\n",
       "1       Boeing 177.29\n",
       "2         CASC  40.13\n",
       "3          EER  20.00\n",
       "4          ESA  37.00"
      ]
     },
     "execution_count": 31,
     "metadata": {},
     "output_type": "execute_result"
    }
   ],
   "source": [
    "organisation_expense = money_spent.groupby(\"Organisation\")[\"Price\"].mean().reset_index()\n",
    "organisation_expense.sort_values(\"Price\", ascending=False)\n",
    "organisation_expense.head()"
   ]
  },
  {
   "cell_type": "markdown",
   "metadata": {
    "id": "yRa1BbPoa-qf",
    "papermill": {
     "duration": 0.042662,
     "end_time": "2020-10-20T21:34:09.943196",
     "exception": false,
     "start_time": "2020-10-20T21:34:09.900534",
     "status": "completed"
    },
    "tags": []
   },
   "source": [
    "# Chart the Number of Launches per Year"
   ]
  },
  {
   "cell_type": "code",
   "execution_count": 32,
   "metadata": {
    "id": "_9FohVh3pcAJ",
    "scrolled": true
   },
   "outputs": [
    {
     "data": {
      "application/vnd.plotly.v1+json": {
       "config": {
        "plotlyServerURL": "https://plot.ly"
       },
       "data": [
        {
         "alignmentgroup": "True",
         "hovertemplate": "year=%{x}<br>count=%{y}<extra></extra>",
         "legendgroup": "",
         "marker": {
          "color": "#636efa",
          "pattern": {
           "shape": ""
          }
         },
         "name": "",
         "offsetgroup": "",
         "orientation": "v",
         "showlegend": false,
         "textposition": "auto",
         "type": "bar",
         "x": [
          1971,
          2018,
          1977,
          1975,
          1976,
          2019,
          1970,
          1967,
          1973,
          1968,
          1969,
          1966,
          1972,
          1974,
          1978,
          2017,
          2016,
          1965,
          1962,
          1990,
          1985,
          1981,
          1997,
          1984,
          1998,
          1982,
          1983,
          1994,
          2020,
          1992,
          1986,
          1993,
          1995,
          1996,
          1964,
          1988,
          1991,
          1999,
          2000,
          1987,
          1980,
          2014,
          1961,
          2003,
          2015,
          1989,
          2009,
          2007,
          1979,
          2002,
          2006,
          2008,
          2013,
          2001,
          2011,
          1963,
          2004,
          1960,
          2012,
          2010,
          2005,
          1958,
          1959,
          1957
         ],
         "xaxis": "x",
         "y": [
          119,
          117,
          114,
          113,
          113,
          109,
          107,
          106,
          103,
          103,
          103,
          101,
          99,
          98,
          97,
          92,
          90,
          87,
          82,
          80,
          74,
          71,
          70,
          69,
          68,
          67,
          66,
          64,
          63,
          62,
          62,
          61,
          61,
          60,
          60,
          59,
          59,
          57,
          57,
          56,
          55,
          53,
          52,
          52,
          52,
          52,
          50,
          50,
          49,
          49,
          49,
          48,
          46,
          43,
          42,
          41,
          40,
          39,
          38,
          37,
          37,
          28,
          20,
          3
         ],
         "yaxis": "y"
        }
       ],
       "layout": {
        "barmode": "relative",
        "legend": {
         "tracegroupgap": 0
        },
        "template": {
         "data": {
          "bar": [
           {
            "error_x": {
             "color": "#2a3f5f"
            },
            "error_y": {
             "color": "#2a3f5f"
            },
            "marker": {
             "line": {
              "color": "#E5ECF6",
              "width": 0.5
             },
             "pattern": {
              "fillmode": "overlay",
              "size": 10,
              "solidity": 0.2
             }
            },
            "type": "bar"
           }
          ],
          "barpolar": [
           {
            "marker": {
             "line": {
              "color": "#E5ECF6",
              "width": 0.5
             },
             "pattern": {
              "fillmode": "overlay",
              "size": 10,
              "solidity": 0.2
             }
            },
            "type": "barpolar"
           }
          ],
          "carpet": [
           {
            "aaxis": {
             "endlinecolor": "#2a3f5f",
             "gridcolor": "white",
             "linecolor": "white",
             "minorgridcolor": "white",
             "startlinecolor": "#2a3f5f"
            },
            "baxis": {
             "endlinecolor": "#2a3f5f",
             "gridcolor": "white",
             "linecolor": "white",
             "minorgridcolor": "white",
             "startlinecolor": "#2a3f5f"
            },
            "type": "carpet"
           }
          ],
          "choropleth": [
           {
            "colorbar": {
             "outlinewidth": 0,
             "ticks": ""
            },
            "type": "choropleth"
           }
          ],
          "contour": [
           {
            "colorbar": {
             "outlinewidth": 0,
             "ticks": ""
            },
            "colorscale": [
             [
              0,
              "#0d0887"
             ],
             [
              0.1111111111111111,
              "#46039f"
             ],
             [
              0.2222222222222222,
              "#7201a8"
             ],
             [
              0.3333333333333333,
              "#9c179e"
             ],
             [
              0.4444444444444444,
              "#bd3786"
             ],
             [
              0.5555555555555556,
              "#d8576b"
             ],
             [
              0.6666666666666666,
              "#ed7953"
             ],
             [
              0.7777777777777778,
              "#fb9f3a"
             ],
             [
              0.8888888888888888,
              "#fdca26"
             ],
             [
              1,
              "#f0f921"
             ]
            ],
            "type": "contour"
           }
          ],
          "contourcarpet": [
           {
            "colorbar": {
             "outlinewidth": 0,
             "ticks": ""
            },
            "type": "contourcarpet"
           }
          ],
          "heatmap": [
           {
            "colorbar": {
             "outlinewidth": 0,
             "ticks": ""
            },
            "colorscale": [
             [
              0,
              "#0d0887"
             ],
             [
              0.1111111111111111,
              "#46039f"
             ],
             [
              0.2222222222222222,
              "#7201a8"
             ],
             [
              0.3333333333333333,
              "#9c179e"
             ],
             [
              0.4444444444444444,
              "#bd3786"
             ],
             [
              0.5555555555555556,
              "#d8576b"
             ],
             [
              0.6666666666666666,
              "#ed7953"
             ],
             [
              0.7777777777777778,
              "#fb9f3a"
             ],
             [
              0.8888888888888888,
              "#fdca26"
             ],
             [
              1,
              "#f0f921"
             ]
            ],
            "type": "heatmap"
           }
          ],
          "heatmapgl": [
           {
            "colorbar": {
             "outlinewidth": 0,
             "ticks": ""
            },
            "colorscale": [
             [
              0,
              "#0d0887"
             ],
             [
              0.1111111111111111,
              "#46039f"
             ],
             [
              0.2222222222222222,
              "#7201a8"
             ],
             [
              0.3333333333333333,
              "#9c179e"
             ],
             [
              0.4444444444444444,
              "#bd3786"
             ],
             [
              0.5555555555555556,
              "#d8576b"
             ],
             [
              0.6666666666666666,
              "#ed7953"
             ],
             [
              0.7777777777777778,
              "#fb9f3a"
             ],
             [
              0.8888888888888888,
              "#fdca26"
             ],
             [
              1,
              "#f0f921"
             ]
            ],
            "type": "heatmapgl"
           }
          ],
          "histogram": [
           {
            "marker": {
             "pattern": {
              "fillmode": "overlay",
              "size": 10,
              "solidity": 0.2
             }
            },
            "type": "histogram"
           }
          ],
          "histogram2d": [
           {
            "colorbar": {
             "outlinewidth": 0,
             "ticks": ""
            },
            "colorscale": [
             [
              0,
              "#0d0887"
             ],
             [
              0.1111111111111111,
              "#46039f"
             ],
             [
              0.2222222222222222,
              "#7201a8"
             ],
             [
              0.3333333333333333,
              "#9c179e"
             ],
             [
              0.4444444444444444,
              "#bd3786"
             ],
             [
              0.5555555555555556,
              "#d8576b"
             ],
             [
              0.6666666666666666,
              "#ed7953"
             ],
             [
              0.7777777777777778,
              "#fb9f3a"
             ],
             [
              0.8888888888888888,
              "#fdca26"
             ],
             [
              1,
              "#f0f921"
             ]
            ],
            "type": "histogram2d"
           }
          ],
          "histogram2dcontour": [
           {
            "colorbar": {
             "outlinewidth": 0,
             "ticks": ""
            },
            "colorscale": [
             [
              0,
              "#0d0887"
             ],
             [
              0.1111111111111111,
              "#46039f"
             ],
             [
              0.2222222222222222,
              "#7201a8"
             ],
             [
              0.3333333333333333,
              "#9c179e"
             ],
             [
              0.4444444444444444,
              "#bd3786"
             ],
             [
              0.5555555555555556,
              "#d8576b"
             ],
             [
              0.6666666666666666,
              "#ed7953"
             ],
             [
              0.7777777777777778,
              "#fb9f3a"
             ],
             [
              0.8888888888888888,
              "#fdca26"
             ],
             [
              1,
              "#f0f921"
             ]
            ],
            "type": "histogram2dcontour"
           }
          ],
          "mesh3d": [
           {
            "colorbar": {
             "outlinewidth": 0,
             "ticks": ""
            },
            "type": "mesh3d"
           }
          ],
          "parcoords": [
           {
            "line": {
             "colorbar": {
              "outlinewidth": 0,
              "ticks": ""
             }
            },
            "type": "parcoords"
           }
          ],
          "pie": [
           {
            "automargin": true,
            "type": "pie"
           }
          ],
          "scatter": [
           {
            "marker": {
             "colorbar": {
              "outlinewidth": 0,
              "ticks": ""
             }
            },
            "type": "scatter"
           }
          ],
          "scatter3d": [
           {
            "line": {
             "colorbar": {
              "outlinewidth": 0,
              "ticks": ""
             }
            },
            "marker": {
             "colorbar": {
              "outlinewidth": 0,
              "ticks": ""
             }
            },
            "type": "scatter3d"
           }
          ],
          "scattercarpet": [
           {
            "marker": {
             "colorbar": {
              "outlinewidth": 0,
              "ticks": ""
             }
            },
            "type": "scattercarpet"
           }
          ],
          "scattergeo": [
           {
            "marker": {
             "colorbar": {
              "outlinewidth": 0,
              "ticks": ""
             }
            },
            "type": "scattergeo"
           }
          ],
          "scattergl": [
           {
            "marker": {
             "colorbar": {
              "outlinewidth": 0,
              "ticks": ""
             }
            },
            "type": "scattergl"
           }
          ],
          "scattermapbox": [
           {
            "marker": {
             "colorbar": {
              "outlinewidth": 0,
              "ticks": ""
             }
            },
            "type": "scattermapbox"
           }
          ],
          "scatterpolar": [
           {
            "marker": {
             "colorbar": {
              "outlinewidth": 0,
              "ticks": ""
             }
            },
            "type": "scatterpolar"
           }
          ],
          "scatterpolargl": [
           {
            "marker": {
             "colorbar": {
              "outlinewidth": 0,
              "ticks": ""
             }
            },
            "type": "scatterpolargl"
           }
          ],
          "scatterternary": [
           {
            "marker": {
             "colorbar": {
              "outlinewidth": 0,
              "ticks": ""
             }
            },
            "type": "scatterternary"
           }
          ],
          "surface": [
           {
            "colorbar": {
             "outlinewidth": 0,
             "ticks": ""
            },
            "colorscale": [
             [
              0,
              "#0d0887"
             ],
             [
              0.1111111111111111,
              "#46039f"
             ],
             [
              0.2222222222222222,
              "#7201a8"
             ],
             [
              0.3333333333333333,
              "#9c179e"
             ],
             [
              0.4444444444444444,
              "#bd3786"
             ],
             [
              0.5555555555555556,
              "#d8576b"
             ],
             [
              0.6666666666666666,
              "#ed7953"
             ],
             [
              0.7777777777777778,
              "#fb9f3a"
             ],
             [
              0.8888888888888888,
              "#fdca26"
             ],
             [
              1,
              "#f0f921"
             ]
            ],
            "type": "surface"
           }
          ],
          "table": [
           {
            "cells": {
             "fill": {
              "color": "#EBF0F8"
             },
             "line": {
              "color": "white"
             }
            },
            "header": {
             "fill": {
              "color": "#C8D4E3"
             },
             "line": {
              "color": "white"
             }
            },
            "type": "table"
           }
          ]
         },
         "layout": {
          "annotationdefaults": {
           "arrowcolor": "#2a3f5f",
           "arrowhead": 0,
           "arrowwidth": 1
          },
          "autotypenumbers": "strict",
          "coloraxis": {
           "colorbar": {
            "outlinewidth": 0,
            "ticks": ""
           }
          },
          "colorscale": {
           "diverging": [
            [
             0,
             "#8e0152"
            ],
            [
             0.1,
             "#c51b7d"
            ],
            [
             0.2,
             "#de77ae"
            ],
            [
             0.3,
             "#f1b6da"
            ],
            [
             0.4,
             "#fde0ef"
            ],
            [
             0.5,
             "#f7f7f7"
            ],
            [
             0.6,
             "#e6f5d0"
            ],
            [
             0.7,
             "#b8e186"
            ],
            [
             0.8,
             "#7fbc41"
            ],
            [
             0.9,
             "#4d9221"
            ],
            [
             1,
             "#276419"
            ]
           ],
           "sequential": [
            [
             0,
             "#0d0887"
            ],
            [
             0.1111111111111111,
             "#46039f"
            ],
            [
             0.2222222222222222,
             "#7201a8"
            ],
            [
             0.3333333333333333,
             "#9c179e"
            ],
            [
             0.4444444444444444,
             "#bd3786"
            ],
            [
             0.5555555555555556,
             "#d8576b"
            ],
            [
             0.6666666666666666,
             "#ed7953"
            ],
            [
             0.7777777777777778,
             "#fb9f3a"
            ],
            [
             0.8888888888888888,
             "#fdca26"
            ],
            [
             1,
             "#f0f921"
            ]
           ],
           "sequentialminus": [
            [
             0,
             "#0d0887"
            ],
            [
             0.1111111111111111,
             "#46039f"
            ],
            [
             0.2222222222222222,
             "#7201a8"
            ],
            [
             0.3333333333333333,
             "#9c179e"
            ],
            [
             0.4444444444444444,
             "#bd3786"
            ],
            [
             0.5555555555555556,
             "#d8576b"
            ],
            [
             0.6666666666666666,
             "#ed7953"
            ],
            [
             0.7777777777777778,
             "#fb9f3a"
            ],
            [
             0.8888888888888888,
             "#fdca26"
            ],
            [
             1,
             "#f0f921"
            ]
           ]
          },
          "colorway": [
           "#636efa",
           "#EF553B",
           "#00cc96",
           "#ab63fa",
           "#FFA15A",
           "#19d3f3",
           "#FF6692",
           "#B6E880",
           "#FF97FF",
           "#FECB52"
          ],
          "font": {
           "color": "#2a3f5f"
          },
          "geo": {
           "bgcolor": "white",
           "lakecolor": "white",
           "landcolor": "#E5ECF6",
           "showlakes": true,
           "showland": true,
           "subunitcolor": "white"
          },
          "hoverlabel": {
           "align": "left"
          },
          "hovermode": "closest",
          "mapbox": {
           "style": "light"
          },
          "paper_bgcolor": "white",
          "plot_bgcolor": "#E5ECF6",
          "polar": {
           "angularaxis": {
            "gridcolor": "white",
            "linecolor": "white",
            "ticks": ""
           },
           "bgcolor": "#E5ECF6",
           "radialaxis": {
            "gridcolor": "white",
            "linecolor": "white",
            "ticks": ""
           }
          },
          "scene": {
           "xaxis": {
            "backgroundcolor": "#E5ECF6",
            "gridcolor": "white",
            "gridwidth": 2,
            "linecolor": "white",
            "showbackground": true,
            "ticks": "",
            "zerolinecolor": "white"
           },
           "yaxis": {
            "backgroundcolor": "#E5ECF6",
            "gridcolor": "white",
            "gridwidth": 2,
            "linecolor": "white",
            "showbackground": true,
            "ticks": "",
            "zerolinecolor": "white"
           },
           "zaxis": {
            "backgroundcolor": "#E5ECF6",
            "gridcolor": "white",
            "gridwidth": 2,
            "linecolor": "white",
            "showbackground": true,
            "ticks": "",
            "zerolinecolor": "white"
           }
          },
          "shapedefaults": {
           "line": {
            "color": "#2a3f5f"
           }
          },
          "ternary": {
           "aaxis": {
            "gridcolor": "white",
            "linecolor": "white",
            "ticks": ""
           },
           "baxis": {
            "gridcolor": "white",
            "linecolor": "white",
            "ticks": ""
           },
           "bgcolor": "#E5ECF6",
           "caxis": {
            "gridcolor": "white",
            "linecolor": "white",
            "ticks": ""
           }
          },
          "title": {
           "x": 0.05
          },
          "xaxis": {
           "automargin": true,
           "gridcolor": "white",
           "linecolor": "white",
           "ticks": "",
           "title": {
            "standoff": 15
           },
           "zerolinecolor": "white",
           "zerolinewidth": 2
          },
          "yaxis": {
           "automargin": true,
           "gridcolor": "white",
           "linecolor": "white",
           "ticks": "",
           "title": {
            "standoff": 15
           },
           "zerolinecolor": "white",
           "zerolinewidth": 2
          }
         }
        },
        "title": {
         "text": "Missions number by year"
        },
        "xaxis": {
         "anchor": "y",
         "domain": [
          0,
          1
         ],
         "title": {
          "text": "year"
         }
        },
        "yaxis": {
         "anchor": "x",
         "domain": [
          0,
          1
         ],
         "title": {
          "text": "count"
         }
        }
       }
      }
     },
     "metadata": {},
     "output_type": "display_data"
    }
   ],
   "source": [
    "# Converted the date to the datetime object, then extracted the year from the datetime object.\n",
    "df_data['date'] = pd.to_datetime(df_data['Date'])\n",
    "df_data['year'] = df_data['date'].apply(lambda datetime: datetime.year)\n",
    "# df_data['year'].head()\n",
    "\n",
    "# Counted the number of times the same year is mentioned.\n",
    "ds = df_data['year'].value_counts().reset_index()\n",
    "ds.columns = [\n",
    "    'year', \n",
    "    'count'\n",
    "]\n",
    "# Passing the year and the count to the bar graph.\n",
    "fig = px.bar(\n",
    "    ds, \n",
    "    x='year', \n",
    "    y=\"count\", \n",
    "    orientation='v', \n",
    "    title='Missions number by year' \n",
    "#     width=800\n",
    ")\n",
    "fig.show()\n"
   ]
  },
  {
   "cell_type": "markdown",
   "metadata": {
    "id": "NomJVLi3tIaM"
   },
   "source": [
    "# Chart the Number of Launches Month-on-Month until the Present\n",
    "\n",
    "Which month has seen the highest number of launches in all time? Superimpose a rolling average on the month on month time series chart. "
   ]
  },
  {
   "cell_type": "code",
   "execution_count": 33,
   "metadata": {
    "id": "H1N2aBs5tH9z",
    "scrolled": true
   },
   "outputs": [
    {
     "data": {
      "application/vnd.plotly.v1+json": {
       "config": {
        "plotlyServerURL": "https://plot.ly"
       },
       "data": [
        {
         "alignmentgroup": "True",
         "hovertemplate": "month=%{x}<br>count=%{y}<extra></extra>",
         "legendgroup": "",
         "marker": {
          "color": "#636efa",
          "pattern": {
           "shape": ""
          }
         },
         "name": "",
         "offsetgroup": "",
         "orientation": "v",
         "showlegend": false,
         "textposition": "auto",
         "type": "bar",
         "x": [
          12,
          6,
          4,
          10,
          8,
          9,
          3,
          7,
          2,
          11,
          5,
          1
         ],
         "xaxis": "x",
         "y": [
          450,
          402,
          383,
          381,
          373,
          365,
          353,
          351,
          336,
          336,
          326,
          268
         ],
         "yaxis": "y"
        }
       ],
       "layout": {
        "barmode": "relative",
        "legend": {
         "tracegroupgap": 0
        },
        "template": {
         "data": {
          "bar": [
           {
            "error_x": {
             "color": "#2a3f5f"
            },
            "error_y": {
             "color": "#2a3f5f"
            },
            "marker": {
             "line": {
              "color": "#E5ECF6",
              "width": 0.5
             },
             "pattern": {
              "fillmode": "overlay",
              "size": 10,
              "solidity": 0.2
             }
            },
            "type": "bar"
           }
          ],
          "barpolar": [
           {
            "marker": {
             "line": {
              "color": "#E5ECF6",
              "width": 0.5
             },
             "pattern": {
              "fillmode": "overlay",
              "size": 10,
              "solidity": 0.2
             }
            },
            "type": "barpolar"
           }
          ],
          "carpet": [
           {
            "aaxis": {
             "endlinecolor": "#2a3f5f",
             "gridcolor": "white",
             "linecolor": "white",
             "minorgridcolor": "white",
             "startlinecolor": "#2a3f5f"
            },
            "baxis": {
             "endlinecolor": "#2a3f5f",
             "gridcolor": "white",
             "linecolor": "white",
             "minorgridcolor": "white",
             "startlinecolor": "#2a3f5f"
            },
            "type": "carpet"
           }
          ],
          "choropleth": [
           {
            "colorbar": {
             "outlinewidth": 0,
             "ticks": ""
            },
            "type": "choropleth"
           }
          ],
          "contour": [
           {
            "colorbar": {
             "outlinewidth": 0,
             "ticks": ""
            },
            "colorscale": [
             [
              0,
              "#0d0887"
             ],
             [
              0.1111111111111111,
              "#46039f"
             ],
             [
              0.2222222222222222,
              "#7201a8"
             ],
             [
              0.3333333333333333,
              "#9c179e"
             ],
             [
              0.4444444444444444,
              "#bd3786"
             ],
             [
              0.5555555555555556,
              "#d8576b"
             ],
             [
              0.6666666666666666,
              "#ed7953"
             ],
             [
              0.7777777777777778,
              "#fb9f3a"
             ],
             [
              0.8888888888888888,
              "#fdca26"
             ],
             [
              1,
              "#f0f921"
             ]
            ],
            "type": "contour"
           }
          ],
          "contourcarpet": [
           {
            "colorbar": {
             "outlinewidth": 0,
             "ticks": ""
            },
            "type": "contourcarpet"
           }
          ],
          "heatmap": [
           {
            "colorbar": {
             "outlinewidth": 0,
             "ticks": ""
            },
            "colorscale": [
             [
              0,
              "#0d0887"
             ],
             [
              0.1111111111111111,
              "#46039f"
             ],
             [
              0.2222222222222222,
              "#7201a8"
             ],
             [
              0.3333333333333333,
              "#9c179e"
             ],
             [
              0.4444444444444444,
              "#bd3786"
             ],
             [
              0.5555555555555556,
              "#d8576b"
             ],
             [
              0.6666666666666666,
              "#ed7953"
             ],
             [
              0.7777777777777778,
              "#fb9f3a"
             ],
             [
              0.8888888888888888,
              "#fdca26"
             ],
             [
              1,
              "#f0f921"
             ]
            ],
            "type": "heatmap"
           }
          ],
          "heatmapgl": [
           {
            "colorbar": {
             "outlinewidth": 0,
             "ticks": ""
            },
            "colorscale": [
             [
              0,
              "#0d0887"
             ],
             [
              0.1111111111111111,
              "#46039f"
             ],
             [
              0.2222222222222222,
              "#7201a8"
             ],
             [
              0.3333333333333333,
              "#9c179e"
             ],
             [
              0.4444444444444444,
              "#bd3786"
             ],
             [
              0.5555555555555556,
              "#d8576b"
             ],
             [
              0.6666666666666666,
              "#ed7953"
             ],
             [
              0.7777777777777778,
              "#fb9f3a"
             ],
             [
              0.8888888888888888,
              "#fdca26"
             ],
             [
              1,
              "#f0f921"
             ]
            ],
            "type": "heatmapgl"
           }
          ],
          "histogram": [
           {
            "marker": {
             "pattern": {
              "fillmode": "overlay",
              "size": 10,
              "solidity": 0.2
             }
            },
            "type": "histogram"
           }
          ],
          "histogram2d": [
           {
            "colorbar": {
             "outlinewidth": 0,
             "ticks": ""
            },
            "colorscale": [
             [
              0,
              "#0d0887"
             ],
             [
              0.1111111111111111,
              "#46039f"
             ],
             [
              0.2222222222222222,
              "#7201a8"
             ],
             [
              0.3333333333333333,
              "#9c179e"
             ],
             [
              0.4444444444444444,
              "#bd3786"
             ],
             [
              0.5555555555555556,
              "#d8576b"
             ],
             [
              0.6666666666666666,
              "#ed7953"
             ],
             [
              0.7777777777777778,
              "#fb9f3a"
             ],
             [
              0.8888888888888888,
              "#fdca26"
             ],
             [
              1,
              "#f0f921"
             ]
            ],
            "type": "histogram2d"
           }
          ],
          "histogram2dcontour": [
           {
            "colorbar": {
             "outlinewidth": 0,
             "ticks": ""
            },
            "colorscale": [
             [
              0,
              "#0d0887"
             ],
             [
              0.1111111111111111,
              "#46039f"
             ],
             [
              0.2222222222222222,
              "#7201a8"
             ],
             [
              0.3333333333333333,
              "#9c179e"
             ],
             [
              0.4444444444444444,
              "#bd3786"
             ],
             [
              0.5555555555555556,
              "#d8576b"
             ],
             [
              0.6666666666666666,
              "#ed7953"
             ],
             [
              0.7777777777777778,
              "#fb9f3a"
             ],
             [
              0.8888888888888888,
              "#fdca26"
             ],
             [
              1,
              "#f0f921"
             ]
            ],
            "type": "histogram2dcontour"
           }
          ],
          "mesh3d": [
           {
            "colorbar": {
             "outlinewidth": 0,
             "ticks": ""
            },
            "type": "mesh3d"
           }
          ],
          "parcoords": [
           {
            "line": {
             "colorbar": {
              "outlinewidth": 0,
              "ticks": ""
             }
            },
            "type": "parcoords"
           }
          ],
          "pie": [
           {
            "automargin": true,
            "type": "pie"
           }
          ],
          "scatter": [
           {
            "marker": {
             "colorbar": {
              "outlinewidth": 0,
              "ticks": ""
             }
            },
            "type": "scatter"
           }
          ],
          "scatter3d": [
           {
            "line": {
             "colorbar": {
              "outlinewidth": 0,
              "ticks": ""
             }
            },
            "marker": {
             "colorbar": {
              "outlinewidth": 0,
              "ticks": ""
             }
            },
            "type": "scatter3d"
           }
          ],
          "scattercarpet": [
           {
            "marker": {
             "colorbar": {
              "outlinewidth": 0,
              "ticks": ""
             }
            },
            "type": "scattercarpet"
           }
          ],
          "scattergeo": [
           {
            "marker": {
             "colorbar": {
              "outlinewidth": 0,
              "ticks": ""
             }
            },
            "type": "scattergeo"
           }
          ],
          "scattergl": [
           {
            "marker": {
             "colorbar": {
              "outlinewidth": 0,
              "ticks": ""
             }
            },
            "type": "scattergl"
           }
          ],
          "scattermapbox": [
           {
            "marker": {
             "colorbar": {
              "outlinewidth": 0,
              "ticks": ""
             }
            },
            "type": "scattermapbox"
           }
          ],
          "scatterpolar": [
           {
            "marker": {
             "colorbar": {
              "outlinewidth": 0,
              "ticks": ""
             }
            },
            "type": "scatterpolar"
           }
          ],
          "scatterpolargl": [
           {
            "marker": {
             "colorbar": {
              "outlinewidth": 0,
              "ticks": ""
             }
            },
            "type": "scatterpolargl"
           }
          ],
          "scatterternary": [
           {
            "marker": {
             "colorbar": {
              "outlinewidth": 0,
              "ticks": ""
             }
            },
            "type": "scatterternary"
           }
          ],
          "surface": [
           {
            "colorbar": {
             "outlinewidth": 0,
             "ticks": ""
            },
            "colorscale": [
             [
              0,
              "#0d0887"
             ],
             [
              0.1111111111111111,
              "#46039f"
             ],
             [
              0.2222222222222222,
              "#7201a8"
             ],
             [
              0.3333333333333333,
              "#9c179e"
             ],
             [
              0.4444444444444444,
              "#bd3786"
             ],
             [
              0.5555555555555556,
              "#d8576b"
             ],
             [
              0.6666666666666666,
              "#ed7953"
             ],
             [
              0.7777777777777778,
              "#fb9f3a"
             ],
             [
              0.8888888888888888,
              "#fdca26"
             ],
             [
              1,
              "#f0f921"
             ]
            ],
            "type": "surface"
           }
          ],
          "table": [
           {
            "cells": {
             "fill": {
              "color": "#EBF0F8"
             },
             "line": {
              "color": "white"
             }
            },
            "header": {
             "fill": {
              "color": "#C8D4E3"
             },
             "line": {
              "color": "white"
             }
            },
            "type": "table"
           }
          ]
         },
         "layout": {
          "annotationdefaults": {
           "arrowcolor": "#2a3f5f",
           "arrowhead": 0,
           "arrowwidth": 1
          },
          "autotypenumbers": "strict",
          "coloraxis": {
           "colorbar": {
            "outlinewidth": 0,
            "ticks": ""
           }
          },
          "colorscale": {
           "diverging": [
            [
             0,
             "#8e0152"
            ],
            [
             0.1,
             "#c51b7d"
            ],
            [
             0.2,
             "#de77ae"
            ],
            [
             0.3,
             "#f1b6da"
            ],
            [
             0.4,
             "#fde0ef"
            ],
            [
             0.5,
             "#f7f7f7"
            ],
            [
             0.6,
             "#e6f5d0"
            ],
            [
             0.7,
             "#b8e186"
            ],
            [
             0.8,
             "#7fbc41"
            ],
            [
             0.9,
             "#4d9221"
            ],
            [
             1,
             "#276419"
            ]
           ],
           "sequential": [
            [
             0,
             "#0d0887"
            ],
            [
             0.1111111111111111,
             "#46039f"
            ],
            [
             0.2222222222222222,
             "#7201a8"
            ],
            [
             0.3333333333333333,
             "#9c179e"
            ],
            [
             0.4444444444444444,
             "#bd3786"
            ],
            [
             0.5555555555555556,
             "#d8576b"
            ],
            [
             0.6666666666666666,
             "#ed7953"
            ],
            [
             0.7777777777777778,
             "#fb9f3a"
            ],
            [
             0.8888888888888888,
             "#fdca26"
            ],
            [
             1,
             "#f0f921"
            ]
           ],
           "sequentialminus": [
            [
             0,
             "#0d0887"
            ],
            [
             0.1111111111111111,
             "#46039f"
            ],
            [
             0.2222222222222222,
             "#7201a8"
            ],
            [
             0.3333333333333333,
             "#9c179e"
            ],
            [
             0.4444444444444444,
             "#bd3786"
            ],
            [
             0.5555555555555556,
             "#d8576b"
            ],
            [
             0.6666666666666666,
             "#ed7953"
            ],
            [
             0.7777777777777778,
             "#fb9f3a"
            ],
            [
             0.8888888888888888,
             "#fdca26"
            ],
            [
             1,
             "#f0f921"
            ]
           ]
          },
          "colorway": [
           "#636efa",
           "#EF553B",
           "#00cc96",
           "#ab63fa",
           "#FFA15A",
           "#19d3f3",
           "#FF6692",
           "#B6E880",
           "#FF97FF",
           "#FECB52"
          ],
          "font": {
           "color": "#2a3f5f"
          },
          "geo": {
           "bgcolor": "white",
           "lakecolor": "white",
           "landcolor": "#E5ECF6",
           "showlakes": true,
           "showland": true,
           "subunitcolor": "white"
          },
          "hoverlabel": {
           "align": "left"
          },
          "hovermode": "closest",
          "mapbox": {
           "style": "light"
          },
          "paper_bgcolor": "white",
          "plot_bgcolor": "#E5ECF6",
          "polar": {
           "angularaxis": {
            "gridcolor": "white",
            "linecolor": "white",
            "ticks": ""
           },
           "bgcolor": "#E5ECF6",
           "radialaxis": {
            "gridcolor": "white",
            "linecolor": "white",
            "ticks": ""
           }
          },
          "scene": {
           "xaxis": {
            "backgroundcolor": "#E5ECF6",
            "gridcolor": "white",
            "gridwidth": 2,
            "linecolor": "white",
            "showbackground": true,
            "ticks": "",
            "zerolinecolor": "white"
           },
           "yaxis": {
            "backgroundcolor": "#E5ECF6",
            "gridcolor": "white",
            "gridwidth": 2,
            "linecolor": "white",
            "showbackground": true,
            "ticks": "",
            "zerolinecolor": "white"
           },
           "zaxis": {
            "backgroundcolor": "#E5ECF6",
            "gridcolor": "white",
            "gridwidth": 2,
            "linecolor": "white",
            "showbackground": true,
            "ticks": "",
            "zerolinecolor": "white"
           }
          },
          "shapedefaults": {
           "line": {
            "color": "#2a3f5f"
           }
          },
          "ternary": {
           "aaxis": {
            "gridcolor": "white",
            "linecolor": "white",
            "ticks": ""
           },
           "baxis": {
            "gridcolor": "white",
            "linecolor": "white",
            "ticks": ""
           },
           "bgcolor": "#E5ECF6",
           "caxis": {
            "gridcolor": "white",
            "linecolor": "white",
            "ticks": ""
           }
          },
          "title": {
           "x": 0.05
          },
          "xaxis": {
           "automargin": true,
           "gridcolor": "white",
           "linecolor": "white",
           "ticks": "",
           "title": {
            "standoff": 15
           },
           "zerolinecolor": "white",
           "zerolinewidth": 2
          },
          "yaxis": {
           "automargin": true,
           "gridcolor": "white",
           "linecolor": "white",
           "ticks": "",
           "title": {
            "standoff": 15
           },
           "zerolinecolor": "white",
           "zerolinewidth": 2
          }
         }
        },
        "title": {
         "text": "Missions number by month"
        },
        "xaxis": {
         "anchor": "y",
         "domain": [
          0,
          1
         ],
         "title": {
          "text": "month"
         }
        },
        "yaxis": {
         "anchor": "x",
         "domain": [
          0,
          1
         ],
         "title": {
          "text": "count"
         }
        }
       }
      }
     },
     "metadata": {},
     "output_type": "display_data"
    }
   ],
   "source": [
    "# Converted the date to the datetime object, then extracted the month from the datetime object.\n",
    "df_data['date'] = pd.to_datetime(df_data['Date'])\n",
    "df_data['month'] = df_data['date'].apply(lambda datetime: datetime.month)\n",
    "# df_data['month'].head()\n",
    "\n",
    "# Counted the number of times the same month is mentioned.\n",
    "ds = df_data['month'].value_counts().reset_index()\n",
    "ds.columns = [\n",
    "    'month', \n",
    "    'count'\n",
    "]\n",
    "# Passing the year and the count to the bar graph.\n",
    "fig = px.bar(\n",
    "    ds, \n",
    "    x='month', \n",
    "    y=\"count\", \n",
    "    orientation='v', \n",
    "    title='Missions number by month' \n",
    "#     width=800\n",
    ")\n",
    "fig.show()\n",
    "\n",
    "# December has the most launches of all time."
   ]
  },
  {
   "cell_type": "markdown",
   "metadata": {
    "id": "t-avMIZoa-qh",
    "papermill": {
     "duration": 0.044409,
     "end_time": "2020-10-20T21:34:10.162592",
     "exception": false,
     "start_time": "2020-10-20T21:34:10.118183",
     "status": "completed"
    },
    "tags": []
   },
   "source": [
    "# Launches per Month: Which months are most popular and least popular for launches?\n",
    "\n",
    "Some months have better weather than others. Which time of year seems to be best for space missions?"
   ]
  },
  {
   "cell_type": "code",
   "execution_count": 34,
   "metadata": {
    "id": "zmtp5uBHppFG"
   },
   "outputs": [
    {
     "name": "stdout",
     "output_type": "stream",
     "text": [
      "Most launches in a month = 450\n"
     ]
    },
    {
     "data": {
      "text/plain": [
       "month     12\n",
       "count    450\n",
       "dtype: int64"
      ]
     },
     "execution_count": 34,
     "metadata": {},
     "output_type": "execute_result"
    }
   ],
   "source": [
    "# Using max to find the most launches per month\n",
    "most_launches = ds['count'].max()\n",
    "print(\"Most launches in a month =\", most_launches)\n",
    "\n",
    "# print the month associated with the max value\n",
    "ds.sort_values(by=\"count\", ascending=False)\n",
    "ds.max()"
   ]
  },
  {
   "cell_type": "code",
   "execution_count": 35,
   "metadata": {},
   "outputs": [
    {
     "name": "stdout",
     "output_type": "stream",
     "text": [
      "Least launches in a month = 268\n"
     ]
    },
    {
     "data": {
      "text/plain": [
       "month      1\n",
       "count    268\n",
       "dtype: int64"
      ]
     },
     "execution_count": 35,
     "metadata": {},
     "output_type": "execute_result"
    }
   ],
   "source": [
    "#Using min to find the least launches per month\n",
    "least_launches = ds['count'].min()\n",
    "print(\"Least launches in a month =\", least_launches)\n",
    "ds.min()"
   ]
  },
  {
   "cell_type": "markdown",
   "metadata": {
    "id": "dPQ_N_sfa-qo",
    "papermill": {
     "duration": 0.067915,
     "end_time": "2020-10-20T21:34:11.122539",
     "exception": false,
     "start_time": "2020-10-20T21:34:11.054624",
     "status": "completed"
    },
    "tags": []
   },
   "source": [
    "# How has the Launch Price varied Over Time? \n",
    "\n",
    "Create a line chart that shows the average price of rocket launches over time. "
   ]
  },
  {
   "cell_type": "code",
   "execution_count": 36,
   "metadata": {},
   "outputs": [
    {
     "data": {
      "text/plain": [
       "<AxesSubplot:xlabel='year'>"
      ]
     },
     "execution_count": 36,
     "metadata": {},
     "output_type": "execute_result"
    },
    {
     "data": {
      "image/png": "[encoded data removed]",
      "text/plain": [
       "<Figure size 864x576 with 1 Axes>"
      ]
     },
     "metadata": {
      "needs_background": "light"
     },
     "output_type": "display_data"
    }
   ],
   "source": [
    "avg_price = df_data[df_data[\"Price\"].notna()]\n",
    "pd.options.mode.chained_assignment = None\n",
    "avg_price[\"Price\"] = avg_price[\"Price\"].str.replace(',', '').astype(float)\n",
    "\n",
    "avg_price.groupby(\"year\").mean().plot(figsize=(12, 8))"
   ]
  },
  {
   "cell_type": "markdown",
   "metadata": {
    "id": "8OYrWyiOa-qs",
    "papermill": {
     "duration": 0.047152,
     "end_time": "2020-10-20T21:34:11.681371",
     "exception": false,
     "start_time": "2020-10-20T21:34:11.634219",
     "status": "completed"
    },
    "tags": []
   },
   "source": [
    "# Chart the Number of Launches over Time by the Top 10 Organisations. \n",
    "\n",
    "How has the dominance of launches changed over time between the different players? "
   ]
  },
  {
   "cell_type": "code",
   "execution_count": 37,
   "metadata": {},
   "outputs": [
    {
     "name": "stdout",
     "output_type": "stream",
     "text": [
      "RVSN USSR\n",
      "Arianespace\n",
      "General Dynamics\n",
      "CASC\n",
      "NASA\n",
      "VKS RF\n",
      "US Air Force\n",
      "ULA\n",
      "Boeing\n",
      "Martin Marietta\n"
     ]
    },
    {
     "data": {
      "application/vnd.plotly.v1+json": {
       "config": {
        "plotlyServerURL": "https://plot.ly"
       },
       "data": [
        {
         "alignmentgroup": "True",
         "bingroup": "x",
         "hovertemplate": "Organisation=%{x}<br>count=%{y}<extra></extra>",
         "legendgroup": "",
         "marker": {
          "color": "#636efa",
          "pattern": {
           "shape": ""
          }
         },
         "name": "",
         "nbinsx": 10,
         "offsetgroup": "",
         "orientation": "v",
         "showlegend": false,
         "type": "histogram",
         "x": [
          "Arianespace",
          "Arianespace",
          "Arianespace",
          "Arianespace",
          "Arianespace",
          "Arianespace",
          "Arianespace",
          "Arianespace",
          "Arianespace",
          "Arianespace",
          "Arianespace",
          "Arianespace",
          "Arianespace",
          "Arianespace",
          "Arianespace",
          "Arianespace",
          "Arianespace",
          "Arianespace",
          "Arianespace",
          "Arianespace",
          "Arianespace",
          "Arianespace",
          "Arianespace",
          "Arianespace",
          "Arianespace",
          "Arianespace",
          "Arianespace",
          "Arianespace",
          "Arianespace",
          "Arianespace",
          "Arianespace",
          "Arianespace",
          "Arianespace",
          "Arianespace",
          "Arianespace",
          "Arianespace",
          "Arianespace",
          "Arianespace",
          "Arianespace",
          "Arianespace",
          "Arianespace",
          "Arianespace",
          "Arianespace",
          "Arianespace",
          "Arianespace",
          "Arianespace",
          "Arianespace",
          "Arianespace",
          "Arianespace",
          "Arianespace",
          "Arianespace",
          "Arianespace",
          "Arianespace",
          "Arianespace",
          "Arianespace",
          "Arianespace",
          "Arianespace",
          "Arianespace",
          "Arianespace",
          "Arianespace",
          "Arianespace",
          "Arianespace",
          "Arianespace",
          "Arianespace",
          "Arianespace",
          "Arianespace",
          "Arianespace",
          "Arianespace",
          "Arianespace",
          "Arianespace",
          "Arianespace",
          "Arianespace",
          "Arianespace",
          "Arianespace",
          "Arianespace",
          "Arianespace",
          "Arianespace",
          "Arianespace",
          "Arianespace",
          "Arianespace",
          "Arianespace",
          "Arianespace",
          "Arianespace",
          "Arianespace",
          "Arianespace",
          "Arianespace",
          "Arianespace",
          "Arianespace",
          "Arianespace",
          "Arianespace",
          "Arianespace",
          "Arianespace",
          "Arianespace",
          "Arianespace",
          "Arianespace",
          "Arianespace",
          "Arianespace",
          "Arianespace",
          "Arianespace",
          "Arianespace",
          "Arianespace",
          "Arianespace",
          "Arianespace",
          "Arianespace",
          "Arianespace",
          "Arianespace",
          "Arianespace",
          "Arianespace",
          "Arianespace",
          "Arianespace",
          "Arianespace",
          "Arianespace",
          "Arianespace",
          "Arianespace",
          "Arianespace",
          "Arianespace",
          "Arianespace",
          "Arianespace",
          "Arianespace",
          "Arianespace",
          "Arianespace",
          "Arianespace",
          "Arianespace",
          "Arianespace",
          "Arianespace",
          "Arianespace",
          "Arianespace",
          "Arianespace",
          "Arianespace",
          "Arianespace",
          "Arianespace",
          "Arianespace",
          "Arianespace",
          "Arianespace",
          "Arianespace",
          "Arianespace",
          "Arianespace",
          "Arianespace",
          "Arianespace",
          "Arianespace",
          "Arianespace",
          "Arianespace",
          "Arianespace",
          "Arianespace",
          "Arianespace",
          "Arianespace",
          "Arianespace",
          "Arianespace",
          "Arianespace",
          "Arianespace",
          "Arianespace",
          "Arianespace",
          "Arianespace",
          "Arianespace",
          "Arianespace",
          "Arianespace",
          "Arianespace",
          "Arianespace",
          "Arianespace",
          "Arianespace",
          "Arianespace",
          "Arianespace",
          "Arianespace",
          "Arianespace",
          "Arianespace",
          "Arianespace",
          "Arianespace",
          "Arianespace",
          "Arianespace",
          "Arianespace",
          "Arianespace",
          "Arianespace",
          "Arianespace",
          "Arianespace",
          "Arianespace",
          "Arianespace",
          "Arianespace",
          "Arianespace",
          "Arianespace",
          "Arianespace",
          "Arianespace",
          "Arianespace",
          "Arianespace",
          "Arianespace",
          "Arianespace",
          "Arianespace",
          "Arianespace",
          "Arianespace",
          "Arianespace",
          "Arianespace",
          "Arianespace",
          "Arianespace",
          "Arianespace",
          "Arianespace",
          "Arianespace",
          "Arianespace",
          "Arianespace",
          "Arianespace",
          "Arianespace",
          "Arianespace",
          "Arianespace",
          "Arianespace",
          "Arianespace",
          "Arianespace",
          "Arianespace",
          "Arianespace",
          "Arianespace",
          "Arianespace",
          "Arianespace",
          "Arianespace",
          "Arianespace",
          "Arianespace",
          "Arianespace",
          "Arianespace",
          "Arianespace",
          "Arianespace",
          "Arianespace",
          "Arianespace",
          "Arianespace",
          "Arianespace",
          "Arianespace",
          "Arianespace",
          "Arianespace",
          "Arianespace",
          "Arianespace",
          "Arianespace",
          "Arianespace",
          "Arianespace",
          "Arianespace",
          "Arianespace",
          "Arianespace",
          "Arianespace",
          "Arianespace",
          "Arianespace",
          "Arianespace",
          "Arianespace",
          "Arianespace",
          "Arianespace",
          "Arianespace",
          "Arianespace",
          "Arianespace",
          "Arianespace",
          "Arianespace",
          "Arianespace",
          "Arianespace",
          "Arianespace",
          "Arianespace",
          "Arianespace",
          "Arianespace",
          "Arianespace",
          "Arianespace",
          "Arianespace",
          "Arianespace",
          "Arianespace",
          "Arianespace",
          "Arianespace",
          "Arianespace",
          "Arianespace",
          "Arianespace",
          "Arianespace",
          "Arianespace",
          "Arianespace",
          "Arianespace",
          "Arianespace",
          "Arianespace",
          "Arianespace",
          "Arianespace",
          "Arianespace",
          "Arianespace",
          "Arianespace",
          "Arianespace",
          "Arianespace",
          "Arianespace",
          "Arianespace",
          "Arianespace",
          "Arianespace",
          "Arianespace",
          "Arianespace",
          "Arianespace",
          "Boeing",
          "Boeing",
          "Boeing",
          "Boeing",
          "Boeing",
          "Boeing",
          "Boeing",
          "Boeing",
          "Boeing",
          "Boeing",
          "Boeing",
          "Boeing",
          "Boeing",
          "Boeing",
          "Boeing",
          "Boeing",
          "Boeing",
          "Boeing",
          "Boeing",
          "Boeing",
          "Boeing",
          "Boeing",
          "Boeing",
          "Boeing",
          "Boeing",
          "Boeing",
          "Boeing",
          "Boeing",
          "Boeing",
          "Boeing",
          "Boeing",
          "Boeing",
          "Boeing",
          "Boeing",
          "Boeing",
          "Boeing",
          "Boeing",
          "Boeing",
          "Boeing",
          "Boeing",
          "Boeing",
          "Boeing",
          "Boeing",
          "Boeing",
          "Boeing",
          "Boeing",
          "Boeing",
          "Boeing",
          "Boeing",
          "Boeing",
          "Boeing",
          "Boeing",
          "Boeing",
          "Boeing",
          "Boeing",
          "Boeing",
          "Boeing",
          "Boeing",
          "Boeing",
          "Boeing",
          "Boeing",
          "Boeing",
          "Boeing",
          "Boeing",
          "Boeing",
          "Boeing",
          "Boeing",
          "Boeing",
          "Boeing",
          "Boeing",
          "Boeing",
          "Boeing",
          "Boeing",
          "Boeing",
          "Boeing",
          "Boeing",
          "Boeing",
          "Boeing",
          "Boeing",
          "Boeing",
          "Boeing",
          "Boeing",
          "Boeing",
          "Boeing",
          "Boeing",
          "Boeing",
          "Boeing",
          "Boeing",
          "Boeing",
          "Boeing",
          "Boeing",
          "Boeing",
          "Boeing",
          "Boeing",
          "Boeing",
          "Boeing",
          "Boeing",
          "Boeing",
          "Boeing",
          "Boeing",
          "Boeing",
          "Boeing",
          "Boeing",
          "Boeing",
          "Boeing",
          "Boeing",
          "Boeing",
          "Boeing",
          "Boeing",
          "Boeing",
          "Boeing",
          "Boeing",
          "Boeing",
          "Boeing",
          "Boeing",
          "Boeing",
          "Boeing",
          "Boeing",
          "Boeing",
          "Boeing",
          "Boeing",
          "Boeing",
          "Boeing",
          "Boeing",
          "Boeing",
          "Boeing",
          "Boeing",
          "Boeing",
          "Boeing",
          "Boeing",
          "Boeing",
          "Boeing",
          "Boeing",
          "Boeing",
          "Boeing",
          "Boeing",
          "CASC",
          "CASC",
          "CASC",
          "CASC",
          "CASC",
          "CASC",
          "CASC",
          "CASC",
          "CASC",
          "CASC",
          "CASC",
          "CASC",
          "CASC",
          "CASC",
          "CASC",
          "CASC",
          "CASC",
          "CASC",
          "CASC",
          "CASC",
          "CASC",
          "CASC",
          "CASC",
          "CASC",
          "CASC",
          "CASC",
          "CASC",
          "CASC",
          "CASC",
          "CASC",
          "CASC",
          "CASC",
          "CASC",
          "CASC",
          "CASC",
          "CASC",
          "CASC",
          "CASC",
          "CASC",
          "CASC",
          "CASC",
          "CASC",
          "CASC",
          "CASC",
          "CASC",
          "CASC",
          "CASC",
          "CASC",
          "CASC",
          "CASC",
          "CASC",
          "CASC",
          "CASC",
          "CASC",
          "CASC",
          "CASC",
          "CASC",
          "CASC",
          "CASC",
          "CASC",
          "CASC",
          "CASC",
          "CASC",
          "CASC",
          "CASC",
          "CASC",
          "CASC",
          "CASC",
          "CASC",
          "CASC",
          "CASC",
          "CASC",
          "CASC",
          "CASC",
          "CASC",
          "CASC",
          "CASC",
          "CASC",
          "CASC",
          "CASC",
          "CASC",
          "CASC",
          "CASC",
          "CASC",
          "CASC",
          "CASC",
          "CASC",
          "CASC",
          "CASC",
          "CASC",
          "CASC",
          "CASC",
          "CASC",
          "CASC",
          "CASC",
          "CASC",
          "CASC",
          "CASC",
          "CASC",
          "CASC",
          "CASC",
          "CASC",
          "CASC",
          "CASC",
          "CASC",
          "CASC",
          "CASC",
          "CASC",
          "CASC",
          "CASC",
          "CASC",
          "CASC",
          "CASC",
          "CASC",
          "CASC",
          "CASC",
          "CASC",
          "CASC",
          "CASC",
          "CASC",
          "CASC",
          "CASC",
          "CASC",
          "CASC",
          "CASC",
          "CASC",
          "CASC",
          "CASC",
          "CASC",
          "CASC",
          "CASC",
          "CASC",
          "CASC",
          "CASC",
          "CASC",
          "CASC",
          "CASC",
          "CASC",
          "CASC",
          "CASC",
          "CASC",
          "CASC",
          "CASC",
          "CASC",
          "CASC",
          "CASC",
          "CASC",
          "CASC",
          "CASC",
          "CASC",
          "CASC",
          "CASC",
          "CASC",
          "CASC",
          "CASC",
          "CASC",
          "CASC",
          "CASC",
          "CASC",
          "CASC",
          "CASC",
          "CASC",
          "CASC",
          "CASC",
          "CASC",
          "CASC",
          "CASC",
          "CASC",
          "CASC",
          "CASC",
          "CASC",
          "CASC",
          "CASC",
          "CASC",
          "CASC",
          "CASC",
          "CASC",
          "CASC",
          "CASC",
          "CASC",
          "CASC",
          "CASC",
          "CASC",
          "CASC",
          "CASC",
          "CASC",
          "CASC",
          "CASC",
          "CASC",
          "CASC",
          "CASC",
          "CASC",
          "CASC",
          "CASC",
          "CASC",
          "CASC",
          "CASC",
          "CASC",
          "CASC",
          "CASC",
          "CASC",
          "CASC",
          "CASC",
          "CASC",
          "CASC",
          "CASC",
          "CASC",
          "CASC",
          "CASC",
          "CASC",
          "CASC",
          "CASC",
          "CASC",
          "CASC",
          "CASC",
          "CASC",
          "CASC",
          "CASC",
          "CASC",
          "CASC",
          "CASC",
          "CASC",
          "CASC",
          "CASC",
          "CASC",
          "CASC",
          "CASC",
          "CASC",
          "CASC",
          "CASC",
          "CASC",
          "CASC",
          "CASC",
          "CASC",
          "CASC",
          "CASC",
          "CASC",
          "CASC",
          "CASC",
          "CASC",
          "CASC",
          "CASC",
          "CASC",
          "CASC",
          "CASC",
          "CASC",
          "CASC",
          "CASC",
          "CASC",
          "CASC",
          "CASC",
          "General Dynamics",
          "General Dynamics",
          "General Dynamics",
          "General Dynamics",
          "General Dynamics",
          "General Dynamics",
          "General Dynamics",
          "General Dynamics",
          "General Dynamics",
          "General Dynamics",
          "General Dynamics",
          "General Dynamics",
          "General Dynamics",
          "General Dynamics",
          "General Dynamics",
          "General Dynamics",
          "General Dynamics",
          "General Dynamics",
          "General Dynamics",
          "General Dynamics",
          "General Dynamics",
          "General Dynamics",
          "General Dynamics",
          "General Dynamics",
          "General Dynamics",
          "General Dynamics",
          "General Dynamics",
          "General Dynamics",
          "General Dynamics",
          "General Dynamics",
          "General Dynamics",
          "General Dynamics",
          "General Dynamics",
          "General Dynamics",
          "General Dynamics",
          "General Dynamics",
          "General Dynamics",
          "General Dynamics",
          "General Dynamics",
          "General Dynamics",
          "General Dynamics",
          "General Dynamics",
          "General Dynamics",
          "General Dynamics",
          "General Dynamics",
          "General Dynamics",
          "General Dynamics",
          "General Dynamics",
          "General Dynamics",
          "General Dynamics",
          "General Dynamics",
          "General Dynamics",
          "General Dynamics",
          "General Dynamics",
          "General Dynamics",
          "General Dynamics",
          "General Dynamics",
          "General Dynamics",
          "General Dynamics",
          "General Dynamics",
          "General Dynamics",
          "General Dynamics",
          "General Dynamics",
          "General Dynamics",
          "General Dynamics",
          "General Dynamics",
          "General Dynamics",
          "General Dynamics",
          "General Dynamics",
          "General Dynamics",
          "General Dynamics",
          "General Dynamics",
          "General Dynamics",
          "General Dynamics",
          "General Dynamics",
          "General Dynamics",
          "General Dynamics",
          "General Dynamics",
          "General Dynamics",
          "General Dynamics",
          "General Dynamics",
          "General Dynamics",
          "General Dynamics",
          "General Dynamics",
          "General Dynamics",
          "General Dynamics",
          "General Dynamics",
          "General Dynamics",
          "General Dynamics",
          "General Dynamics",
          "General Dynamics",
          "General Dynamics",
          "General Dynamics",
          "General Dynamics",
          "General Dynamics",
          "General Dynamics",
          "General Dynamics",
          "General Dynamics",
          "General Dynamics",
          "General Dynamics",
          "General Dynamics",
          "General Dynamics",
          "General Dynamics",
          "General Dynamics",
          "General Dynamics",
          "General Dynamics",
          "General Dynamics",
          "General Dynamics",
          "General Dynamics",
          "General Dynamics",
          "General Dynamics",
          "General Dynamics",
          "General Dynamics",
          "General Dynamics",
          "General Dynamics",
          "General Dynamics",
          "General Dynamics",
          "General Dynamics",
          "General Dynamics",
          "General Dynamics",
          "General Dynamics",
          "General Dynamics",
          "General Dynamics",
          "General Dynamics",
          "General Dynamics",
          "General Dynamics",
          "General Dynamics",
          "General Dynamics",
          "General Dynamics",
          "General Dynamics",
          "General Dynamics",
          "General Dynamics",
          "General Dynamics",
          "General Dynamics",
          "General Dynamics",
          "General Dynamics",
          "General Dynamics",
          "General Dynamics",
          "General Dynamics",
          "General Dynamics",
          "General Dynamics",
          "General Dynamics",
          "General Dynamics",
          "General Dynamics",
          "General Dynamics",
          "General Dynamics",
          "General Dynamics",
          "General Dynamics",
          "General Dynamics",
          "General Dynamics",
          "General Dynamics",
          "General Dynamics",
          "General Dynamics",
          "General Dynamics",
          "General Dynamics",
          "General Dynamics",
          "General Dynamics",
          "General Dynamics",
          "General Dynamics",
          "General Dynamics",
          "General Dynamics",
          "General Dynamics",
          "General Dynamics",
          "General Dynamics",
          "General Dynamics",
          "General Dynamics",
          "General Dynamics",
          "General Dynamics",
          "General Dynamics",
          "General Dynamics",
          "General Dynamics",
          "General Dynamics",
          "General Dynamics",
          "General Dynamics",
          "General Dynamics",
          "General Dynamics",
          "General Dynamics",
          "General Dynamics",
          "General Dynamics",
          "General Dynamics",
          "General Dynamics",
          "General Dynamics",
          "General Dynamics",
          "General Dynamics",
          "General Dynamics",
          "General Dynamics",
          "General Dynamics",
          "General Dynamics",
          "General Dynamics",
          "General Dynamics",
          "General Dynamics",
          "General Dynamics",
          "General Dynamics",
          "General Dynamics",
          "General Dynamics",
          "General Dynamics",
          "General Dynamics",
          "General Dynamics",
          "General Dynamics",
          "General Dynamics",
          "General Dynamics",
          "General Dynamics",
          "General Dynamics",
          "General Dynamics",
          "General Dynamics",
          "General Dynamics",
          "General Dynamics",
          "General Dynamics",
          "General Dynamics",
          "General Dynamics",
          "General Dynamics",
          "General Dynamics",
          "General Dynamics",
          "General Dynamics",
          "General Dynamics",
          "General Dynamics",
          "General Dynamics",
          "General Dynamics",
          "General Dynamics",
          "General Dynamics",
          "General Dynamics",
          "General Dynamics",
          "General Dynamics",
          "General Dynamics",
          "General Dynamics",
          "General Dynamics",
          "General Dynamics",
          "General Dynamics",
          "General Dynamics",
          "General Dynamics",
          "General Dynamics",
          "General Dynamics",
          "General Dynamics",
          "General Dynamics",
          "General Dynamics",
          "General Dynamics",
          "General Dynamics",
          "General Dynamics",
          "General Dynamics",
          "General Dynamics",
          "General Dynamics",
          "General Dynamics",
          "General Dynamics",
          "General Dynamics",
          "General Dynamics",
          "General Dynamics",
          "General Dynamics",
          "General Dynamics",
          "General Dynamics",
          "General Dynamics",
          "General Dynamics",
          "Martin Marietta",
          "Martin Marietta",
          "Martin Marietta",
          "Martin Marietta",
          "Martin Marietta",
          "Martin Marietta",
          "Martin Marietta",
          "Martin Marietta",
          "Martin Marietta",
          "Martin Marietta",
          "Martin Marietta",
          "Martin Marietta",
          "Martin Marietta",
          "Martin Marietta",
          "Martin Marietta",
          "Martin Marietta",
          "Martin Marietta",
          "Martin Marietta",
          "Martin Marietta",
          "Martin Marietta",
          "Martin Marietta",
          "Martin Marietta",
          "Martin Marietta",
          "Martin Marietta",
          "Martin Marietta",
          "Martin Marietta",
          "Martin Marietta",
          "Martin Marietta",
          "Martin Marietta",
          "Martin Marietta",
          "Martin Marietta",
          "Martin Marietta",
          "Martin Marietta",
          "Martin Marietta",
          "Martin Marietta",
          "Martin Marietta",
          "Martin Marietta",
          "Martin Marietta",
          "Martin Marietta",
          "Martin Marietta",
          "Martin Marietta",
          "Martin Marietta",
          "Martin Marietta",
          "Martin Marietta",
          "Martin Marietta",
          "Martin Marietta",
          "Martin Marietta",
          "Martin Marietta",
          "Martin Marietta",
          "Martin Marietta",
          "Martin Marietta",
          "Martin Marietta",
          "Martin Marietta",
          "Martin Marietta",
          "Martin Marietta",
          "Martin Marietta",
          "Martin Marietta",
          "Martin Marietta",
          "Martin Marietta",
          "Martin Marietta",
          "Martin Marietta",
          "Martin Marietta",
          "Martin Marietta",
          "Martin Marietta",
          "Martin Marietta",
          "Martin Marietta",
          "Martin Marietta",
          "Martin Marietta",
          "Martin Marietta",
          "Martin Marietta",
          "Martin Marietta",
          "Martin Marietta",
          "Martin Marietta",
          "Martin Marietta",
          "Martin Marietta",
          "Martin Marietta",
          "Martin Marietta",
          "Martin Marietta",
          "Martin Marietta",
          "Martin Marietta",
          "Martin Marietta",
          "Martin Marietta",
          "Martin Marietta",
          "Martin Marietta",
          "Martin Marietta",
          "Martin Marietta",
          "Martin Marietta",
          "Martin Marietta",
          "Martin Marietta",
          "Martin Marietta",
          "Martin Marietta",
          "Martin Marietta",
          "Martin Marietta",
          "Martin Marietta",
          "Martin Marietta",
          "Martin Marietta",
          "Martin Marietta",
          "Martin Marietta",
          "Martin Marietta",
          "Martin Marietta",
          "Martin Marietta",
          "Martin Marietta",
          "Martin Marietta",
          "Martin Marietta",
          "Martin Marietta",
          "Martin Marietta",
          "Martin Marietta",
          "Martin Marietta",
          "Martin Marietta",
          "Martin Marietta",
          "Martin Marietta",
          "Martin Marietta",
          "Martin Marietta",
          "Martin Marietta",
          "NASA",
          "NASA",
          "NASA",
          "NASA",
          "NASA",
          "NASA",
          "NASA",
          "NASA",
          "NASA",
          "NASA",
          "NASA",
          "NASA",
          "NASA",
          "NASA",
          "NASA",
          "NASA",
          "NASA",
          "NASA",
          "NASA",
          "NASA",
          "NASA",
          "NASA",
          "NASA",
          "NASA",
          "NASA",
          "NASA",
          "NASA",
          "NASA",
          "NASA",
          "NASA",
          "NASA",
          "NASA",
          "NASA",
          "NASA",
          "NASA",
          "NASA",
          "NASA",
          "NASA",
          "NASA",
          "NASA",
          "NASA",
          "NASA",
          "NASA",
          "NASA",
          "NASA",
          "NASA",
          "NASA",
          "NASA",
          "NASA",
          "NASA",
          "NASA",
          "NASA",
          "NASA",
          "NASA",
          "NASA",
          "NASA",
          "NASA",
          "NASA",
          "NASA",
          "NASA",
          "NASA",
          "NASA",
          "NASA",
          "NASA",
          "NASA",
          "NASA",
          "NASA",
          "NASA",
          "NASA",
          "NASA",
          "NASA",
          "NASA",
          "NASA",
          "NASA",
          "NASA",
          "NASA",
          "NASA",
          "NASA",
          "NASA",
          "NASA",
          "NASA",
          "NASA",
          "NASA",
          "NASA",
          "NASA",
          "NASA",
          "NASA",
          "NASA",
          "NASA",
          "NASA",
          "NASA",
          "NASA",
          "NASA",
          "NASA",
          "NASA",
          "NASA",
          "NASA",
          "NASA",
          "NASA",
          "NASA",
          "NASA",
          "NASA",
          "NASA",
          "NASA",
          "NASA",
          "NASA",
          "NASA",
          "NASA",
          "NASA",
          "NASA",
          "NASA",
          "NASA",
          "NASA",
          "NASA",
          "NASA",
          "NASA",
          "NASA",
          "NASA",
          "NASA",
          "NASA",
          "NASA",
          "NASA",
          "NASA",
          "NASA",
          "NASA",
          "NASA",
          "NASA",
          "NASA",
          "NASA",
          "NASA",
          "NASA",
          "NASA",
          "NASA",
          "NASA",
          "NASA",
          "NASA",
          "NASA",
          "NASA",
          "NASA",
          "NASA",
          "NASA",
          "NASA",
          "NASA",
          "NASA",
          "NASA",
          "NASA",
          "NASA",
          "NASA",
          "NASA",
          "NASA",
          "NASA",
          "NASA",
          "NASA",
          "NASA",
          "NASA",
          "NASA",
          "NASA",
          "NASA",
          "NASA",
          "NASA",
          "NASA",
          "NASA",
          "NASA",
          "NASA",
          "NASA",
          "NASA",
          "NASA",
          "NASA",
          "NASA",
          "NASA",
          "NASA",
          "NASA",
          "NASA",
          "NASA",
          "NASA",
          "NASA",
          "NASA",
          "NASA",
          "NASA",
          "NASA",
          "NASA",
          "NASA",
          "NASA",
          "NASA",
          "NASA",
          "NASA",
          "NASA",
          "NASA",
          "NASA",
          "NASA",
          "NASA",
          "NASA",
          "NASA",
          "NASA",
          "NASA",
          "NASA",
          "NASA",
          "NASA",
          "NASA",
          "NASA",
          "NASA",
          "NASA",
          "NASA",
          "RVSN USSR",
          "RVSN USSR",
          "RVSN USSR",
          "RVSN USSR",
          "RVSN USSR",
          "RVSN USSR",
          "RVSN USSR",
          "RVSN USSR",
          "RVSN USSR",
          "RVSN USSR",
          "RVSN USSR",
          "RVSN USSR",
          "RVSN USSR",
          "RVSN USSR",
          "RVSN USSR",
          "RVSN USSR",
          "RVSN USSR",
          "RVSN USSR",
          "RVSN USSR",
          "RVSN USSR",
          "RVSN USSR",
          "RVSN USSR",
          "RVSN USSR",
          "RVSN USSR",
          "RVSN USSR",
          "RVSN USSR",
          "RVSN USSR",
          "RVSN USSR",
          "RVSN USSR",
          "RVSN USSR",
          "RVSN USSR",
          "RVSN USSR",
          "RVSN USSR",
          "RVSN USSR",
          "RVSN USSR",
          "RVSN USSR",
          "RVSN USSR",
          "RVSN USSR",
          "RVSN USSR",
          "RVSN USSR",
          "RVSN USSR",
          "RVSN USSR",
          "RVSN USSR",
          "RVSN USSR",
          "RVSN USSR",
          "RVSN USSR",
          "RVSN USSR",
          "RVSN USSR",
          "RVSN USSR",
          "RVSN USSR",
          "RVSN USSR",
          "RVSN USSR",
          "RVSN USSR",
          "RVSN USSR",
          "RVSN USSR",
          "RVSN USSR",
          "RVSN USSR",
          "RVSN USSR",
          "RVSN USSR",
          "RVSN USSR",
          "RVSN USSR",
          "RVSN USSR",
          "RVSN USSR",
          "RVSN USSR",
          "RVSN USSR",
          "RVSN USSR",
          "RVSN USSR",
          "RVSN USSR",
          "RVSN USSR",
          "RVSN USSR",
          "RVSN USSR",
          "RVSN USSR",
          "RVSN USSR",
          "RVSN USSR",
          "RVSN USSR",
          "RVSN USSR",
          "RVSN USSR",
          "RVSN USSR",
          "RVSN USSR",
          "RVSN USSR",
          "RVSN USSR",
          "RVSN USSR",
          "RVSN USSR",
          "RVSN USSR",
          "RVSN USSR",
          "RVSN USSR",
          "RVSN USSR",
          "RVSN USSR",
          "RVSN USSR",
          "RVSN USSR",
          "RVSN USSR",
          "RVSN USSR",
          "RVSN USSR",
          "RVSN USSR",
          "RVSN USSR",
          "RVSN USSR",
          "RVSN USSR",
          "RVSN USSR",
          "RVSN USSR",
          "RVSN USSR",
          "RVSN USSR",
          "RVSN USSR",
          "RVSN USSR",
          "RVSN USSR",
          "RVSN USSR",
          "RVSN USSR",
          "RVSN USSR",
          "RVSN USSR",
          "RVSN USSR",
          "RVSN USSR",
          "RVSN USSR",
          "RVSN USSR",
          "RVSN USSR",
          "RVSN USSR",
          "RVSN USSR",
          "RVSN USSR",
          "RVSN USSR",
          "RVSN USSR",
          "RVSN USSR",
          "RVSN USSR",
          "RVSN USSR",
          "RVSN USSR",
          "RVSN USSR",
          "RVSN USSR",
          "RVSN USSR",
          "RVSN USSR",
          "RVSN USSR",
          "RVSN USSR",
          "RVSN USSR",
          "RVSN USSR",
          "RVSN USSR",
          "RVSN USSR",
          "RVSN USSR",
          "RVSN USSR",
          "RVSN USSR",
          "RVSN USSR",
          "RVSN USSR",
          "RVSN USSR",
          "RVSN USSR",
          "RVSN USSR",
          "RVSN USSR",
          "RVSN USSR",
          "RVSN USSR",
          "RVSN USSR",
          "RVSN USSR",
          "RVSN USSR",
          "RVSN USSR",
          "RVSN USSR",
          "RVSN USSR",
          "RVSN USSR",
          "RVSN USSR",
          "RVSN USSR",
          "RVSN USSR",
          "RVSN USSR",
          "RVSN USSR",
          "RVSN USSR",
          "RVSN USSR",
          "RVSN USSR",
          "RVSN USSR",
          "RVSN USSR",
          "RVSN USSR",
          "RVSN USSR",
          "RVSN USSR",
          "RVSN USSR",
          "RVSN USSR",
          "RVSN USSR",
          "RVSN USSR",
          "RVSN USSR",
          "RVSN USSR",
          "RVSN USSR",
          "RVSN USSR",
          "RVSN USSR",
          "RVSN USSR",
          "RVSN USSR",
          "RVSN USSR",
          "RVSN USSR",
          "RVSN USSR",
          "RVSN USSR",
          "RVSN USSR",
          "RVSN USSR",
          "RVSN USSR",
          "RVSN USSR",
          "RVSN USSR",
          "RVSN USSR",
          "RVSN USSR",
          "RVSN USSR",
          "RVSN USSR",
          "RVSN USSR",
          "RVSN USSR",
          "RVSN USSR",
          "RVSN USSR",
          "RVSN USSR",
          "RVSN USSR",
          "RVSN USSR",
          "RVSN USSR",
          "RVSN USSR",
          "RVSN USSR",
          "RVSN USSR",
          "RVSN USSR",
          "RVSN USSR",
          "RVSN USSR",
          "RVSN USSR",
          "RVSN USSR",
          "RVSN USSR",
          "RVSN USSR",
          "RVSN USSR",
          "RVSN USSR",
          "RVSN USSR",
          "RVSN USSR",
          "RVSN USSR",
          "RVSN USSR",
          "RVSN USSR",
          "RVSN USSR",
          "RVSN USSR",
          "RVSN USSR",
          "RVSN USSR",
          "RVSN USSR",
          "RVSN USSR",
          "RVSN USSR",
          "RVSN USSR",
          "RVSN USSR",
          "RVSN USSR",
          "RVSN USSR",
          "RVSN USSR",
          "RVSN USSR",
          "RVSN USSR",
          "RVSN USSR",
          "RVSN USSR",
          "RVSN USSR",
          "RVSN USSR",
          "RVSN USSR",
          "RVSN USSR",
          "RVSN USSR",
          "RVSN USSR",
          "RVSN USSR",
          "RVSN USSR",
          "RVSN USSR",
          "RVSN USSR",
          "RVSN USSR",
          "RVSN USSR",
          "RVSN USSR",
          "RVSN USSR",
          "RVSN USSR",
          "RVSN USSR",
          "RVSN USSR",
          "RVSN USSR",
          "RVSN USSR",
          "RVSN USSR",
          "RVSN USSR",
          "RVSN USSR",
          "RVSN USSR",
          "RVSN USSR",
          "RVSN USSR",
          "RVSN USSR",
          "RVSN USSR",
          "RVSN USSR",
          "RVSN USSR",
          "RVSN USSR",
          "RVSN USSR",
          "RVSN USSR",
          "RVSN USSR",
          "RVSN USSR",
          "RVSN USSR",
          "RVSN USSR",
          "RVSN USSR",
          "RVSN USSR",
          "RVSN USSR",
          "RVSN USSR",
          "RVSN USSR",
          "RVSN USSR",
          "RVSN USSR",
          "RVSN USSR",
          "RVSN USSR",
          "RVSN USSR",
          "RVSN USSR",
          "RVSN USSR",
          "RVSN USSR",
          "RVSN USSR",
          "RVSN USSR",
          "RVSN USSR",
          "RVSN USSR",
          "RVSN USSR",
          "RVSN USSR",
          "RVSN USSR",
          "RVSN USSR",
          "RVSN USSR",
          "RVSN USSR",
          "RVSN USSR",
          "RVSN USSR",
          "RVSN USSR",
          "RVSN USSR",
          "RVSN USSR",
          "RVSN USSR",
          "RVSN USSR",
          "RVSN USSR",
          "RVSN USSR",
          "RVSN USSR",
          "RVSN USSR",
          "RVSN USSR",
          "RVSN USSR",
          "RVSN USSR",
          "RVSN USSR",
          "RVSN USSR",
          "RVSN USSR",
          "RVSN USSR",
          "RVSN USSR",
          "RVSN USSR",
          "RVSN USSR",
          "RVSN USSR",
          "RVSN USSR",
          "RVSN USSR",
          "RVSN USSR",
          "RVSN USSR",
          "RVSN USSR",
          "RVSN USSR",
          "RVSN USSR",
          "RVSN USSR",
          "RVSN USSR",
          "RVSN USSR",
          "RVSN USSR",
          "RVSN USSR",
          "RVSN USSR",
          "RVSN USSR",
          "RVSN USSR",
          "RVSN USSR",
          "RVSN USSR",
          "RVSN USSR",
          "RVSN USSR",
          "RVSN USSR",
          "RVSN USSR",
          "RVSN USSR",
          "RVSN USSR",
          "RVSN USSR",
          "RVSN USSR",
          "RVSN USSR",
          "RVSN USSR",
          "RVSN USSR",
          "RVSN USSR",
          "RVSN USSR",
          "RVSN USSR",
          "RVSN USSR",
          "RVSN USSR",
          "RVSN USSR",
          "RVSN USSR",
          "RVSN USSR",
          "RVSN USSR",
          "RVSN USSR",
          "RVSN USSR",
          "RVSN USSR",
          "RVSN USSR",
          "RVSN USSR",
          "RVSN USSR",
          "RVSN USSR",
          "RVSN USSR",
          "RVSN USSR",
          "RVSN USSR",
          "RVSN USSR",
          "RVSN USSR",
          "RVSN USSR",
          "RVSN USSR",
          "RVSN USSR",
          "RVSN USSR",
          "RVSN USSR",
          "RVSN USSR",
          "RVSN USSR",
          "RVSN USSR",
          "RVSN USSR",
          "RVSN USSR",
          "RVSN USSR",
          "RVSN USSR",
          "RVSN USSR",
          "RVSN USSR",
          "RVSN USSR",
          "RVSN USSR",
          "RVSN USSR",
          "RVSN USSR",
          "RVSN USSR",
          "RVSN USSR",
          "RVSN USSR",
          "RVSN USSR",
          "RVSN USSR",
          "RVSN USSR",
          "RVSN USSR",
          "RVSN USSR",
          "RVSN USSR",
          "RVSN USSR",
          "RVSN USSR",
          "RVSN USSR",
          "RVSN USSR",
          "RVSN USSR",
          "RVSN USSR",
          "RVSN USSR",
          "RVSN USSR",
          "RVSN USSR",
          "RVSN USSR",
          "RVSN USSR",
          "RVSN USSR",
          "RVSN USSR",
          "RVSN USSR",
          "RVSN USSR",
          "RVSN USSR",
          "RVSN USSR",
          "RVSN USSR",
          "RVSN USSR",
          "RVSN USSR",
          "RVSN USSR",
          "RVSN USSR",
          "RVSN USSR",
          "RVSN USSR",
          "RVSN USSR",
          "RVSN USSR",
          "RVSN USSR",
          "RVSN USSR",
          "RVSN USSR",
          "RVSN USSR",
          "RVSN USSR",
          "RVSN USSR",
          "RVSN USSR",
          "RVSN USSR",
          "RVSN USSR",
          "RVSN USSR",
          "RVSN USSR",
          "RVSN USSR",
          "RVSN USSR",
          "RVSN USSR",
          "RVSN USSR",
          "RVSN USSR",
          "RVSN USSR",
          "RVSN USSR",
          "RVSN USSR",
          "RVSN USSR",
          "RVSN USSR",
          "RVSN USSR",
          "RVSN USSR",
          "RVSN USSR",
          "RVSN USSR",
          "RVSN USSR",
          "RVSN USSR",
          "RVSN USSR",
          "RVSN USSR",
          "RVSN USSR",
          "RVSN USSR",
          "RVSN USSR",
          "RVSN USSR",
          "RVSN USSR",
          "RVSN USSR",
          "RVSN USSR",
          "RVSN USSR",
          "RVSN USSR",
          "RVSN USSR",
          "RVSN USSR",
          "RVSN USSR",
          "RVSN USSR",
          "RVSN USSR",
          "RVSN USSR",
          "RVSN USSR",
          "RVSN USSR",
          "RVSN USSR",
          "RVSN USSR",
          "RVSN USSR",
          "RVSN USSR",
          "RVSN USSR",
          "RVSN USSR",
          "RVSN USSR",
          "RVSN USSR",
          "RVSN USSR",
          "RVSN USSR",
          "RVSN USSR",
          "RVSN USSR",
          "RVSN USSR",
          "RVSN USSR",
          "RVSN USSR",
          "RVSN USSR",
          "RVSN USSR",
          "RVSN USSR",
          "RVSN USSR",
          "RVSN USSR",
          "RVSN USSR",
          "RVSN USSR",
          "RVSN USSR",
          "RVSN USSR",
          "RVSN USSR",
          "RVSN USSR",
          "RVSN USSR",
          "RVSN USSR",
          "RVSN USSR",
          "RVSN USSR",
          "RVSN USSR",
          "RVSN USSR",
          "RVSN USSR",
          "RVSN USSR",
          "RVSN USSR",
          "RVSN USSR",
          "RVSN USSR",
          "RVSN USSR",
          "RVSN USSR",
          "RVSN USSR",
          "RVSN USSR",
          "RVSN USSR",
          "RVSN USSR",
          "RVSN USSR",
          "RVSN USSR",
          "RVSN USSR",
          "RVSN USSR",
          "RVSN USSR",
          "RVSN USSR",
          "RVSN USSR",
          "RVSN USSR",
          "RVSN USSR",
          "RVSN USSR",
          "RVSN USSR",
          "RVSN USSR",
          "RVSN USSR",
          "RVSN USSR",
          "RVSN USSR",
          "RVSN USSR",
          "RVSN USSR",
          "RVSN USSR",
          "RVSN USSR",
          "RVSN USSR",
          "RVSN USSR",
          "RVSN USSR",
          "RVSN USSR",
          "RVSN USSR",
          "RVSN USSR",
          "RVSN USSR",
          "RVSN USSR",
          "RVSN USSR",
          "RVSN USSR",
          "RVSN USSR",
          "RVSN USSR",
          "RVSN USSR",
          "RVSN USSR",
          "RVSN USSR",
          "RVSN USSR",
          "RVSN USSR",
          "RVSN USSR",
          "RVSN USSR",
          "RVSN USSR",
          "RVSN USSR",
          "RVSN USSR",
          "RVSN USSR",
          "RVSN USSR",
          "RVSN USSR",
          "RVSN USSR",
          "RVSN USSR",
          "RVSN USSR",
          "RVSN USSR",
          "RVSN USSR",
          "RVSN USSR",
          "RVSN USSR",
          "RVSN USSR",
          "RVSN USSR",
          "RVSN USSR",
          "RVSN USSR",
          "RVSN USSR",
          "RVSN USSR",
          "RVSN USSR",
          "RVSN USSR",
          "RVSN USSR",
          "RVSN USSR",
          "RVSN USSR",
          "RVSN USSR",
          "RVSN USSR",
          "RVSN USSR",
          "RVSN USSR",
          "RVSN USSR",
          "RVSN USSR",
          "RVSN USSR",
          "RVSN USSR",
          "RVSN USSR",
          "RVSN USSR",
          "RVSN USSR",
          "RVSN USSR",
          "RVSN USSR",
          "RVSN USSR",
          "RVSN USSR",
          "RVSN USSR",
          "RVSN USSR",
          "RVSN USSR",
          "RVSN USSR",
          "RVSN USSR",
          "RVSN USSR",
          "RVSN USSR",
          "RVSN USSR",
          "RVSN USSR",
          "RVSN USSR",
          "RVSN USSR",
          "RVSN USSR",
          "RVSN USSR",
          "RVSN USSR",
          "RVSN USSR",
          "RVSN USSR",
          "RVSN USSR",
          "RVSN USSR",
          "RVSN USSR",
          "RVSN USSR",
          "RVSN USSR",
          "RVSN USSR",
          "RVSN USSR",
          "RVSN USSR",
          "RVSN USSR",
          "RVSN USSR",
          "RVSN USSR",
          "RVSN USSR",
          "RVSN USSR",
          "RVSN USSR",
          "RVSN USSR",
          "RVSN USSR",
          "RVSN USSR",
          "RVSN USSR",
          "RVSN USSR",
          "RVSN USSR",
          "RVSN USSR",
          "RVSN USSR",
          "RVSN USSR",
          "RVSN USSR",
          "RVSN USSR",
          "RVSN USSR",
          "RVSN USSR",
          "RVSN USSR",
          "RVSN USSR",
          "RVSN USSR",
          "RVSN USSR",
          "RVSN USSR",
          "RVSN USSR",
          "RVSN USSR",
          "RVSN USSR",
          "RVSN USSR",
          "RVSN USSR",
          "RVSN USSR",
          "RVSN USSR",
          "RVSN USSR",
          "RVSN USSR",
          "RVSN USSR",
          "RVSN USSR",
          "RVSN USSR",
          "RVSN USSR",
          "RVSN USSR",
          "RVSN USSR",
          "RVSN USSR",
          "RVSN USSR",
          "RVSN USSR",
          "RVSN USSR",
          "RVSN USSR",
          "RVSN USSR",
          "RVSN USSR",
          "RVSN USSR",
          "RVSN USSR",
          "RVSN USSR",
          "RVSN USSR",
          "RVSN USSR",
          "RVSN USSR",
          "RVSN USSR",
          "RVSN USSR",
          "RVSN USSR",
          "RVSN USSR",
          "RVSN USSR",
          "RVSN USSR",
          "RVSN USSR",
          "RVSN USSR",
          "RVSN USSR",
          "RVSN USSR",
          "RVSN USSR",
          "RVSN USSR",
          "RVSN USSR",
          "RVSN USSR",
          "RVSN USSR",
          "RVSN USSR",
          "RVSN USSR",
          "RVSN USSR",
          "RVSN USSR",
          "RVSN USSR",
          "RVSN USSR",
          "RVSN USSR",
          "RVSN USSR",
          "RVSN USSR",
          "RVSN USSR",
          "RVSN USSR",
          "RVSN USSR",
          "RVSN USSR",
          "RVSN USSR",
          "RVSN USSR",
          "RVSN USSR",
          "RVSN USSR",
          "RVSN USSR",
          "RVSN USSR",
          "RVSN USSR",
          "RVSN USSR",
          "RVSN USSR",
          "RVSN USSR",
          "RVSN USSR",
          "RVSN USSR",
          "RVSN USSR",
          "RVSN USSR",
          "RVSN USSR",
          "RVSN USSR",
          "RVSN USSR",
          "RVSN USSR",
          "RVSN USSR",
          "RVSN USSR",
          "RVSN USSR",
          "RVSN USSR",
          "RVSN USSR",
          "RVSN USSR",
          "RVSN USSR",
          "RVSN USSR",
          "RVSN USSR",
          "RVSN USSR",
          "RVSN USSR",
          "RVSN USSR",
          "RVSN USSR",
          "RVSN USSR",
          "RVSN USSR",
          "RVSN USSR",
          "RVSN USSR",
          "RVSN USSR",
          "RVSN USSR",
          "RVSN USSR",
          "RVSN USSR",
          "RVSN USSR",
          "RVSN USSR",
          "RVSN USSR",
          "RVSN USSR",
          "RVSN USSR",
          "RVSN USSR",
          "RVSN USSR",
          "RVSN USSR",
          "RVSN USSR",
          "RVSN USSR",
          "RVSN USSR",
          "RVSN USSR",
          "RVSN USSR",
          "RVSN USSR",
          "RVSN USSR",
          "RVSN USSR",
          "RVSN USSR",
          "RVSN USSR",
          "RVSN USSR",
          "RVSN USSR",
          "RVSN USSR",
          "RVSN USSR",
          "RVSN USSR",
          "RVSN USSR",
          "RVSN USSR",
          "RVSN USSR",
          "RVSN USSR",
          "RVSN USSR",
          "RVSN USSR",
          "RVSN USSR",
          "RVSN USSR",
          "RVSN USSR",
          "RVSN USSR",
          "RVSN USSR",
          "RVSN USSR",
          "RVSN USSR",
          "RVSN USSR",
          "RVSN USSR",
          "RVSN USSR",
          "RVSN USSR",
          "RVSN USSR",
          "RVSN USSR",
          "RVSN USSR",
          "RVSN USSR",
          "RVSN USSR",
          "RVSN USSR",
          "RVSN USSR",
          "RVSN USSR",
          "RVSN USSR",
          "RVSN USSR",
          "RVSN USSR",
          "RVSN USSR",
          "RVSN USSR",
          "RVSN USSR",
          "RVSN USSR",
          "RVSN USSR",
          "RVSN USSR",
          "RVSN USSR",
          "RVSN USSR",
          "RVSN USSR",
          "RVSN USSR",
          "RVSN USSR",
          "RVSN USSR",
          "RVSN USSR",
          "RVSN USSR",
          "RVSN USSR",
          "RVSN USSR",
          "RVSN USSR",
          "RVSN USSR",
          "RVSN USSR",
          "RVSN USSR",
          "RVSN USSR",
          "RVSN USSR",
          "RVSN USSR",
          "RVSN USSR",
          "RVSN USSR",
          "RVSN USSR",
          "RVSN USSR",
          "RVSN USSR",
          "RVSN USSR",
          "RVSN USSR",
          "RVSN USSR",
          "RVSN USSR",
          "RVSN USSR",
          "RVSN USSR",
          "RVSN USSR",
          "RVSN USSR",
          "RVSN USSR",
          "RVSN USSR",
          "RVSN USSR",
          "RVSN USSR",
          "RVSN USSR",
          "RVSN USSR",
          "RVSN USSR",
          "RVSN USSR",
          "RVSN USSR",
          "RVSN USSR",
          "RVSN USSR",
          "RVSN USSR",
          "RVSN USSR",
          "RVSN USSR",
          "RVSN USSR",
          "RVSN USSR",
          "RVSN USSR",
          "RVSN USSR",
          "RVSN USSR",
          "RVSN USSR",
          "RVSN USSR",
          "RVSN USSR",
          "RVSN USSR",
          "RVSN USSR",
          "RVSN USSR",
          "RVSN USSR",
          "RVSN USSR",
          "RVSN USSR",
          "RVSN USSR",
          "RVSN USSR",
          "RVSN USSR",
          "RVSN USSR",
          "RVSN USSR",
          "RVSN USSR",
          "RVSN USSR",
          "RVSN USSR",
          "RVSN USSR",
          "RVSN USSR",
          "RVSN USSR",
          "RVSN USSR",
          "RVSN USSR",
          "RVSN USSR",
          "RVSN USSR",
          "RVSN USSR",
          "RVSN USSR",
          "RVSN USSR",
          "RVSN USSR",
          "RVSN USSR",
          "RVSN USSR",
          "RVSN USSR",
          "RVSN USSR",
          "RVSN USSR",
          "RVSN USSR",
          "RVSN USSR",
          "RVSN USSR",
          "RVSN USSR",
          "RVSN USSR",
          "RVSN USSR",
          "RVSN USSR",
          "RVSN USSR",
          "RVSN USSR",
          "RVSN USSR",
          "RVSN USSR",
          "RVSN USSR",
          "RVSN USSR",
          "RVSN USSR",
          "RVSN USSR",
          "RVSN USSR",
          "RVSN USSR",
          "RVSN USSR",
          "RVSN USSR",
          "RVSN USSR",
          "RVSN USSR",
          "RVSN USSR",
          "RVSN USSR",
          "RVSN USSR",
          "RVSN USSR",
          "RVSN USSR",
          "RVSN USSR",
          "RVSN USSR",
          "RVSN USSR",
          "RVSN USSR",
          "RVSN USSR",
          "RVSN USSR",
          "RVSN USSR",
          "RVSN USSR",
          "RVSN USSR",
          "RVSN USSR",
          "RVSN USSR",
          "RVSN USSR",
          "RVSN USSR",
          "RVSN USSR",
          "RVSN USSR",
          "RVSN USSR",
          "RVSN USSR",
          "RVSN USSR",
          "RVSN USSR",
          "RVSN USSR",
          "RVSN USSR",
          "RVSN USSR",
          "RVSN USSR",
          "RVSN USSR",
          "RVSN USSR",
          "RVSN USSR",
          "RVSN USSR",
          "RVSN USSR",
          "RVSN USSR",
          "RVSN USSR",
          "RVSN USSR",
          "RVSN USSR",
          "RVSN USSR",
          "RVSN USSR",
          "RVSN USSR",
          "RVSN USSR",
          "RVSN USSR",
          "RVSN USSR",
          "RVSN USSR",
          "RVSN USSR",
          "RVSN USSR",
          "RVSN USSR",
          "RVSN USSR",
          "RVSN USSR",
          "RVSN USSR",
          "RVSN USSR",
          "RVSN USSR",
          "RVSN USSR",
          "RVSN USSR",
          "RVSN USSR",
          "RVSN USSR",
          "RVSN USSR",
          "RVSN USSR",
          "RVSN USSR",
          "RVSN USSR",
          "RVSN USSR",
          "RVSN USSR",
          "RVSN USSR",
          "RVSN USSR",
          "RVSN USSR",
          "RVSN USSR",
          "RVSN USSR",
          "RVSN USSR",
          "RVSN USSR",
          "RVSN USSR",
          "RVSN USSR",
          "RVSN USSR",
          "RVSN USSR",
          "RVSN USSR",
          "RVSN USSR",
          "RVSN USSR",
          "RVSN USSR",
          "RVSN USSR",
          "RVSN USSR",
          "RVSN USSR",
          "RVSN USSR",
          "RVSN USSR",
          "RVSN USSR",
          "RVSN USSR",
          "RVSN USSR",
          "RVSN USSR",
          "RVSN USSR",
          "RVSN USSR",
          "RVSN USSR",
          "RVSN USSR",
          "RVSN USSR",
          "RVSN USSR",
          "RVSN USSR",
          "RVSN USSR",
          "RVSN USSR",
          "RVSN USSR",
          "RVSN USSR",
          "RVSN USSR",
          "RVSN USSR",
          "RVSN USSR",
          "RVSN USSR",
          "RVSN USSR",
          "RVSN USSR",
          "RVSN USSR",
          "RVSN USSR",
          "RVSN USSR",
          "RVSN USSR",
          "RVSN USSR",
          "RVSN USSR",
          "RVSN USSR",
          "RVSN USSR",
          "RVSN USSR",
          "RVSN USSR",
          "RVSN USSR",
          "RVSN USSR",
          "RVSN USSR",
          "RVSN USSR",
          "RVSN USSR",
          "RVSN USSR",
          "RVSN USSR",
          "RVSN USSR",
          "RVSN USSR",
          "RVSN USSR",
          "RVSN USSR",
          "RVSN USSR",
          "RVSN USSR",
          "RVSN USSR",
          "RVSN USSR",
          "RVSN USSR",
          "RVSN USSR",
          "RVSN USSR",
          "RVSN USSR",
          "RVSN USSR",
          "RVSN USSR",
          "RVSN USSR",
          "RVSN USSR",
          "RVSN USSR",
          "RVSN USSR",
          "RVSN USSR",
          "RVSN USSR",
          "RVSN USSR",
          "RVSN USSR",
          "RVSN USSR",
          "RVSN USSR",
          "RVSN USSR",
          "RVSN USSR",
          "RVSN USSR",
          "RVSN USSR",
          "RVSN USSR",
          "RVSN USSR",
          "RVSN USSR",
          "RVSN USSR",
          "RVSN USSR",
          "RVSN USSR",
          "RVSN USSR",
          "RVSN USSR",
          "RVSN USSR",
          "RVSN USSR",
          "RVSN USSR",
          "RVSN USSR",
          "RVSN USSR",
          "RVSN USSR",
          "RVSN USSR",
          "RVSN USSR",
          "RVSN USSR",
          "RVSN USSR",
          "RVSN USSR",
          "RVSN USSR",
          "RVSN USSR",
          "RVSN USSR",
          "RVSN USSR",
          "RVSN USSR",
          "RVSN USSR",
          "RVSN USSR",
          "RVSN USSR",
          "RVSN USSR",
          "RVSN USSR",
          "RVSN USSR",
          "RVSN USSR",
          "RVSN USSR",
          "RVSN USSR",
          "RVSN USSR",
          "RVSN USSR",
          "RVSN USSR",
          "RVSN USSR",
          "RVSN USSR",
          "RVSN USSR",
          "RVSN USSR",
          "RVSN USSR",
          "RVSN USSR",
          "RVSN USSR",
          "RVSN USSR",
          "RVSN USSR",
          "RVSN USSR",
          "RVSN USSR",
          "RVSN USSR",
          "RVSN USSR",
          "RVSN USSR",
          "RVSN USSR",
          "RVSN USSR",
          "RVSN USSR",
          "RVSN USSR",
          "RVSN USSR",
          "RVSN USSR",
          "RVSN USSR",
          "RVSN USSR",
          "RVSN USSR",
          "RVSN USSR",
          "RVSN USSR",
          "RVSN USSR",
          "RVSN USSR",
          "RVSN USSR",
          "RVSN USSR",
          "RVSN USSR",
          "RVSN USSR",
          "RVSN USSR",
          "RVSN USSR",
          "RVSN USSR",
          "RVSN USSR",
          "RVSN USSR",
          "RVSN USSR",
          "RVSN USSR",
          "RVSN USSR",
          "RVSN USSR",
          "RVSN USSR",
          "RVSN USSR",
          "RVSN USSR",
          "RVSN USSR",
          "RVSN USSR",
          "RVSN USSR",
          "RVSN USSR",
          "RVSN USSR",
          "RVSN USSR",
          "RVSN USSR",
          "RVSN USSR",
          "RVSN USSR",
          "RVSN USSR",
          "RVSN USSR",
          "RVSN USSR",
          "RVSN USSR",
          "RVSN USSR",
          "RVSN USSR",
          "RVSN USSR",
          "RVSN USSR",
          "RVSN USSR",
          "RVSN USSR",
          "RVSN USSR",
          "RVSN USSR",
          "RVSN USSR",
          "RVSN USSR",
          "RVSN USSR",
          "RVSN USSR",
          "RVSN USSR",
          "RVSN USSR",
          "RVSN USSR",
          "RVSN USSR",
          "RVSN USSR",
          "RVSN USSR",
          "RVSN USSR",
          "RVSN USSR",
          "RVSN USSR",
          "RVSN USSR",
          "RVSN USSR",
          "RVSN USSR",
          "RVSN USSR",
          "RVSN USSR",
          "RVSN USSR",
          "RVSN USSR",
          "RVSN USSR",
          "RVSN USSR",
          "RVSN USSR",
          "RVSN USSR",
          "RVSN USSR",
          "RVSN USSR",
          "RVSN USSR",
          "RVSN USSR",
          "RVSN USSR",
          "RVSN USSR",
          "RVSN USSR",
          "RVSN USSR",
          "RVSN USSR",
          "RVSN USSR",
          "RVSN USSR",
          "RVSN USSR",
          "RVSN USSR",
          "RVSN USSR",
          "RVSN USSR",
          "RVSN USSR",
          "RVSN USSR",
          "RVSN USSR",
          "RVSN USSR",
          "RVSN USSR",
          "RVSN USSR",
          "RVSN USSR",
          "RVSN USSR",
          "RVSN USSR",
          "RVSN USSR",
          "RVSN USSR",
          "RVSN USSR",
          "RVSN USSR",
          "RVSN USSR",
          "RVSN USSR",
          "RVSN USSR",
          "RVSN USSR",
          "RVSN USSR",
          "RVSN USSR",
          "RVSN USSR",
          "RVSN USSR",
          "RVSN USSR",
          "RVSN USSR",
          "RVSN USSR",
          "RVSN USSR",
          "RVSN USSR",
          "RVSN USSR",
          "RVSN USSR",
          "RVSN USSR",
          "RVSN USSR",
          "RVSN USSR",
          "RVSN USSR",
          "RVSN USSR",
          "RVSN USSR",
          "RVSN USSR",
          "RVSN USSR",
          "RVSN USSR",
          "RVSN USSR",
          "RVSN USSR",
          "RVSN USSR",
          "RVSN USSR",
          "RVSN USSR",
          "RVSN USSR",
          "RVSN USSR",
          "RVSN USSR",
          "RVSN USSR",
          "RVSN USSR",
          "RVSN USSR",
          "RVSN USSR",
          "RVSN USSR",
          "RVSN USSR",
          "RVSN USSR",
          "RVSN USSR",
          "RVSN USSR",
          "RVSN USSR",
          "RVSN USSR",
          "RVSN USSR",
          "RVSN USSR",
          "RVSN USSR",
          "RVSN USSR",
          "RVSN USSR",
          "RVSN USSR",
          "RVSN USSR",
          "RVSN USSR",
          "RVSN USSR",
          "RVSN USSR",
          "RVSN USSR",
          "RVSN USSR",
          "RVSN USSR",
          "RVSN USSR",
          "RVSN USSR",
          "RVSN USSR",
          "RVSN USSR",
          "RVSN USSR",
          "RVSN USSR",
          "RVSN USSR",
          "RVSN USSR",
          "RVSN USSR",
          "RVSN USSR",
          "RVSN USSR",
          "RVSN USSR",
          "RVSN USSR",
          "RVSN USSR",
          "RVSN USSR",
          "RVSN USSR",
          "RVSN USSR",
          "RVSN USSR",
          "RVSN USSR",
          "RVSN USSR",
          "RVSN USSR",
          "RVSN USSR",
          "RVSN USSR",
          "RVSN USSR",
          "RVSN USSR",
          "RVSN USSR",
          "RVSN USSR",
          "RVSN USSR",
          "RVSN USSR",
          "RVSN USSR",
          "RVSN USSR",
          "RVSN USSR",
          "RVSN USSR",
          "RVSN USSR",
          "RVSN USSR",
          "RVSN USSR",
          "RVSN USSR",
          "RVSN USSR",
          "RVSN USSR",
          "RVSN USSR",
          "RVSN USSR",
          "RVSN USSR",
          "RVSN USSR",
          "RVSN USSR",
          "RVSN USSR",
          "RVSN USSR",
          "RVSN USSR",
          "RVSN USSR",
          "RVSN USSR",
          "RVSN USSR",
          "RVSN USSR",
          "RVSN USSR",
          "RVSN USSR",
          "RVSN USSR",
          "RVSN USSR",
          "RVSN USSR",
          "RVSN USSR",
          "RVSN USSR",
          "RVSN USSR",
          "RVSN USSR",
          "RVSN USSR",
          "RVSN USSR",
          "RVSN USSR",
          "RVSN USSR",
          "RVSN USSR",
          "RVSN USSR",
          "RVSN USSR",
          "RVSN USSR",
          "RVSN USSR",
          "RVSN USSR",
          "RVSN USSR",
          "RVSN USSR",
          "RVSN USSR",
          "RVSN USSR",
          "RVSN USSR",
          "RVSN USSR",
          "RVSN USSR",
          "RVSN USSR",
          "RVSN USSR",
          "RVSN USSR",
          "RVSN USSR",
          "RVSN USSR",
          "RVSN USSR",
          "RVSN USSR",
          "RVSN USSR",
          "RVSN USSR",
          "RVSN USSR",
          "RVSN USSR",
          "RVSN USSR",
          "RVSN USSR",
          "RVSN USSR",
          "RVSN USSR",
          "RVSN USSR",
          "RVSN USSR",
          "RVSN USSR",
          "RVSN USSR",
          "RVSN USSR",
          "RVSN USSR",
          "RVSN USSR",
          "RVSN USSR",
          "RVSN USSR",
          "RVSN USSR",
          "RVSN USSR",
          "RVSN USSR",
          "RVSN USSR",
          "RVSN USSR",
          "RVSN USSR",
          "RVSN USSR",
          "RVSN USSR",
          "RVSN USSR",
          "RVSN USSR",
          "RVSN USSR",
          "RVSN USSR",
          "RVSN USSR",
          "RVSN USSR",
          "RVSN USSR",
          "RVSN USSR",
          "RVSN USSR",
          "RVSN USSR",
          "RVSN USSR",
          "RVSN USSR",
          "RVSN USSR",
          "RVSN USSR",
          "RVSN USSR",
          "RVSN USSR",
          "RVSN USSR",
          "RVSN USSR",
          "RVSN USSR",
          "RVSN USSR",
          "RVSN USSR",
          "RVSN USSR",
          "RVSN USSR",
          "RVSN USSR",
          "RVSN USSR",
          "RVSN USSR",
          "RVSN USSR",
          "RVSN USSR",
          "RVSN USSR",
          "RVSN USSR",
          "RVSN USSR",
          "RVSN USSR",
          "RVSN USSR",
          "RVSN USSR",
          "RVSN USSR",
          "RVSN USSR",
          "RVSN USSR",
          "RVSN USSR",
          "RVSN USSR",
          "RVSN USSR",
          "RVSN USSR",
          "RVSN USSR",
          "RVSN USSR",
          "RVSN USSR",
          "RVSN USSR",
          "RVSN USSR",
          "RVSN USSR",
          "RVSN USSR",
          "RVSN USSR",
          "RVSN USSR",
          "RVSN USSR",
          "RVSN USSR",
          "RVSN USSR",
          "RVSN USSR",
          "RVSN USSR",
          "RVSN USSR",
          "RVSN USSR",
          "RVSN USSR",
          "RVSN USSR",
          "RVSN USSR",
          "RVSN USSR",
          "RVSN USSR",
          "RVSN USSR",
          "RVSN USSR",
          "RVSN USSR",
          "RVSN USSR",
          "RVSN USSR",
          "RVSN USSR",
          "RVSN USSR",
          "RVSN USSR",
          "RVSN USSR",
          "RVSN USSR",
          "RVSN USSR",
          "RVSN USSR",
          "RVSN USSR",
          "RVSN USSR",
          "RVSN USSR",
          "RVSN USSR",
          "RVSN USSR",
          "RVSN USSR",
          "RVSN USSR",
          "RVSN USSR",
          "RVSN USSR",
          "RVSN USSR",
          "RVSN USSR",
          "RVSN USSR",
          "RVSN USSR",
          "RVSN USSR",
          "RVSN USSR",
          "RVSN USSR",
          "RVSN USSR",
          "RVSN USSR",
          "RVSN USSR",
          "RVSN USSR",
          "RVSN USSR",
          "RVSN USSR",
          "RVSN USSR",
          "RVSN USSR",
          "RVSN USSR",
          "RVSN USSR",
          "RVSN USSR",
          "RVSN USSR",
          "RVSN USSR",
          "RVSN USSR",
          "RVSN USSR",
          "RVSN USSR",
          "RVSN USSR",
          "RVSN USSR",
          "RVSN USSR",
          "RVSN USSR",
          "RVSN USSR",
          "RVSN USSR",
          "RVSN USSR",
          "RVSN USSR",
          "RVSN USSR",
          "RVSN USSR",
          "RVSN USSR",
          "RVSN USSR",
          "RVSN USSR",
          "RVSN USSR",
          "RVSN USSR",
          "RVSN USSR",
          "RVSN USSR",
          "RVSN USSR",
          "RVSN USSR",
          "RVSN USSR",
          "RVSN USSR",
          "RVSN USSR",
          "RVSN USSR",
          "RVSN USSR",
          "RVSN USSR",
          "RVSN USSR",
          "RVSN USSR",
          "RVSN USSR",
          "RVSN USSR",
          "RVSN USSR",
          "RVSN USSR",
          "RVSN USSR",
          "RVSN USSR",
          "RVSN USSR",
          "RVSN USSR",
          "RVSN USSR",
          "RVSN USSR",
          "RVSN USSR",
          "RVSN USSR",
          "RVSN USSR",
          "RVSN USSR",
          "RVSN USSR",
          "RVSN USSR",
          "RVSN USSR",
          "RVSN USSR",
          "RVSN USSR",
          "RVSN USSR",
          "RVSN USSR",
          "RVSN USSR",
          "RVSN USSR",
          "RVSN USSR",
          "RVSN USSR",
          "RVSN USSR",
          "RVSN USSR",
          "RVSN USSR",
          "RVSN USSR",
          "RVSN USSR",
          "RVSN USSR",
          "RVSN USSR",
          "RVSN USSR",
          "RVSN USSR",
          "RVSN USSR",
          "RVSN USSR",
          "RVSN USSR",
          "RVSN USSR",
          "RVSN USSR",
          "RVSN USSR",
          "RVSN USSR",
          "RVSN USSR",
          "RVSN USSR",
          "RVSN USSR",
          "RVSN USSR",
          "RVSN USSR",
          "RVSN USSR",
          "RVSN USSR",
          "RVSN USSR",
          "RVSN USSR",
          "RVSN USSR",
          "RVSN USSR",
          "RVSN USSR",
          "RVSN USSR",
          "RVSN USSR",
          "RVSN USSR",
          "RVSN USSR",
          "RVSN USSR",
          "RVSN USSR",
          "RVSN USSR",
          "RVSN USSR",
          "RVSN USSR",
          "RVSN USSR",
          "RVSN USSR",
          "RVSN USSR",
          "RVSN USSR",
          "RVSN USSR",
          "RVSN USSR",
          "RVSN USSR",
          "RVSN USSR",
          "RVSN USSR",
          "RVSN USSR",
          "RVSN USSR",
          "RVSN USSR",
          "RVSN USSR",
          "RVSN USSR",
          "RVSN USSR",
          "RVSN USSR",
          "RVSN USSR",
          "RVSN USSR",
          "RVSN USSR",
          "RVSN USSR",
          "RVSN USSR",
          "RVSN USSR",
          "RVSN USSR",
          "RVSN USSR",
          "RVSN USSR",
          "RVSN USSR",
          "RVSN USSR",
          "RVSN USSR",
          "RVSN USSR",
          "RVSN USSR",
          "RVSN USSR",
          "RVSN USSR",
          "RVSN USSR",
          "RVSN USSR",
          "RVSN USSR",
          "RVSN USSR",
          "RVSN USSR",
          "RVSN USSR",
          "RVSN USSR",
          "RVSN USSR",
          "RVSN USSR",
          "RVSN USSR",
          "RVSN USSR",
          "RVSN USSR",
          "RVSN USSR",
          "RVSN USSR",
          "RVSN USSR",
          "RVSN USSR",
          "RVSN USSR",
          "RVSN USSR",
          "RVSN USSR",
          "RVSN USSR",
          "RVSN USSR",
          "RVSN USSR",
          "RVSN USSR",
          "RVSN USSR",
          "RVSN USSR",
          "RVSN USSR",
          "RVSN USSR",
          "RVSN USSR",
          "RVSN USSR",
          "RVSN USSR",
          "RVSN USSR",
          "RVSN USSR",
          "RVSN USSR",
          "RVSN USSR",
          "RVSN USSR",
          "RVSN USSR",
          "RVSN USSR",
          "RVSN USSR",
          "RVSN USSR",
          "RVSN USSR",
          "RVSN USSR",
          "RVSN USSR",
          "RVSN USSR",
          "RVSN USSR",
          "RVSN USSR",
          "RVSN USSR",
          "RVSN USSR",
          "RVSN USSR",
          "RVSN USSR",
          "RVSN USSR",
          "RVSN USSR",
          "RVSN USSR",
          "RVSN USSR",
          "RVSN USSR",
          "RVSN USSR",
          "RVSN USSR",
          "RVSN USSR",
          "RVSN USSR",
          "RVSN USSR",
          "RVSN USSR",
          "RVSN USSR",
          "RVSN USSR",
          "RVSN USSR",
          "RVSN USSR",
          "RVSN USSR",
          "RVSN USSR",
          "RVSN USSR",
          "RVSN USSR",
          "RVSN USSR",
          "RVSN USSR",
          "RVSN USSR",
          "RVSN USSR",
          "RVSN USSR",
          "RVSN USSR",
          "RVSN USSR",
          "RVSN USSR",
          "RVSN USSR",
          "RVSN USSR",
          "RVSN USSR",
          "RVSN USSR",
          "RVSN USSR",
          "RVSN USSR",
          "RVSN USSR",
          "RVSN USSR",
          "RVSN USSR",
          "RVSN USSR",
          "RVSN USSR",
          "RVSN USSR",
          "RVSN USSR",
          "RVSN USSR",
          "RVSN USSR",
          "RVSN USSR",
          "RVSN USSR",
          "RVSN USSR",
          "RVSN USSR",
          "RVSN USSR",
          "RVSN USSR",
          "RVSN USSR",
          "RVSN USSR",
          "RVSN USSR",
          "RVSN USSR",
          "RVSN USSR",
          "RVSN USSR",
          "RVSN USSR",
          "RVSN USSR",
          "RVSN USSR",
          "RVSN USSR",
          "RVSN USSR",
          "RVSN USSR",
          "RVSN USSR",
          "RVSN USSR",
          "RVSN USSR",
          "RVSN USSR",
          "RVSN USSR",
          "RVSN USSR",
          "RVSN USSR",
          "RVSN USSR",
          "RVSN USSR",
          "RVSN USSR",
          "RVSN USSR",
          "RVSN USSR",
          "RVSN USSR",
          "RVSN USSR",
          "RVSN USSR",
          "RVSN USSR",
          "RVSN USSR",
          "RVSN USSR",
          "RVSN USSR",
          "RVSN USSR",
          "RVSN USSR",
          "RVSN USSR",
          "RVSN USSR",
          "RVSN USSR",
          "RVSN USSR",
          "RVSN USSR",
          "RVSN USSR",
          "RVSN USSR",
          "RVSN USSR",
          "RVSN USSR",
          "RVSN USSR",
          "RVSN USSR",
          "RVSN USSR",
          "RVSN USSR",
          "RVSN USSR",
          "RVSN USSR",
          "RVSN USSR",
          "RVSN USSR",
          "RVSN USSR",
          "RVSN USSR",
          "RVSN USSR",
          "RVSN USSR",
          "RVSN USSR",
          "RVSN USSR",
          "RVSN USSR",
          "RVSN USSR",
          "RVSN USSR",
          "RVSN USSR",
          "RVSN USSR",
          "RVSN USSR",
          "RVSN USSR",
          "RVSN USSR",
          "RVSN USSR",
          "RVSN USSR",
          "RVSN USSR",
          "RVSN USSR",
          "RVSN USSR",
          "RVSN USSR",
          "RVSN USSR",
          "RVSN USSR",
          "RVSN USSR",
          "RVSN USSR",
          "RVSN USSR",
          "RVSN USSR",
          "RVSN USSR",
          "RVSN USSR",
          "RVSN USSR",
          "RVSN USSR",
          "RVSN USSR",
          "RVSN USSR",
          "RVSN USSR",
          "RVSN USSR",
          "RVSN USSR",
          "RVSN USSR",
          "RVSN USSR",
          "RVSN USSR",
          "RVSN USSR",
          "RVSN USSR",
          "RVSN USSR",
          "RVSN USSR",
          "RVSN USSR",
          "RVSN USSR",
          "RVSN USSR",
          "RVSN USSR",
          "RVSN USSR",
          "RVSN USSR",
          "RVSN USSR",
          "RVSN USSR",
          "RVSN USSR",
          "RVSN USSR",
          "RVSN USSR",
          "RVSN USSR",
          "RVSN USSR",
          "RVSN USSR",
          "RVSN USSR",
          "RVSN USSR",
          "ULA",
          "ULA",
          "ULA",
          "ULA",
          "ULA",
          "ULA",
          "ULA",
          "ULA",
          "ULA",
          "ULA",
          "ULA",
          "ULA",
          "ULA",
          "ULA",
          "ULA",
          "ULA",
          "ULA",
          "ULA",
          "ULA",
          "ULA",
          "ULA",
          "ULA",
          "ULA",
          "ULA",
          "ULA",
          "ULA",
          "ULA",
          "ULA",
          "ULA",
          "ULA",
          "ULA",
          "ULA",
          "ULA",
          "ULA",
          "ULA",
          "ULA",
          "ULA",
          "ULA",
          "ULA",
          "ULA",
          "ULA",
          "ULA",
          "ULA",
          "ULA",
          "ULA",
          "ULA",
          "ULA",
          "ULA",
          "ULA",
          "ULA",
          "ULA",
          "ULA",
          "ULA",
          "ULA",
          "ULA",
          "ULA",
          "ULA",
          "ULA",
          "ULA",
          "ULA",
          "ULA",
          "ULA",
          "ULA",
          "ULA",
          "ULA",
          "ULA",
          "ULA",
          "ULA",
          "ULA",
          "ULA",
          "ULA",
          "ULA",
          "ULA",
          "ULA",
          "ULA",
          "ULA",
          "ULA",
          "ULA",
          "ULA",
          "ULA",
          "ULA",
          "ULA",
          "ULA",
          "ULA",
          "ULA",
          "ULA",
          "ULA",
          "ULA",
          "ULA",
          "ULA",
          "ULA",
          "ULA",
          "ULA",
          "ULA",
          "ULA",
          "ULA",
          "ULA",
          "ULA",
          "ULA",
          "ULA",
          "ULA",
          "ULA",
          "ULA",
          "ULA",
          "ULA",
          "ULA",
          "ULA",
          "ULA",
          "ULA",
          "ULA",
          "ULA",
          "ULA",
          "ULA",
          "ULA",
          "ULA",
          "ULA",
          "ULA",
          "ULA",
          "ULA",
          "ULA",
          "ULA",
          "ULA",
          "ULA",
          "ULA",
          "ULA",
          "ULA",
          "ULA",
          "ULA",
          "ULA",
          "ULA",
          "ULA",
          "ULA",
          "ULA",
          "ULA",
          "ULA",
          "ULA",
          "ULA",
          "ULA",
          "ULA",
          "ULA",
          "US Air Force",
          "US Air Force",
          "US Air Force",
          "US Air Force",
          "US Air Force",
          "US Air Force",
          "US Air Force",
          "US Air Force",
          "US Air Force",
          "US Air Force",
          "US Air Force",
          "US Air Force",
          "US Air Force",
          "US Air Force",
          "US Air Force",
          "US Air Force",
          "US Air Force",
          "US Air Force",
          "US Air Force",
          "US Air Force",
          "US Air Force",
          "US Air Force",
          "US Air Force",
          "US Air Force",
          "US Air Force",
          "US Air Force",
          "US Air Force",
          "US Air Force",
          "US Air Force",
          "US Air Force",
          "US Air Force",
          "US Air Force",
          "US Air Force",
          "US Air Force",
          "US Air Force",
          "US Air Force",
          "US Air Force",
          "US Air Force",
          "US Air Force",
          "US Air Force",
          "US Air Force",
          "US Air Force",
          "US Air Force",
          "US Air Force",
          "US Air Force",
          "US Air Force",
          "US Air Force",
          "US Air Force",
          "US Air Force",
          "US Air Force",
          "US Air Force",
          "US Air Force",
          "US Air Force",
          "US Air Force",
          "US Air Force",
          "US Air Force",
          "US Air Force",
          "US Air Force",
          "US Air Force",
          "US Air Force",
          "US Air Force",
          "US Air Force",
          "US Air Force",
          "US Air Force",
          "US Air Force",
          "US Air Force",
          "US Air Force",
          "US Air Force",
          "US Air Force",
          "US Air Force",
          "US Air Force",
          "US Air Force",
          "US Air Force",
          "US Air Force",
          "US Air Force",
          "US Air Force",
          "US Air Force",
          "US Air Force",
          "US Air Force",
          "US Air Force",
          "US Air Force",
          "US Air Force",
          "US Air Force",
          "US Air Force",
          "US Air Force",
          "US Air Force",
          "US Air Force",
          "US Air Force",
          "US Air Force",
          "US Air Force",
          "US Air Force",
          "US Air Force",
          "US Air Force",
          "US Air Force",
          "US Air Force",
          "US Air Force",
          "US Air Force",
          "US Air Force",
          "US Air Force",
          "US Air Force",
          "US Air Force",
          "US Air Force",
          "US Air Force",
          "US Air Force",
          "US Air Force",
          "US Air Force",
          "US Air Force",
          "US Air Force",
          "US Air Force",
          "US Air Force",
          "US Air Force",
          "US Air Force",
          "US Air Force",
          "US Air Force",
          "US Air Force",
          "US Air Force",
          "US Air Force",
          "US Air Force",
          "US Air Force",
          "US Air Force",
          "US Air Force",
          "US Air Force",
          "US Air Force",
          "US Air Force",
          "US Air Force",
          "US Air Force",
          "US Air Force",
          "US Air Force",
          "US Air Force",
          "US Air Force",
          "US Air Force",
          "US Air Force",
          "US Air Force",
          "US Air Force",
          "US Air Force",
          "US Air Force",
          "US Air Force",
          "US Air Force",
          "US Air Force",
          "US Air Force",
          "US Air Force",
          "US Air Force",
          "US Air Force",
          "US Air Force",
          "US Air Force",
          "US Air Force",
          "US Air Force",
          "US Air Force",
          "US Air Force",
          "US Air Force",
          "US Air Force",
          "US Air Force",
          "US Air Force",
          "US Air Force",
          "US Air Force",
          "US Air Force",
          "US Air Force",
          "US Air Force",
          "US Air Force",
          "US Air Force",
          "US Air Force",
          "VKS RF",
          "VKS RF",
          "VKS RF",
          "VKS RF",
          "VKS RF",
          "VKS RF",
          "VKS RF",
          "VKS RF",
          "VKS RF",
          "VKS RF",
          "VKS RF",
          "VKS RF",
          "VKS RF",
          "VKS RF",
          "VKS RF",
          "VKS RF",
          "VKS RF",
          "VKS RF",
          "VKS RF",
          "VKS RF",
          "VKS RF",
          "VKS RF",
          "VKS RF",
          "VKS RF",
          "VKS RF",
          "VKS RF",
          "VKS RF",
          "VKS RF",
          "VKS RF",
          "VKS RF",
          "VKS RF",
          "VKS RF",
          "VKS RF",
          "VKS RF",
          "VKS RF",
          "VKS RF",
          "VKS RF",
          "VKS RF",
          "VKS RF",
          "VKS RF",
          "VKS RF",
          "VKS RF",
          "VKS RF",
          "VKS RF",
          "VKS RF",
          "VKS RF",
          "VKS RF",
          "VKS RF",
          "VKS RF",
          "VKS RF",
          "VKS RF",
          "VKS RF",
          "VKS RF",
          "VKS RF",
          "VKS RF",
          "VKS RF",
          "VKS RF",
          "VKS RF",
          "VKS RF",
          "VKS RF",
          "VKS RF",
          "VKS RF",
          "VKS RF",
          "VKS RF",
          "VKS RF",
          "VKS RF",
          "VKS RF",
          "VKS RF",
          "VKS RF",
          "VKS RF",
          "VKS RF",
          "VKS RF",
          "VKS RF",
          "VKS RF",
          "VKS RF",
          "VKS RF",
          "VKS RF",
          "VKS RF",
          "VKS RF",
          "VKS RF",
          "VKS RF",
          "VKS RF",
          "VKS RF",
          "VKS RF",
          "VKS RF",
          "VKS RF",
          "VKS RF",
          "VKS RF",
          "VKS RF",
          "VKS RF",
          "VKS RF",
          "VKS RF",
          "VKS RF",
          "VKS RF",
          "VKS RF",
          "VKS RF",
          "VKS RF",
          "VKS RF",
          "VKS RF",
          "VKS RF",
          "VKS RF",
          "VKS RF",
          "VKS RF",
          "VKS RF",
          "VKS RF",
          "VKS RF",
          "VKS RF",
          "VKS RF",
          "VKS RF",
          "VKS RF",
          "VKS RF",
          "VKS RF",
          "VKS RF",
          "VKS RF",
          "VKS RF",
          "VKS RF",
          "VKS RF",
          "VKS RF",
          "VKS RF",
          "VKS RF",
          "VKS RF",
          "VKS RF",
          "VKS RF",
          "VKS RF",
          "VKS RF",
          "VKS RF",
          "VKS RF",
          "VKS RF",
          "VKS RF",
          "VKS RF",
          "VKS RF",
          "VKS RF",
          "VKS RF",
          "VKS RF",
          "VKS RF",
          "VKS RF",
          "VKS RF",
          "VKS RF",
          "VKS RF",
          "VKS RF",
          "VKS RF",
          "VKS RF",
          "VKS RF",
          "VKS RF",
          "VKS RF",
          "VKS RF",
          "VKS RF",
          "VKS RF",
          "VKS RF",
          "VKS RF",
          "VKS RF",
          "VKS RF",
          "VKS RF",
          "VKS RF",
          "VKS RF",
          "VKS RF",
          "VKS RF",
          "VKS RF",
          "VKS RF",
          "VKS RF",
          "VKS RF",
          "VKS RF",
          "VKS RF",
          "VKS RF",
          "VKS RF",
          "VKS RF",
          "VKS RF",
          "VKS RF",
          "VKS RF",
          "VKS RF",
          "VKS RF",
          "VKS RF",
          "VKS RF",
          "VKS RF",
          "VKS RF",
          "VKS RF",
          "VKS RF",
          "VKS RF",
          "VKS RF",
          "VKS RF",
          "VKS RF",
          "VKS RF",
          "VKS RF",
          "VKS RF",
          "VKS RF",
          "VKS RF",
          "VKS RF",
          "VKS RF",
          "VKS RF",
          "VKS RF",
          "VKS RF",
          "VKS RF",
          "VKS RF",
          "VKS RF",
          "VKS RF",
          "VKS RF",
          "VKS RF",
          "VKS RF",
          "VKS RF",
          "VKS RF",
          "VKS RF"
         ],
         "xaxis": "x",
         "yaxis": "y"
        }
       ],
       "layout": {
        "barmode": "relative",
        "legend": {
         "tracegroupgap": 0
        },
        "margin": {
         "t": 60
        },
        "template": {
         "data": {
          "bar": [
           {
            "error_x": {
             "color": "#2a3f5f"
            },
            "error_y": {
             "color": "#2a3f5f"
            },
            "marker": {
             "line": {
              "color": "#E5ECF6",
              "width": 0.5
             },
             "pattern": {
              "fillmode": "overlay",
              "size": 10,
              "solidity": 0.2
             }
            },
            "type": "bar"
           }
          ],
          "barpolar": [
           {
            "marker": {
             "line": {
              "color": "#E5ECF6",
              "width": 0.5
             },
             "pattern": {
              "fillmode": "overlay",
              "size": 10,
              "solidity": 0.2
             }
            },
            "type": "barpolar"
           }
          ],
          "carpet": [
           {
            "aaxis": {
             "endlinecolor": "#2a3f5f",
             "gridcolor": "white",
             "linecolor": "white",
             "minorgridcolor": "white",
             "startlinecolor": "#2a3f5f"
            },
            "baxis": {
             "endlinecolor": "#2a3f5f",
             "gridcolor": "white",
             "linecolor": "white",
             "minorgridcolor": "white",
             "startlinecolor": "#2a3f5f"
            },
            "type": "carpet"
           }
          ],
          "choropleth": [
           {
            "colorbar": {
             "outlinewidth": 0,
             "ticks": ""
            },
            "type": "choropleth"
           }
          ],
          "contour": [
           {
            "colorbar": {
             "outlinewidth": 0,
             "ticks": ""
            },
            "colorscale": [
             [
              0,
              "#0d0887"
             ],
             [
              0.1111111111111111,
              "#46039f"
             ],
             [
              0.2222222222222222,
              "#7201a8"
             ],
             [
              0.3333333333333333,
              "#9c179e"
             ],
             [
              0.4444444444444444,
              "#bd3786"
             ],
             [
              0.5555555555555556,
              "#d8576b"
             ],
             [
              0.6666666666666666,
              "#ed7953"
             ],
             [
              0.7777777777777778,
              "#fb9f3a"
             ],
             [
              0.8888888888888888,
              "#fdca26"
             ],
             [
              1,
              "#f0f921"
             ]
            ],
            "type": "contour"
           }
          ],
          "contourcarpet": [
           {
            "colorbar": {
             "outlinewidth": 0,
             "ticks": ""
            },
            "type": "contourcarpet"
           }
          ],
          "heatmap": [
           {
            "colorbar": {
             "outlinewidth": 0,
             "ticks": ""
            },
            "colorscale": [
             [
              0,
              "#0d0887"
             ],
             [
              0.1111111111111111,
              "#46039f"
             ],
             [
              0.2222222222222222,
              "#7201a8"
             ],
             [
              0.3333333333333333,
              "#9c179e"
             ],
             [
              0.4444444444444444,
              "#bd3786"
             ],
             [
              0.5555555555555556,
              "#d8576b"
             ],
             [
              0.6666666666666666,
              "#ed7953"
             ],
             [
              0.7777777777777778,
              "#fb9f3a"
             ],
             [
              0.8888888888888888,
              "#fdca26"
             ],
             [
              1,
              "#f0f921"
             ]
            ],
            "type": "heatmap"
           }
          ],
          "heatmapgl": [
           {
            "colorbar": {
             "outlinewidth": 0,
             "ticks": ""
            },
            "colorscale": [
             [
              0,
              "#0d0887"
             ],
             [
              0.1111111111111111,
              "#46039f"
             ],
             [
              0.2222222222222222,
              "#7201a8"
             ],
             [
              0.3333333333333333,
              "#9c179e"
             ],
             [
              0.4444444444444444,
              "#bd3786"
             ],
             [
              0.5555555555555556,
              "#d8576b"
             ],
             [
              0.6666666666666666,
              "#ed7953"
             ],
             [
              0.7777777777777778,
              "#fb9f3a"
             ],
             [
              0.8888888888888888,
              "#fdca26"
             ],
             [
              1,
              "#f0f921"
             ]
            ],
            "type": "heatmapgl"
           }
          ],
          "histogram": [
           {
            "marker": {
             "pattern": {
              "fillmode": "overlay",
              "size": 10,
              "solidity": 0.2
             }
            },
            "type": "histogram"
           }
          ],
          "histogram2d": [
           {
            "colorbar": {
             "outlinewidth": 0,
             "ticks": ""
            },
            "colorscale": [
             [
              0,
              "#0d0887"
             ],
             [
              0.1111111111111111,
              "#46039f"
             ],
             [
              0.2222222222222222,
              "#7201a8"
             ],
             [
              0.3333333333333333,
              "#9c179e"
             ],
             [
              0.4444444444444444,
              "#bd3786"
             ],
             [
              0.5555555555555556,
              "#d8576b"
             ],
             [
              0.6666666666666666,
              "#ed7953"
             ],
             [
              0.7777777777777778,
              "#fb9f3a"
             ],
             [
              0.8888888888888888,
              "#fdca26"
             ],
             [
              1,
              "#f0f921"
             ]
            ],
            "type": "histogram2d"
           }
          ],
          "histogram2dcontour": [
           {
            "colorbar": {
             "outlinewidth": 0,
             "ticks": ""
            },
            "colorscale": [
             [
              0,
              "#0d0887"
             ],
             [
              0.1111111111111111,
              "#46039f"
             ],
             [
              0.2222222222222222,
              "#7201a8"
             ],
             [
              0.3333333333333333,
              "#9c179e"
             ],
             [
              0.4444444444444444,
              "#bd3786"
             ],
             [
              0.5555555555555556,
              "#d8576b"
             ],
             [
              0.6666666666666666,
              "#ed7953"
             ],
             [
              0.7777777777777778,
              "#fb9f3a"
             ],
             [
              0.8888888888888888,
              "#fdca26"
             ],
             [
              1,
              "#f0f921"
             ]
            ],
            "type": "histogram2dcontour"
           }
          ],
          "mesh3d": [
           {
            "colorbar": {
             "outlinewidth": 0,
             "ticks": ""
            },
            "type": "mesh3d"
           }
          ],
          "parcoords": [
           {
            "line": {
             "colorbar": {
              "outlinewidth": 0,
              "ticks": ""
             }
            },
            "type": "parcoords"
           }
          ],
          "pie": [
           {
            "automargin": true,
            "type": "pie"
           }
          ],
          "scatter": [
           {
            "marker": {
             "colorbar": {
              "outlinewidth": 0,
              "ticks": ""
             }
            },
            "type": "scatter"
           }
          ],
          "scatter3d": [
           {
            "line": {
             "colorbar": {
              "outlinewidth": 0,
              "ticks": ""
             }
            },
            "marker": {
             "colorbar": {
              "outlinewidth": 0,
              "ticks": ""
             }
            },
            "type": "scatter3d"
           }
          ],
          "scattercarpet": [
           {
            "marker": {
             "colorbar": {
              "outlinewidth": 0,
              "ticks": ""
             }
            },
            "type": "scattercarpet"
           }
          ],
          "scattergeo": [
           {
            "marker": {
             "colorbar": {
              "outlinewidth": 0,
              "ticks": ""
             }
            },
            "type": "scattergeo"
           }
          ],
          "scattergl": [
           {
            "marker": {
             "colorbar": {
              "outlinewidth": 0,
              "ticks": ""
             }
            },
            "type": "scattergl"
           }
          ],
          "scattermapbox": [
           {
            "marker": {
             "colorbar": {
              "outlinewidth": 0,
              "ticks": ""
             }
            },
            "type": "scattermapbox"
           }
          ],
          "scatterpolar": [
           {
            "marker": {
             "colorbar": {
              "outlinewidth": 0,
              "ticks": ""
             }
            },
            "type": "scatterpolar"
           }
          ],
          "scatterpolargl": [
           {
            "marker": {
             "colorbar": {
              "outlinewidth": 0,
              "ticks": ""
             }
            },
            "type": "scatterpolargl"
           }
          ],
          "scatterternary": [
           {
            "marker": {
             "colorbar": {
              "outlinewidth": 0,
              "ticks": ""
             }
            },
            "type": "scatterternary"
           }
          ],
          "surface": [
           {
            "colorbar": {
             "outlinewidth": 0,
             "ticks": ""
            },
            "colorscale": [
             [
              0,
              "#0d0887"
             ],
             [
              0.1111111111111111,
              "#46039f"
             ],
             [
              0.2222222222222222,
              "#7201a8"
             ],
             [
              0.3333333333333333,
              "#9c179e"
             ],
             [
              0.4444444444444444,
              "#bd3786"
             ],
             [
              0.5555555555555556,
              "#d8576b"
             ],
             [
              0.6666666666666666,
              "#ed7953"
             ],
             [
              0.7777777777777778,
              "#fb9f3a"
             ],
             [
              0.8888888888888888,
              "#fdca26"
             ],
             [
              1,
              "#f0f921"
             ]
            ],
            "type": "surface"
           }
          ],
          "table": [
           {
            "cells": {
             "fill": {
              "color": "#EBF0F8"
             },
             "line": {
              "color": "white"
             }
            },
            "header": {
             "fill": {
              "color": "#C8D4E3"
             },
             "line": {
              "color": "white"
             }
            },
            "type": "table"
           }
          ]
         },
         "layout": {
          "annotationdefaults": {
           "arrowcolor": "#2a3f5f",
           "arrowhead": 0,
           "arrowwidth": 1
          },
          "autotypenumbers": "strict",
          "coloraxis": {
           "colorbar": {
            "outlinewidth": 0,
            "ticks": ""
           }
          },
          "colorscale": {
           "diverging": [
            [
             0,
             "#8e0152"
            ],
            [
             0.1,
             "#c51b7d"
            ],
            [
             0.2,
             "#de77ae"
            ],
            [
             0.3,
             "#f1b6da"
            ],
            [
             0.4,
             "#fde0ef"
            ],
            [
             0.5,
             "#f7f7f7"
            ],
            [
             0.6,
             "#e6f5d0"
            ],
            [
             0.7,
             "#b8e186"
            ],
            [
             0.8,
             "#7fbc41"
            ],
            [
             0.9,
             "#4d9221"
            ],
            [
             1,
             "#276419"
            ]
           ],
           "sequential": [
            [
             0,
             "#0d0887"
            ],
            [
             0.1111111111111111,
             "#46039f"
            ],
            [
             0.2222222222222222,
             "#7201a8"
            ],
            [
             0.3333333333333333,
             "#9c179e"
            ],
            [
             0.4444444444444444,
             "#bd3786"
            ],
            [
             0.5555555555555556,
             "#d8576b"
            ],
            [
             0.6666666666666666,
             "#ed7953"
            ],
            [
             0.7777777777777778,
             "#fb9f3a"
            ],
            [
             0.8888888888888888,
             "#fdca26"
            ],
            [
             1,
             "#f0f921"
            ]
           ],
           "sequentialminus": [
            [
             0,
             "#0d0887"
            ],
            [
             0.1111111111111111,
             "#46039f"
            ],
            [
             0.2222222222222222,
             "#7201a8"
            ],
            [
             0.3333333333333333,
             "#9c179e"
            ],
            [
             0.4444444444444444,
             "#bd3786"
            ],
            [
             0.5555555555555556,
             "#d8576b"
            ],
            [
             0.6666666666666666,
             "#ed7953"
            ],
            [
             0.7777777777777778,
             "#fb9f3a"
            ],
            [
             0.8888888888888888,
             "#fdca26"
            ],
            [
             1,
             "#f0f921"
            ]
           ]
          },
          "colorway": [
           "#636efa",
           "#EF553B",
           "#00cc96",
           "#ab63fa",
           "#FFA15A",
           "#19d3f3",
           "#FF6692",
           "#B6E880",
           "#FF97FF",
           "#FECB52"
          ],
          "font": {
           "color": "#2a3f5f"
          },
          "geo": {
           "bgcolor": "white",
           "lakecolor": "white",
           "landcolor": "#E5ECF6",
           "showlakes": true,
           "showland": true,
           "subunitcolor": "white"
          },
          "hoverlabel": {
           "align": "left"
          },
          "hovermode": "closest",
          "mapbox": {
           "style": "light"
          },
          "paper_bgcolor": "white",
          "plot_bgcolor": "#E5ECF6",
          "polar": {
           "angularaxis": {
            "gridcolor": "white",
            "linecolor": "white",
            "ticks": ""
           },
           "bgcolor": "#E5ECF6",
           "radialaxis": {
            "gridcolor": "white",
            "linecolor": "white",
            "ticks": ""
           }
          },
          "scene": {
           "xaxis": {
            "backgroundcolor": "#E5ECF6",
            "gridcolor": "white",
            "gridwidth": 2,
            "linecolor": "white",
            "showbackground": true,
            "ticks": "",
            "zerolinecolor": "white"
           },
           "yaxis": {
            "backgroundcolor": "#E5ECF6",
            "gridcolor": "white",
            "gridwidth": 2,
            "linecolor": "white",
            "showbackground": true,
            "ticks": "",
            "zerolinecolor": "white"
           },
           "zaxis": {
            "backgroundcolor": "#E5ECF6",
            "gridcolor": "white",
            "gridwidth": 2,
            "linecolor": "white",
            "showbackground": true,
            "ticks": "",
            "zerolinecolor": "white"
           }
          },
          "shapedefaults": {
           "line": {
            "color": "#2a3f5f"
           }
          },
          "ternary": {
           "aaxis": {
            "gridcolor": "white",
            "linecolor": "white",
            "ticks": ""
           },
           "baxis": {
            "gridcolor": "white",
            "linecolor": "white",
            "ticks": ""
           },
           "bgcolor": "#E5ECF6",
           "caxis": {
            "gridcolor": "white",
            "linecolor": "white",
            "ticks": ""
           }
          },
          "title": {
           "x": 0.05
          },
          "xaxis": {
           "automargin": true,
           "gridcolor": "white",
           "linecolor": "white",
           "ticks": "",
           "title": {
            "standoff": 15
           },
           "zerolinecolor": "white",
           "zerolinewidth": 2
          },
          "yaxis": {
           "automargin": true,
           "gridcolor": "white",
           "linecolor": "white",
           "ticks": "",
           "title": {
            "standoff": 15
           },
           "zerolinecolor": "white",
           "zerolinewidth": 2
          }
         }
        },
        "xaxis": {
         "anchor": "y",
         "domain": [
          0,
          1
         ],
         "title": {
          "text": "Organisation"
         }
        },
        "yaxis": {
         "anchor": "x",
         "domain": [
          0,
          1
         ],
         "title": {
          "text": "count"
         }
        }
       }
      }
     },
     "metadata": {},
     "output_type": "display_data"
    }
   ],
   "source": [
    "# Grab data from Organisations and Locations columns\n",
    "# Sort through data to find the top 10 Organisations \n",
    "top_10=pd.DataFrame(columns=df_data.columns)\n",
    "for val in df_data.groupby(\"Organisation\").count().sort_values(\"Date\",ascending=False)[:10].index:\n",
    "  print(val)\n",
    "  org=df_data[df_data.Organisation==val]\n",
    "  top_10=top_10.append(org,ignore_index=False, verify_integrity=False, sort=None)\n",
    "top_10\n",
    "\n",
    "df_data[df_data.Organisation==\"CASC\"]\n",
    "\n",
    "top_10.groupby(\"Organisation\").count().sort_values(\"Date\",ascending=False)[:10].index\n",
    "\n",
    "# print(top_10.shape)\n",
    "\n",
    "# Create a chart to display the data\n",
    "px.histogram(top_10.sort_values(by=[\"Organisation\", \"Date\"], ascending=[True, False]), x=\"Organisation\",nbins=10) "
   ]
  },
  {
   "cell_type": "markdown",
   "metadata": {
    "id": "6Cm8_ch6a-q7",
    "papermill": {
     "duration": 0.052399,
     "end_time": "2020-10-20T21:34:13.756781",
     "exception": false,
     "start_time": "2020-10-20T21:34:13.704382",
     "status": "completed"
    },
    "tags": []
   },
   "source": [
    "# Cold War Space Race: USA vs USSR\n",
    "\n",
    "The cold war lasted from the start of the dataset up until 1991. "
   ]
  },
  {
   "cell_type": "code",
   "execution_count": 38,
   "metadata": {},
   "outputs": [],
   "source": [
    "Or_df = df_data[(df_data['Country']=='USA') | (df_data['Country']=='RUS')]\n",
    "# Or_df.head()"
   ]
  },
  {
   "cell_type": "code",
   "execution_count": 39,
   "metadata": {
    "id": "AcE_U8csrICL",
    "scrolled": true
   },
   "outputs": [
    {
     "data": {
      "text/html": [
       "<div>\n",
       "<style scoped>\n",
       "    .dataframe tbody tr th:only-of-type {\n",
       "        vertical-align: middle;\n",
       "    }\n",
       "\n",
       "    .dataframe tbody tr th {\n",
       "        vertical-align: top;\n",
       "    }\n",
       "\n",
       "    .dataframe thead th {\n",
       "        text-align: right;\n",
       "    }\n",
       "</style>\n",
       "<table border=\"1\" class=\"dataframe\">\n",
       "  <thead>\n",
       "    <tr style=\"text-align: right;\">\n",
       "      <th></th>\n",
       "      <th>Organisation</th>\n",
       "      <th>Location</th>\n",
       "      <th>Date</th>\n",
       "      <th>Detail</th>\n",
       "      <th>Rocket_Status</th>\n",
       "      <th>Price</th>\n",
       "      <th>Mission_Status</th>\n",
       "      <th>Country</th>\n",
       "      <th>date</th>\n",
       "      <th>year</th>\n",
       "      <th>month</th>\n",
       "    </tr>\n",
       "  </thead>\n",
       "  <tbody>\n",
       "    <tr>\n",
       "      <th>4323</th>\n",
       "      <td>RVSN USSR</td>\n",
       "      <td>Site 1/5, Baikonur Cosmodrome, Kazakhstan</td>\n",
       "      <td>Fri Oct 04, 1957 19:28 UTC</td>\n",
       "      <td>Sputnik 8K71PS | Sputnik-1</td>\n",
       "      <td>StatusRetired</td>\n",
       "      <td>NaN</td>\n",
       "      <td>Success</td>\n",
       "      <td>RUS</td>\n",
       "      <td>1957-10-04 19:28:00+00:00</td>\n",
       "      <td>1957</td>\n",
       "      <td>10</td>\n",
       "    </tr>\n",
       "    <tr>\n",
       "      <th>4322</th>\n",
       "      <td>RVSN USSR</td>\n",
       "      <td>Site 1/5, Baikonur Cosmodrome, Kazakhstan</td>\n",
       "      <td>Sun Nov 03, 1957 02:30 UTC</td>\n",
       "      <td>Sputnik 8K71PS | Sputnik-2</td>\n",
       "      <td>StatusRetired</td>\n",
       "      <td>NaN</td>\n",
       "      <td>Success</td>\n",
       "      <td>RUS</td>\n",
       "      <td>1957-11-03 02:30:00+00:00</td>\n",
       "      <td>1957</td>\n",
       "      <td>11</td>\n",
       "    </tr>\n",
       "    <tr>\n",
       "      <th>4321</th>\n",
       "      <td>US Navy</td>\n",
       "      <td>LC-18A, Cape Canaveral AFS, Florida, USA</td>\n",
       "      <td>Fri Dec 06, 1957 16:44 UTC</td>\n",
       "      <td>Vanguard | Vanguard TV3</td>\n",
       "      <td>StatusRetired</td>\n",
       "      <td>NaN</td>\n",
       "      <td>Failure</td>\n",
       "      <td>USA</td>\n",
       "      <td>1957-12-06 16:44:00+00:00</td>\n",
       "      <td>1957</td>\n",
       "      <td>12</td>\n",
       "    </tr>\n",
       "    <tr>\n",
       "      <th>4320</th>\n",
       "      <td>AMBA</td>\n",
       "      <td>LC-26A, Cape Canaveral AFS, Florida, USA</td>\n",
       "      <td>Sat Feb 01, 1958 03:48 UTC</td>\n",
       "      <td>Juno I | Explorer 1</td>\n",
       "      <td>StatusRetired</td>\n",
       "      <td>NaN</td>\n",
       "      <td>Success</td>\n",
       "      <td>USA</td>\n",
       "      <td>1958-02-01 03:48:00+00:00</td>\n",
       "      <td>1958</td>\n",
       "      <td>2</td>\n",
       "    </tr>\n",
       "    <tr>\n",
       "      <th>4293</th>\n",
       "      <td>US Air Force</td>\n",
       "      <td>LC-11, Cape Canaveral AFS, Florida, USA</td>\n",
       "      <td>Thu Dec 18, 1958 23:02 UTC</td>\n",
       "      <td>SM-65B Atlas | SCORE</td>\n",
       "      <td>StatusRetired</td>\n",
       "      <td>NaN</td>\n",
       "      <td>Success</td>\n",
       "      <td>USA</td>\n",
       "      <td>1958-12-18 23:02:00+00:00</td>\n",
       "      <td>1958</td>\n",
       "      <td>12</td>\n",
       "    </tr>\n",
       "    <tr>\n",
       "      <th>...</th>\n",
       "      <td>...</td>\n",
       "      <td>...</td>\n",
       "      <td>...</td>\n",
       "      <td>...</td>\n",
       "      <td>...</td>\n",
       "      <td>...</td>\n",
       "      <td>...</td>\n",
       "      <td>...</td>\n",
       "      <td>...</td>\n",
       "      <td>...</td>\n",
       "      <td>...</td>\n",
       "    </tr>\n",
       "    <tr>\n",
       "      <th>1755</th>\n",
       "      <td>NASA</td>\n",
       "      <td>LC-39A, Kennedy Space Center, Florida, USA</td>\n",
       "      <td>Sun Apr 28, 1991 11:33 UTC</td>\n",
       "      <td>Space Shuttle Discovery | STS-39</td>\n",
       "      <td>StatusRetired</td>\n",
       "      <td>450.0</td>\n",
       "      <td>Success</td>\n",
       "      <td>USA</td>\n",
       "      <td>1991-04-28 11:33:00+00:00</td>\n",
       "      <td>1991</td>\n",
       "      <td>4</td>\n",
       "    </tr>\n",
       "    <tr>\n",
       "      <th>1754</th>\n",
       "      <td>General Dynamics</td>\n",
       "      <td>SLC-3W, Vandenberg AFB, California, USA</td>\n",
       "      <td>Tue May 14, 1991 15:52 UTC</td>\n",
       "      <td>Atlas-E/F Star-37S-ISS | NOAA-D</td>\n",
       "      <td>StatusRetired</td>\n",
       "      <td>NaN</td>\n",
       "      <td>Success</td>\n",
       "      <td>USA</td>\n",
       "      <td>1991-05-14 15:52:00+00:00</td>\n",
       "      <td>1991</td>\n",
       "      <td>5</td>\n",
       "    </tr>\n",
       "    <tr>\n",
       "      <th>1753</th>\n",
       "      <td>RVSN USSR</td>\n",
       "      <td>Site 32/2, Plesetsk Cosmodrome, Russia</td>\n",
       "      <td>Thu May 16, 1991 21:40 UTC</td>\n",
       "      <td>Tsyklon-3 | Cosmos 2143 to 2148</td>\n",
       "      <td>StatusRetired</td>\n",
       "      <td>NaN</td>\n",
       "      <td>Success</td>\n",
       "      <td>RUS</td>\n",
       "      <td>1991-05-16 21:40:00+00:00</td>\n",
       "      <td>1991</td>\n",
       "      <td>5</td>\n",
       "    </tr>\n",
       "    <tr>\n",
       "      <th>1762</th>\n",
       "      <td>RVSN USSR</td>\n",
       "      <td>Site 43/3, Plesetsk Cosmodrome, Russia</td>\n",
       "      <td>Fri Mar 22, 1991 12:19 UTC</td>\n",
       "      <td>Molniya-M /Block ML | Molniya-3 n†­148</td>\n",
       "      <td>StatusRetired</td>\n",
       "      <td>NaN</td>\n",
       "      <td>Success</td>\n",
       "      <td>RUS</td>\n",
       "      <td>1991-03-22 12:19:00+00:00</td>\n",
       "      <td>1991</td>\n",
       "      <td>3</td>\n",
       "    </tr>\n",
       "    <tr>\n",
       "      <th>1751</th>\n",
       "      <td>RVSN USSR</td>\n",
       "      <td>Site 32/2, Plesetsk Cosmodrome, Russia</td>\n",
       "      <td>Tue Jun 04, 1991 09:00 UTC</td>\n",
       "      <td>Tsyklon-3 | Okean 3</td>\n",
       "      <td>StatusRetired</td>\n",
       "      <td>NaN</td>\n",
       "      <td>Success</td>\n",
       "      <td>RUS</td>\n",
       "      <td>1991-06-04 09:00:00+00:00</td>\n",
       "      <td>1991</td>\n",
       "      <td>6</td>\n",
       "    </tr>\n",
       "  </tbody>\n",
       "</table>\n",
       "<p>2432 rows × 11 columns</p>\n",
       "</div>"
      ],
      "text/plain": [
       "          Organisation                                    Location  \\\n",
       "4323         RVSN USSR   Site 1/5, Baikonur Cosmodrome, Kazakhstan   \n",
       "4322         RVSN USSR   Site 1/5, Baikonur Cosmodrome, Kazakhstan   \n",
       "4321           US Navy    LC-18A, Cape Canaveral AFS, Florida, USA   \n",
       "4320              AMBA    LC-26A, Cape Canaveral AFS, Florida, USA   \n",
       "4293      US Air Force     LC-11, Cape Canaveral AFS, Florida, USA   \n",
       "...                ...                                         ...   \n",
       "1755              NASA  LC-39A, Kennedy Space Center, Florida, USA   \n",
       "1754  General Dynamics     SLC-3W, Vandenberg AFB, California, USA   \n",
       "1753         RVSN USSR      Site 32/2, Plesetsk Cosmodrome, Russia   \n",
       "1762         RVSN USSR      Site 43/3, Plesetsk Cosmodrome, Russia   \n",
       "1751         RVSN USSR      Site 32/2, Plesetsk Cosmodrome, Russia   \n",
       "\n",
       "                            Date                                  Detail  \\\n",
       "4323  Fri Oct 04, 1957 19:28 UTC              Sputnik 8K71PS | Sputnik-1   \n",
       "4322  Sun Nov 03, 1957 02:30 UTC              Sputnik 8K71PS | Sputnik-2   \n",
       "4321  Fri Dec 06, 1957 16:44 UTC                 Vanguard | Vanguard TV3   \n",
       "4320  Sat Feb 01, 1958 03:48 UTC                     Juno I | Explorer 1   \n",
       "4293  Thu Dec 18, 1958 23:02 UTC                    SM-65B Atlas | SCORE   \n",
       "...                          ...                                     ...   \n",
       "1755  Sun Apr 28, 1991 11:33 UTC        Space Shuttle Discovery | STS-39   \n",
       "1754  Tue May 14, 1991 15:52 UTC         Atlas-E/F Star-37S-ISS | NOAA-D   \n",
       "1753  Thu May 16, 1991 21:40 UTC         Tsyklon-3 | Cosmos 2143 to 2148   \n",
       "1762  Fri Mar 22, 1991 12:19 UTC  Molniya-M /Block ML | Molniya-3 n†­148   \n",
       "1751  Tue Jun 04, 1991 09:00 UTC                     Tsyklon-3 | Okean 3   \n",
       "\n",
       "      Rocket_Status  Price Mission_Status Country                       date  \\\n",
       "4323  StatusRetired    NaN        Success     RUS  1957-10-04 19:28:00+00:00   \n",
       "4322  StatusRetired    NaN        Success     RUS  1957-11-03 02:30:00+00:00   \n",
       "4321  StatusRetired    NaN        Failure     USA  1957-12-06 16:44:00+00:00   \n",
       "4320  StatusRetired    NaN        Success     USA  1958-02-01 03:48:00+00:00   \n",
       "4293  StatusRetired    NaN        Success     USA  1958-12-18 23:02:00+00:00   \n",
       "...             ...    ...            ...     ...                        ...   \n",
       "1755  StatusRetired  450.0        Success     USA  1991-04-28 11:33:00+00:00   \n",
       "1754  StatusRetired    NaN        Success     USA  1991-05-14 15:52:00+00:00   \n",
       "1753  StatusRetired    NaN        Success     RUS  1991-05-16 21:40:00+00:00   \n",
       "1762  StatusRetired    NaN        Success     RUS  1991-03-22 12:19:00+00:00   \n",
       "1751  StatusRetired    NaN        Success     RUS  1991-06-04 09:00:00+00:00   \n",
       "\n",
       "      year  month  \n",
       "4323  1957     10  \n",
       "4322  1957     11  \n",
       "4321  1957     12  \n",
       "4320  1958      2  \n",
       "4293  1958     12  \n",
       "...    ...    ...  \n",
       "1755  1991      4  \n",
       "1754  1991      5  \n",
       "1753  1991      5  \n",
       "1762  1991      3  \n",
       "1751  1991      6  \n",
       "\n",
       "[2432 rows x 11 columns]"
      ]
     },
     "execution_count": 39,
     "metadata": {},
     "output_type": "execute_result"
    }
   ],
   "source": [
    "# Sort years\n",
    "cold_war_years = Or_df.sort_values(\"year\")\n",
    "\n",
    "# Grab years from start of dataset (1964) til 1991\n",
    "cold_war_years[(cold_war_years.year <= 1991)]"
   ]
  },
  {
   "cell_type": "markdown",
   "metadata": {
    "id": "Os-3A5vLa-q9",
    "papermill": {
     "duration": 0.054318,
     "end_time": "2020-10-20T21:34:14.089604",
     "exception": false,
     "start_time": "2020-10-20T21:34:14.035286",
     "status": "completed"
    },
    "tags": []
   },
   "source": [
    "## Create a Plotly Pie Chart comparing the total number of launches of the USSR and the USA\n",
    "\n",
    "Hint: Remember to include former Soviet Republics like Kazakhstan when analysing the total number of launches. "
   ]
  },
  {
   "cell_type": "code",
   "execution_count": 40,
   "metadata": {
    "scrolled": true
   },
   "outputs": [
    {
     "data": {
      "text/html": [
       "<div>\n",
       "<style scoped>\n",
       "    .dataframe tbody tr th:only-of-type {\n",
       "        vertical-align: middle;\n",
       "    }\n",
       "\n",
       "    .dataframe tbody tr th {\n",
       "        vertical-align: top;\n",
       "    }\n",
       "\n",
       "    .dataframe thead th {\n",
       "        text-align: right;\n",
       "    }\n",
       "</style>\n",
       "<table border=\"1\" class=\"dataframe\">\n",
       "  <thead>\n",
       "    <tr style=\"text-align: right;\">\n",
       "      <th></th>\n",
       "      <th>Organisation</th>\n",
       "      <th>Location</th>\n",
       "      <th>Date</th>\n",
       "      <th>Detail</th>\n",
       "      <th>Rocket_Status</th>\n",
       "      <th>Price</th>\n",
       "      <th>Mission_Status</th>\n",
       "      <th>Country</th>\n",
       "      <th>date</th>\n",
       "      <th>year</th>\n",
       "      <th>month</th>\n",
       "    </tr>\n",
       "  </thead>\n",
       "  <tbody>\n",
       "    <tr>\n",
       "      <th>0</th>\n",
       "      <td>SpaceX</td>\n",
       "      <td>LC-39A, Kennedy Space Center, Florida, USA</td>\n",
       "      <td>Fri Aug 07, 2020 05:12 UTC</td>\n",
       "      <td>Falcon 9 Block 5 | Starlink V1 L9 &amp; BlackSky</td>\n",
       "      <td>StatusActive</td>\n",
       "      <td>50.0</td>\n",
       "      <td>Success</td>\n",
       "      <td>USA</td>\n",
       "      <td>2020-08-07 05:12:00+00:00</td>\n",
       "      <td>2020</td>\n",
       "      <td>8</td>\n",
       "    </tr>\n",
       "    <tr>\n",
       "      <th>2</th>\n",
       "      <td>SpaceX</td>\n",
       "      <td>Pad A, Boca Chica, Texas, USA</td>\n",
       "      <td>Tue Aug 04, 2020 23:57 UTC</td>\n",
       "      <td>Starship Prototype | 150 Meter Hop</td>\n",
       "      <td>StatusActive</td>\n",
       "      <td>NaN</td>\n",
       "      <td>Success</td>\n",
       "      <td>USA</td>\n",
       "      <td>2020-08-04 23:57:00+00:00</td>\n",
       "      <td>2020</td>\n",
       "      <td>8</td>\n",
       "    </tr>\n",
       "    <tr>\n",
       "      <th>3</th>\n",
       "      <td>Roscosmos</td>\n",
       "      <td>Site 200/39, Baikonur Cosmodrome, Kazakhstan</td>\n",
       "      <td>Thu Jul 30, 2020 21:25 UTC</td>\n",
       "      <td>Proton-M/Briz-M | Ekspress-80 &amp; Ekspress-103</td>\n",
       "      <td>StatusActive</td>\n",
       "      <td>65.0</td>\n",
       "      <td>Success</td>\n",
       "      <td>RUS</td>\n",
       "      <td>2020-07-30 21:25:00+00:00</td>\n",
       "      <td>2020</td>\n",
       "      <td>7</td>\n",
       "    </tr>\n",
       "    <tr>\n",
       "      <th>4</th>\n",
       "      <td>ULA</td>\n",
       "      <td>SLC-41, Cape Canaveral AFS, Florida, USA</td>\n",
       "      <td>Thu Jul 30, 2020 11:50 UTC</td>\n",
       "      <td>Atlas V 541 | Perseverance</td>\n",
       "      <td>StatusActive</td>\n",
       "      <td>145.0</td>\n",
       "      <td>Success</td>\n",
       "      <td>USA</td>\n",
       "      <td>2020-07-30 11:50:00+00:00</td>\n",
       "      <td>2020</td>\n",
       "      <td>7</td>\n",
       "    </tr>\n",
       "    <tr>\n",
       "      <th>6</th>\n",
       "      <td>Roscosmos</td>\n",
       "      <td>Site 31/6, Baikonur Cosmodrome, Kazakhstan</td>\n",
       "      <td>Thu Jul 23, 2020 14:26 UTC</td>\n",
       "      <td>Soyuz 2.1a | Progress MS-15</td>\n",
       "      <td>StatusActive</td>\n",
       "      <td>48.5</td>\n",
       "      <td>Success</td>\n",
       "      <td>RUS</td>\n",
       "      <td>2020-07-23 14:26:00+00:00</td>\n",
       "      <td>2020</td>\n",
       "      <td>7</td>\n",
       "    </tr>\n",
       "  </tbody>\n",
       "</table>\n",
       "</div>"
      ],
      "text/plain": [
       "  Organisation                                      Location  \\\n",
       "0       SpaceX    LC-39A, Kennedy Space Center, Florida, USA   \n",
       "2       SpaceX                 Pad A, Boca Chica, Texas, USA   \n",
       "3    Roscosmos  Site 200/39, Baikonur Cosmodrome, Kazakhstan   \n",
       "4          ULA      SLC-41, Cape Canaveral AFS, Florida, USA   \n",
       "6    Roscosmos    Site 31/6, Baikonur Cosmodrome, Kazakhstan   \n",
       "\n",
       "                         Date                                        Detail  \\\n",
       "0  Fri Aug 07, 2020 05:12 UTC  Falcon 9 Block 5 | Starlink V1 L9 & BlackSky   \n",
       "2  Tue Aug 04, 2020 23:57 UTC            Starship Prototype | 150 Meter Hop   \n",
       "3  Thu Jul 30, 2020 21:25 UTC  Proton-M/Briz-M | Ekspress-80 & Ekspress-103   \n",
       "4  Thu Jul 30, 2020 11:50 UTC                    Atlas V 541 | Perseverance   \n",
       "6  Thu Jul 23, 2020 14:26 UTC                   Soyuz 2.1a | Progress MS-15   \n",
       "\n",
       "  Rocket_Status  Price Mission_Status Country                       date  \\\n",
       "0  StatusActive   50.0        Success     USA  2020-08-07 05:12:00+00:00   \n",
       "2  StatusActive    NaN        Success     USA  2020-08-04 23:57:00+00:00   \n",
       "3  StatusActive   65.0        Success     RUS  2020-07-30 21:25:00+00:00   \n",
       "4  StatusActive  145.0        Success     USA  2020-07-30 11:50:00+00:00   \n",
       "6  StatusActive   48.5        Success     RUS  2020-07-23 14:26:00+00:00   \n",
       "\n",
       "   year  month  \n",
       "0  2020      8  \n",
       "2  2020      8  \n",
       "3  2020      7  \n",
       "4  2020      7  \n",
       "6  2020      7  "
      ]
     },
     "execution_count": 40,
     "metadata": {},
     "output_type": "execute_result"
    }
   ],
   "source": [
    "# Grab the data for USA and for Russian Federation (aka USSR)\n",
    "Or_df = df_data[(df_data['Country']=='USA') | (df_data['Country']=='RUS')]\n",
    "Or_df.head()"
   ]
  },
  {
   "cell_type": "code",
   "execution_count": 41,
   "metadata": {
    "id": "1irc6_W9rD59"
   },
   "outputs": [
    {
     "data": {
      "text/html": [
       "<div>\n",
       "<style scoped>\n",
       "    .dataframe tbody tr th:only-of-type {\n",
       "        vertical-align: middle;\n",
       "    }\n",
       "\n",
       "    .dataframe tbody tr th {\n",
       "        vertical-align: top;\n",
       "    }\n",
       "\n",
       "    .dataframe thead th {\n",
       "        text-align: right;\n",
       "    }\n",
       "</style>\n",
       "<table border=\"1\" class=\"dataframe\">\n",
       "  <thead>\n",
       "    <tr style=\"text-align: right;\">\n",
       "      <th></th>\n",
       "      <th>Country</th>\n",
       "      <th>counts</th>\n",
       "    </tr>\n",
       "  </thead>\n",
       "  <tbody>\n",
       "    <tr>\n",
       "      <th>0</th>\n",
       "      <td>RUS</td>\n",
       "      <td>2099</td>\n",
       "    </tr>\n",
       "    <tr>\n",
       "      <th>1</th>\n",
       "      <td>USA</td>\n",
       "      <td>1351</td>\n",
       "    </tr>\n",
       "  </tbody>\n",
       "</table>\n",
       "</div>"
      ],
      "text/plain": [
       "  Country  counts\n",
       "0     RUS    2099\n",
       "1     USA    1351"
      ]
     },
     "execution_count": 41,
     "metadata": {},
     "output_type": "execute_result"
    }
   ],
   "source": [
    "# Do not need to count the data - since the pie chart will collect the data per country. However, getting the count will help us to know if the data pulled into the pie chart is accurate.\n",
    "launches = Or_df[\"Country\"].value_counts().rename_axis(\"Country\").reset_index(name='counts')\n",
    "launches.head()"
   ]
  },
  {
   "cell_type": "code",
   "execution_count": 42,
   "metadata": {},
   "outputs": [
    {
     "data": {
      "text/plain": [
       "([<matplotlib.patches.Wedge at 0x7fda83446520>,\n",
       "  <matplotlib.patches.Wedge at 0x7fda83446a60>],\n",
       " [Text(-0.36742349695818666, 1.0368220550716587, 'RUS'),\n",
       "  Text(0.3674233998838983, -1.0368220894723246, 'USA')])"
      ]
     },
     "execution_count": 42,
     "metadata": {},
     "output_type": "execute_result"
    },
    {
     "data": {
      "image/png": "[encoded data removed]",
      "text/plain": [
       "<Figure size 432x288 with 1 Axes>"
      ]
     },
     "metadata": {},
     "output_type": "display_data"
    }
   ],
   "source": [
    "# https://stackoverflow.com/questions/65806703/python-pie-chart-using-csv\n",
    "# Plot chart using Country and Mission_Status. When ploting the Mission_Status data will be counted and will return the total number of launches by country\n",
    "colors = [\"#1f77b4\", \"#ff7f0e\"]\n",
    "grouping = Or_df.groupby(\"Country\").count().reset_index()\n",
    "sizes = grouping['Mission_Status']\n",
    "labels = grouping['Country']\n",
    "\n",
    "plt.pie(sizes, labels = labels, colors = colors)"
   ]
  },
  {
   "cell_type": "markdown",
   "metadata": {
    "id": "0C29Zz4xa-rA",
    "papermill": {
     "duration": 0.052921,
     "end_time": "2020-10-20T21:34:14.340085",
     "exception": false,
     "start_time": "2020-10-20T21:34:14.287164",
     "status": "completed"
    },
    "tags": []
   },
   "source": [
    "## Create a Chart that Shows the Total Number of Launches Year-On-Year by the Two Superpowers"
   ]
  },
  {
   "cell_type": "code",
   "execution_count": 43,
   "metadata": {
    "id": "9ISKvOiCrS73"
   },
   "outputs": [
    {
     "data": {
      "text/plain": [
       "<AxesSubplot:xlabel='year'>"
      ]
     },
     "execution_count": 43,
     "metadata": {},
     "output_type": "execute_result"
    },
    {
     "data": {
      "image/png": "[encoded data removed]",
      "text/plain": [
       "<Figure size 432x288 with 1 Axes>"
      ]
     },
     "metadata": {
      "needs_background": "light"
     },
     "output_type": "display_data"
    }
   ],
   "source": [
    "Or_df = df_data[(df_data['Country']=='USA') | (df_data['Country']=='RUS')]\n",
    "# .size() can be used rather than counts()\n",
    "Or_df.groupby([\"year\", \"Country\"]).size().unstack().plot()\n"
   ]
  },
  {
   "cell_type": "markdown",
   "metadata": {
    "id": "eWv4iZmra-rE",
    "papermill": {
     "duration": 0.079311,
     "end_time": "2020-10-20T21:34:14.933058",
     "exception": false,
     "start_time": "2020-10-20T21:34:14.853747",
     "status": "completed"
    },
    "tags": []
   },
   "source": [
    "## Chart the Total Number of Mission Failures Year on Year."
   ]
  },
  {
   "cell_type": "code",
   "execution_count": 44,
   "metadata": {
    "id": "I-Zss5-Mre-4",
    "scrolled": true
   },
   "outputs": [
    {
     "data": {
      "text/html": [
       "<div>\n",
       "<style scoped>\n",
       "    .dataframe tbody tr th:only-of-type {\n",
       "        vertical-align: middle;\n",
       "    }\n",
       "\n",
       "    .dataframe tbody tr th {\n",
       "        vertical-align: top;\n",
       "    }\n",
       "\n",
       "    .dataframe thead th {\n",
       "        text-align: right;\n",
       "    }\n",
       "</style>\n",
       "<table border=\"1\" class=\"dataframe\">\n",
       "  <thead>\n",
       "    <tr style=\"text-align: right;\">\n",
       "      <th></th>\n",
       "      <th>Organisation</th>\n",
       "      <th>Location</th>\n",
       "      <th>Date</th>\n",
       "      <th>Detail</th>\n",
       "      <th>Rocket_Status</th>\n",
       "      <th>Price</th>\n",
       "      <th>Mission_Status</th>\n",
       "      <th>Country</th>\n",
       "      <th>date</th>\n",
       "      <th>year</th>\n",
       "      <th>month</th>\n",
       "    </tr>\n",
       "  </thead>\n",
       "  <tbody>\n",
       "    <tr>\n",
       "      <th>11</th>\n",
       "      <td>ExPace</td>\n",
       "      <td>Site 95, Jiuquan Satellite Launch Center, China</td>\n",
       "      <td>Fri Jul 10, 2020 04:17 UTC</td>\n",
       "      <td>Kuaizhou 11 | Jilin-1 02E, CentiSpace-1 S2</td>\n",
       "      <td>StatusActive</td>\n",
       "      <td>28.3</td>\n",
       "      <td>Failure</td>\n",
       "      <td>CHN</td>\n",
       "      <td>2020-07-10 04:17:00+00:00</td>\n",
       "      <td>2020</td>\n",
       "      <td>7</td>\n",
       "    </tr>\n",
       "    <tr>\n",
       "      <th>15</th>\n",
       "      <td>Rocket Lab</td>\n",
       "      <td>Rocket Lab LC-1A, M?hia Peninsula, New Zealand</td>\n",
       "      <td>Sat Jul 04, 2020 21:19 UTC</td>\n",
       "      <td>Electron/Curie | Pics Or It Didn??¦t Happen</td>\n",
       "      <td>StatusActive</td>\n",
       "      <td>7.5</td>\n",
       "      <td>Failure</td>\n",
       "      <td>NZL</td>\n",
       "      <td>2020-07-04 21:19:00+00:00</td>\n",
       "      <td>2020</td>\n",
       "      <td>7</td>\n",
       "    </tr>\n",
       "    <tr>\n",
       "      <th>27</th>\n",
       "      <td>Virgin Orbit</td>\n",
       "      <td>Cosmic Girl, Mojave Air and Space Port, Califo...</td>\n",
       "      <td>Mon May 25, 2020 19:50 UTC</td>\n",
       "      <td>LauncherOne | Demo Flight</td>\n",
       "      <td>StatusActive</td>\n",
       "      <td>12.0</td>\n",
       "      <td>Failure</td>\n",
       "      <td>USA</td>\n",
       "      <td>2020-05-25 19:50:00+00:00</td>\n",
       "      <td>2020</td>\n",
       "      <td>5</td>\n",
       "    </tr>\n",
       "    <tr>\n",
       "      <th>36</th>\n",
       "      <td>CASC</td>\n",
       "      <td>LC-2, Xichang Satellite Launch Center, China</td>\n",
       "      <td>Thu Apr 09, 2020 11:46 UTC</td>\n",
       "      <td>Long March 3B/E | Nusantara Dua</td>\n",
       "      <td>StatusActive</td>\n",
       "      <td>29.15</td>\n",
       "      <td>Failure</td>\n",
       "      <td>CHN</td>\n",
       "      <td>2020-04-09 11:46:00+00:00</td>\n",
       "      <td>2020</td>\n",
       "      <td>4</td>\n",
       "    </tr>\n",
       "    <tr>\n",
       "      <th>43</th>\n",
       "      <td>CASC</td>\n",
       "      <td>LC-201, Wenchang Satellite Launch Center, China</td>\n",
       "      <td>Mon Mar 16, 2020 13:34 UTC</td>\n",
       "      <td>Long March 7A | XJY-6</td>\n",
       "      <td>StatusActive</td>\n",
       "      <td>NaN</td>\n",
       "      <td>Failure</td>\n",
       "      <td>CHN</td>\n",
       "      <td>2020-03-16 13:34:00+00:00</td>\n",
       "      <td>2020</td>\n",
       "      <td>3</td>\n",
       "    </tr>\n",
       "  </tbody>\n",
       "</table>\n",
       "</div>"
      ],
      "text/plain": [
       "    Organisation                                           Location  \\\n",
       "11        ExPace    Site 95, Jiuquan Satellite Launch Center, China   \n",
       "15    Rocket Lab    Rocket Lab LC-1A, M?hia Peninsula, New Zealand   \n",
       "27  Virgin Orbit  Cosmic Girl, Mojave Air and Space Port, Califo...   \n",
       "36          CASC       LC-2, Xichang Satellite Launch Center, China   \n",
       "43          CASC    LC-201, Wenchang Satellite Launch Center, China   \n",
       "\n",
       "                          Date                                       Detail  \\\n",
       "11  Fri Jul 10, 2020 04:17 UTC   Kuaizhou 11 | Jilin-1 02E, CentiSpace-1 S2   \n",
       "15  Sat Jul 04, 2020 21:19 UTC  Electron/Curie | Pics Or It Didn??¦t Happen   \n",
       "27  Mon May 25, 2020 19:50 UTC                    LauncherOne | Demo Flight   \n",
       "36  Thu Apr 09, 2020 11:46 UTC              Long March 3B/E | Nusantara Dua   \n",
       "43  Mon Mar 16, 2020 13:34 UTC                        Long March 7A | XJY-6   \n",
       "\n",
       "   Rocket_Status  Price Mission_Status Country                       date  \\\n",
       "11  StatusActive   28.3        Failure     CHN  2020-07-10 04:17:00+00:00   \n",
       "15  StatusActive    7.5        Failure     NZL  2020-07-04 21:19:00+00:00   \n",
       "27  StatusActive   12.0        Failure     USA  2020-05-25 19:50:00+00:00   \n",
       "36  StatusActive  29.15        Failure     CHN  2020-04-09 11:46:00+00:00   \n",
       "43  StatusActive    NaN        Failure     CHN  2020-03-16 13:34:00+00:00   \n",
       "\n",
       "    year  month  \n",
       "11  2020      7  \n",
       "15  2020      7  \n",
       "27  2020      5  \n",
       "36  2020      4  \n",
       "43  2020      3  "
      ]
     },
     "execution_count": 44,
     "metadata": {},
     "output_type": "execute_result"
    }
   ],
   "source": [
    "Or_df = df_data[df_data['Mission_Status'].str.contains(\"Failure\")]\n",
    "Or_df.head()"
   ]
  },
  {
   "cell_type": "code",
   "execution_count": 45,
   "metadata": {
    "id": "7Ps9Iq_crfYl"
   },
   "outputs": [
    {
     "data": {
      "application/vnd.plotly.v1+json": {
       "config": {
        "plotlyServerURL": "https://plot.ly"
       },
       "data": [
        {
         "branchvalues": "total",
         "domain": {
          "x": [
           0,
           1
          ],
          "y": [
           0,
           1
          ]
         },
         "hovertemplate": "labels=%{label}<br>count=%{value}<br>parent=%{parent}<br>id=%{id}<extra></extra>",
         "ids": [
          "1957/Failure",
          "1958/Failure",
          "1959/Failure",
          "1960/Failure",
          "1961/Failure",
          "1962/Failure",
          "1963/Failure",
          "1964/Failure",
          "1965/Failure",
          "1966/Failure",
          "1967/Failure",
          "1968/Failure",
          "1969/Failure",
          "1970/Failure",
          "1971/Failure",
          "1972/Failure",
          "1973/Failure",
          "1974/Failure",
          "1975/Failure",
          "1976/Failure",
          "1977/Failure",
          "1978/Failure",
          "1979/Failure",
          "1980/Failure",
          "1981/Failure",
          "1982/Failure",
          "1983/Failure",
          "1984/Failure",
          "1985/Failure",
          "1986/Failure",
          "1987/Failure",
          "1988/Failure",
          "1989/Failure",
          "1990/Failure",
          "1991/Failure",
          "1992/Failure",
          "1993/Failure",
          "1994/Failure",
          "1995/Failure",
          "1996/Failure",
          "1997/Failure",
          "1998/Failure",
          "1999/Failure",
          "2000/Failure",
          "2001/Failure",
          "2002/Failure",
          "2003/Failure",
          "2004/Failure",
          "2005/Failure",
          "2006/Failure",
          "2007/Failure",
          "2008/Failure",
          "2009/Failure",
          "2010/Failure",
          "2011/Failure",
          "2012/Failure",
          "2013/Failure",
          "2014/Failure",
          "2015/Failure",
          "2016/Failure",
          "2017/Failure",
          "2018/Failure",
          "2019/Failure",
          "2020/Failure",
          "1958/Partial Failure",
          "1959/Partial Failure",
          "1961/Partial Failure",
          "1962/Partial Failure",
          "1964/Partial Failure",
          "1965/Partial Failure",
          "1966/Partial Failure",
          "1967/Partial Failure",
          "1968/Partial Failure",
          "1969/Partial Failure",
          "1970/Partial Failure",
          "1971/Partial Failure",
          "1972/Partial Failure",
          "1974/Partial Failure",
          "1976/Partial Failure",
          "1978/Partial Failure",
          "1979/Partial Failure",
          "1980/Partial Failure",
          "1981/Partial Failure",
          "1982/Partial Failure",
          "1984/Partial Failure",
          "1985/Partial Failure",
          "1986/Partial Failure",
          "1987/Partial Failure",
          "1988/Partial Failure",
          "1989/Partial Failure",
          "1990/Partial Failure",
          "1991/Partial Failure",
          "1994/Partial Failure",
          "1995/Partial Failure",
          "1996/Partial Failure",
          "1997/Partial Failure",
          "1998/Partial Failure",
          "2001/Partial Failure",
          "2004/Partial Failure",
          "2007/Partial Failure",
          "2008/Partial Failure",
          "2011/Partial Failure",
          "2012/Partial Failure",
          "2013/Partial Failure",
          "2014/Partial Failure",
          "2015/Partial Failure",
          "2016/Partial Failure",
          "2017/Partial Failure",
          "2018/Partial Failure",
          "2019/Partial Failure",
          "1966/Prelaunch Failure",
          "2003/Prelaunch Failure",
          "2016/Prelaunch Failure",
          "2019/Prelaunch Failure",
          "1957",
          "1958",
          "1959",
          "1960",
          "1961",
          "1962",
          "1963",
          "1964",
          "1965",
          "1966",
          "1967",
          "1968",
          "1969",
          "1970",
          "1971",
          "1972",
          "1973",
          "1974",
          "1975",
          "1976",
          "1977",
          "1978",
          "1979",
          "1980",
          "1981",
          "1982",
          "1983",
          "1984",
          "1985",
          "1986",
          "1987",
          "1988",
          "1989",
          "1990",
          "1991",
          "1992",
          "1993",
          "1994",
          "1995",
          "1996",
          "1997",
          "1998",
          "1999",
          "2000",
          "2001",
          "2002",
          "2003",
          "2004",
          "2005",
          "2006",
          "2007",
          "2008",
          "2009",
          "2010",
          "2011",
          "2012",
          "2013",
          "2014",
          "2015",
          "2016",
          "2017",
          "2018",
          "2019",
          "2020"
         ],
         "labels": [
          "Failure",
          "Failure",
          "Failure",
          "Failure",
          "Failure",
          "Failure",
          "Failure",
          "Failure",
          "Failure",
          "Failure",
          "Failure",
          "Failure",
          "Failure",
          "Failure",
          "Failure",
          "Failure",
          "Failure",
          "Failure",
          "Failure",
          "Failure",
          "Failure",
          "Failure",
          "Failure",
          "Failure",
          "Failure",
          "Failure",
          "Failure",
          "Failure",
          "Failure",
          "Failure",
          "Failure",
          "Failure",
          "Failure",
          "Failure",
          "Failure",
          "Failure",
          "Failure",
          "Failure",
          "Failure",
          "Failure",
          "Failure",
          "Failure",
          "Failure",
          "Failure",
          "Failure",
          "Failure",
          "Failure",
          "Failure",
          "Failure",
          "Failure",
          "Failure",
          "Failure",
          "Failure",
          "Failure",
          "Failure",
          "Failure",
          "Failure",
          "Failure",
          "Failure",
          "Failure",
          "Failure",
          "Failure",
          "Failure",
          "Failure",
          "Partial Failure",
          "Partial Failure",
          "Partial Failure",
          "Partial Failure",
          "Partial Failure",
          "Partial Failure",
          "Partial Failure",
          "Partial Failure",
          "Partial Failure",
          "Partial Failure",
          "Partial Failure",
          "Partial Failure",
          "Partial Failure",
          "Partial Failure",
          "Partial Failure",
          "Partial Failure",
          "Partial Failure",
          "Partial Failure",
          "Partial Failure",
          "Partial Failure",
          "Partial Failure",
          "Partial Failure",
          "Partial Failure",
          "Partial Failure",
          "Partial Failure",
          "Partial Failure",
          "Partial Failure",
          "Partial Failure",
          "Partial Failure",
          "Partial Failure",
          "Partial Failure",
          "Partial Failure",
          "Partial Failure",
          "Partial Failure",
          "Partial Failure",
          "Partial Failure",
          "Partial Failure",
          "Partial Failure",
          "Partial Failure",
          "Partial Failure",
          "Partial Failure",
          "Partial Failure",
          "Partial Failure",
          "Partial Failure",
          "Partial Failure",
          "Partial Failure",
          "Prelaunch Failure",
          "Prelaunch Failure",
          "Prelaunch Failure",
          "Prelaunch Failure",
          "1957",
          "1958",
          "1959",
          "1960",
          "1961",
          "1962",
          "1963",
          "1964",
          "1965",
          "1966",
          "1967",
          "1968",
          "1969",
          "1970",
          "1971",
          "1972",
          "1973",
          "1974",
          "1975",
          "1976",
          "1977",
          "1978",
          "1979",
          "1980",
          "1981",
          "1982",
          "1983",
          "1984",
          "1985",
          "1986",
          "1987",
          "1988",
          "1989",
          "1990",
          "1991",
          "1992",
          "1993",
          "1994",
          "1995",
          "1996",
          "1997",
          "1998",
          "1999",
          "2000",
          "2001",
          "2002",
          "2003",
          "2004",
          "2005",
          "2006",
          "2007",
          "2008",
          "2009",
          "2010",
          "2011",
          "2012",
          "2013",
          "2014",
          "2015",
          "2016",
          "2017",
          "2018",
          "2019",
          "2020"
         ],
         "name": "",
         "parents": [
          "1957",
          "1958",
          "1959",
          "1960",
          "1961",
          "1962",
          "1963",
          "1964",
          "1965",
          "1966",
          "1967",
          "1968",
          "1969",
          "1970",
          "1971",
          "1972",
          "1973",
          "1974",
          "1975",
          "1976",
          "1977",
          "1978",
          "1979",
          "1980",
          "1981",
          "1982",
          "1983",
          "1984",
          "1985",
          "1986",
          "1987",
          "1988",
          "1989",
          "1990",
          "1991",
          "1992",
          "1993",
          "1994",
          "1995",
          "1996",
          "1997",
          "1998",
          "1999",
          "2000",
          "2001",
          "2002",
          "2003",
          "2004",
          "2005",
          "2006",
          "2007",
          "2008",
          "2009",
          "2010",
          "2011",
          "2012",
          "2013",
          "2014",
          "2015",
          "2016",
          "2017",
          "2018",
          "2019",
          "2020",
          "1958",
          "1959",
          "1961",
          "1962",
          "1964",
          "1965",
          "1966",
          "1967",
          "1968",
          "1969",
          "1970",
          "1971",
          "1972",
          "1974",
          "1976",
          "1978",
          "1979",
          "1980",
          "1981",
          "1982",
          "1984",
          "1985",
          "1986",
          "1987",
          "1988",
          "1989",
          "1990",
          "1991",
          "1994",
          "1995",
          "1996",
          "1997",
          "1998",
          "2001",
          "2004",
          "2007",
          "2008",
          "2011",
          "2012",
          "2013",
          "2014",
          "2015",
          "2016",
          "2017",
          "2018",
          "2019",
          "1966",
          "2003",
          "2016",
          "2019",
          "",
          "",
          "",
          "",
          "",
          "",
          "",
          "",
          "",
          "",
          "",
          "",
          "",
          "",
          "",
          "",
          "",
          "",
          "",
          "",
          "",
          "",
          "",
          "",
          "",
          "",
          "",
          "",
          "",
          "",
          "",
          "",
          "",
          "",
          "",
          "",
          "",
          "",
          "",
          "",
          "",
          "",
          "",
          "",
          "",
          "",
          "",
          "",
          "",
          "",
          "",
          "",
          "",
          "",
          "",
          "",
          "",
          "",
          "",
          "",
          "",
          "",
          "",
          ""
         ],
         "type": "sunburst",
         "values": [
          1,
          20,
          9,
          20,
          17,
          15,
          12,
          10,
          11,
          10,
          11,
          6,
          17,
          10,
          12,
          7,
          7,
          7,
          6,
          3,
          4,
          1,
          2,
          3,
          2,
          3,
          1,
          1,
          5,
          4,
          2,
          1,
          1,
          3,
          3,
          3,
          4,
          4,
          5,
          3,
          3,
          5,
          6,
          4,
          1,
          2,
          3,
          1,
          3,
          3,
          2,
          2,
          3,
          3,
          1,
          3,
          2,
          1,
          3,
          2,
          6,
          2,
          6,
          6,
          2,
          3,
          3,
          2,
          2,
          2,
          9,
          8,
          5,
          1,
          4,
          2,
          3,
          1,
          2,
          2,
          1,
          3,
          4,
          2,
          2,
          1,
          2,
          1,
          1,
          1,
          1,
          2,
          2,
          3,
          1,
          3,
          2,
          2,
          2,
          2,
          1,
          1,
          1,
          1,
          1,
          1,
          1,
          2,
          2,
          2,
          1,
          1,
          1,
          1,
          1,
          22,
          12,
          20,
          20,
          17,
          12,
          12,
          13,
          20,
          19,
          11,
          18,
          14,
          14,
          10,
          7,
          8,
          6,
          5,
          4,
          3,
          3,
          6,
          6,
          5,
          1,
          3,
          6,
          6,
          3,
          2,
          2,
          4,
          5,
          3,
          4,
          6,
          8,
          4,
          6,
          7,
          6,
          4,
          3,
          2,
          4,
          3,
          3,
          3,
          4,
          3,
          3,
          3,
          2,
          4,
          3,
          2,
          4,
          4,
          8,
          4,
          9,
          6
         ]
        }
       ],
       "layout": {
        "legend": {
         "tracegroupgap": 0
        },
        "margin": {
         "t": 60
        },
        "template": {
         "data": {
          "bar": [
           {
            "error_x": {
             "color": "#2a3f5f"
            },
            "error_y": {
             "color": "#2a3f5f"
            },
            "marker": {
             "line": {
              "color": "#E5ECF6",
              "width": 0.5
             },
             "pattern": {
              "fillmode": "overlay",
              "size": 10,
              "solidity": 0.2
             }
            },
            "type": "bar"
           }
          ],
          "barpolar": [
           {
            "marker": {
             "line": {
              "color": "#E5ECF6",
              "width": 0.5
             },
             "pattern": {
              "fillmode": "overlay",
              "size": 10,
              "solidity": 0.2
             }
            },
            "type": "barpolar"
           }
          ],
          "carpet": [
           {
            "aaxis": {
             "endlinecolor": "#2a3f5f",
             "gridcolor": "white",
             "linecolor": "white",
             "minorgridcolor": "white",
             "startlinecolor": "#2a3f5f"
            },
            "baxis": {
             "endlinecolor": "#2a3f5f",
             "gridcolor": "white",
             "linecolor": "white",
             "minorgridcolor": "white",
             "startlinecolor": "#2a3f5f"
            },
            "type": "carpet"
           }
          ],
          "choropleth": [
           {
            "colorbar": {
             "outlinewidth": 0,
             "ticks": ""
            },
            "type": "choropleth"
           }
          ],
          "contour": [
           {
            "colorbar": {
             "outlinewidth": 0,
             "ticks": ""
            },
            "colorscale": [
             [
              0,
              "#0d0887"
             ],
             [
              0.1111111111111111,
              "#46039f"
             ],
             [
              0.2222222222222222,
              "#7201a8"
             ],
             [
              0.3333333333333333,
              "#9c179e"
             ],
             [
              0.4444444444444444,
              "#bd3786"
             ],
             [
              0.5555555555555556,
              "#d8576b"
             ],
             [
              0.6666666666666666,
              "#ed7953"
             ],
             [
              0.7777777777777778,
              "#fb9f3a"
             ],
             [
              0.8888888888888888,
              "#fdca26"
             ],
             [
              1,
              "#f0f921"
             ]
            ],
            "type": "contour"
           }
          ],
          "contourcarpet": [
           {
            "colorbar": {
             "outlinewidth": 0,
             "ticks": ""
            },
            "type": "contourcarpet"
           }
          ],
          "heatmap": [
           {
            "colorbar": {
             "outlinewidth": 0,
             "ticks": ""
            },
            "colorscale": [
             [
              0,
              "#0d0887"
             ],
             [
              0.1111111111111111,
              "#46039f"
             ],
             [
              0.2222222222222222,
              "#7201a8"
             ],
             [
              0.3333333333333333,
              "#9c179e"
             ],
             [
              0.4444444444444444,
              "#bd3786"
             ],
             [
              0.5555555555555556,
              "#d8576b"
             ],
             [
              0.6666666666666666,
              "#ed7953"
             ],
             [
              0.7777777777777778,
              "#fb9f3a"
             ],
             [
              0.8888888888888888,
              "#fdca26"
             ],
             [
              1,
              "#f0f921"
             ]
            ],
            "type": "heatmap"
           }
          ],
          "heatmapgl": [
           {
            "colorbar": {
             "outlinewidth": 0,
             "ticks": ""
            },
            "colorscale": [
             [
              0,
              "#0d0887"
             ],
             [
              0.1111111111111111,
              "#46039f"
             ],
             [
              0.2222222222222222,
              "#7201a8"
             ],
             [
              0.3333333333333333,
              "#9c179e"
             ],
             [
              0.4444444444444444,
              "#bd3786"
             ],
             [
              0.5555555555555556,
              "#d8576b"
             ],
             [
              0.6666666666666666,
              "#ed7953"
             ],
             [
              0.7777777777777778,
              "#fb9f3a"
             ],
             [
              0.8888888888888888,
              "#fdca26"
             ],
             [
              1,
              "#f0f921"
             ]
            ],
            "type": "heatmapgl"
           }
          ],
          "histogram": [
           {
            "marker": {
             "pattern": {
              "fillmode": "overlay",
              "size": 10,
              "solidity": 0.2
             }
            },
            "type": "histogram"
           }
          ],
          "histogram2d": [
           {
            "colorbar": {
             "outlinewidth": 0,
             "ticks": ""
            },
            "colorscale": [
             [
              0,
              "#0d0887"
             ],
             [
              0.1111111111111111,
              "#46039f"
             ],
             [
              0.2222222222222222,
              "#7201a8"
             ],
             [
              0.3333333333333333,
              "#9c179e"
             ],
             [
              0.4444444444444444,
              "#bd3786"
             ],
             [
              0.5555555555555556,
              "#d8576b"
             ],
             [
              0.6666666666666666,
              "#ed7953"
             ],
             [
              0.7777777777777778,
              "#fb9f3a"
             ],
             [
              0.8888888888888888,
              "#fdca26"
             ],
             [
              1,
              "#f0f921"
             ]
            ],
            "type": "histogram2d"
           }
          ],
          "histogram2dcontour": [
           {
            "colorbar": {
             "outlinewidth": 0,
             "ticks": ""
            },
            "colorscale": [
             [
              0,
              "#0d0887"
             ],
             [
              0.1111111111111111,
              "#46039f"
             ],
             [
              0.2222222222222222,
              "#7201a8"
             ],
             [
              0.3333333333333333,
              "#9c179e"
             ],
             [
              0.4444444444444444,
              "#bd3786"
             ],
             [
              0.5555555555555556,
              "#d8576b"
             ],
             [
              0.6666666666666666,
              "#ed7953"
             ],
             [
              0.7777777777777778,
              "#fb9f3a"
             ],
             [
              0.8888888888888888,
              "#fdca26"
             ],
             [
              1,
              "#f0f921"
             ]
            ],
            "type": "histogram2dcontour"
           }
          ],
          "mesh3d": [
           {
            "colorbar": {
             "outlinewidth": 0,
             "ticks": ""
            },
            "type": "mesh3d"
           }
          ],
          "parcoords": [
           {
            "line": {
             "colorbar": {
              "outlinewidth": 0,
              "ticks": ""
             }
            },
            "type": "parcoords"
           }
          ],
          "pie": [
           {
            "automargin": true,
            "type": "pie"
           }
          ],
          "scatter": [
           {
            "marker": {
             "colorbar": {
              "outlinewidth": 0,
              "ticks": ""
             }
            },
            "type": "scatter"
           }
          ],
          "scatter3d": [
           {
            "line": {
             "colorbar": {
              "outlinewidth": 0,
              "ticks": ""
             }
            },
            "marker": {
             "colorbar": {
              "outlinewidth": 0,
              "ticks": ""
             }
            },
            "type": "scatter3d"
           }
          ],
          "scattercarpet": [
           {
            "marker": {
             "colorbar": {
              "outlinewidth": 0,
              "ticks": ""
             }
            },
            "type": "scattercarpet"
           }
          ],
          "scattergeo": [
           {
            "marker": {
             "colorbar": {
              "outlinewidth": 0,
              "ticks": ""
             }
            },
            "type": "scattergeo"
           }
          ],
          "scattergl": [
           {
            "marker": {
             "colorbar": {
              "outlinewidth": 0,
              "ticks": ""
             }
            },
            "type": "scattergl"
           }
          ],
          "scattermapbox": [
           {
            "marker": {
             "colorbar": {
              "outlinewidth": 0,
              "ticks": ""
             }
            },
            "type": "scattermapbox"
           }
          ],
          "scatterpolar": [
           {
            "marker": {
             "colorbar": {
              "outlinewidth": 0,
              "ticks": ""
             }
            },
            "type": "scatterpolar"
           }
          ],
          "scatterpolargl": [
           {
            "marker": {
             "colorbar": {
              "outlinewidth": 0,
              "ticks": ""
             }
            },
            "type": "scatterpolargl"
           }
          ],
          "scatterternary": [
           {
            "marker": {
             "colorbar": {
              "outlinewidth": 0,
              "ticks": ""
             }
            },
            "type": "scatterternary"
           }
          ],
          "surface": [
           {
            "colorbar": {
             "outlinewidth": 0,
             "ticks": ""
            },
            "colorscale": [
             [
              0,
              "#0d0887"
             ],
             [
              0.1111111111111111,
              "#46039f"
             ],
             [
              0.2222222222222222,
              "#7201a8"
             ],
             [
              0.3333333333333333,
              "#9c179e"
             ],
             [
              0.4444444444444444,
              "#bd3786"
             ],
             [
              0.5555555555555556,
              "#d8576b"
             ],
             [
              0.6666666666666666,
              "#ed7953"
             ],
             [
              0.7777777777777778,
              "#fb9f3a"
             ],
             [
              0.8888888888888888,
              "#fdca26"
             ],
             [
              1,
              "#f0f921"
             ]
            ],
            "type": "surface"
           }
          ],
          "table": [
           {
            "cells": {
             "fill": {
              "color": "#EBF0F8"
             },
             "line": {
              "color": "white"
             }
            },
            "header": {
             "fill": {
              "color": "#C8D4E3"
             },
             "line": {
              "color": "white"
             }
            },
            "type": "table"
           }
          ]
         },
         "layout": {
          "annotationdefaults": {
           "arrowcolor": "#2a3f5f",
           "arrowhead": 0,
           "arrowwidth": 1
          },
          "autotypenumbers": "strict",
          "coloraxis": {
           "colorbar": {
            "outlinewidth": 0,
            "ticks": ""
           }
          },
          "colorscale": {
           "diverging": [
            [
             0,
             "#8e0152"
            ],
            [
             0.1,
             "#c51b7d"
            ],
            [
             0.2,
             "#de77ae"
            ],
            [
             0.3,
             "#f1b6da"
            ],
            [
             0.4,
             "#fde0ef"
            ],
            [
             0.5,
             "#f7f7f7"
            ],
            [
             0.6,
             "#e6f5d0"
            ],
            [
             0.7,
             "#b8e186"
            ],
            [
             0.8,
             "#7fbc41"
            ],
            [
             0.9,
             "#4d9221"
            ],
            [
             1,
             "#276419"
            ]
           ],
           "sequential": [
            [
             0,
             "#0d0887"
            ],
            [
             0.1111111111111111,
             "#46039f"
            ],
            [
             0.2222222222222222,
             "#7201a8"
            ],
            [
             0.3333333333333333,
             "#9c179e"
            ],
            [
             0.4444444444444444,
             "#bd3786"
            ],
            [
             0.5555555555555556,
             "#d8576b"
            ],
            [
             0.6666666666666666,
             "#ed7953"
            ],
            [
             0.7777777777777778,
             "#fb9f3a"
            ],
            [
             0.8888888888888888,
             "#fdca26"
            ],
            [
             1,
             "#f0f921"
            ]
           ],
           "sequentialminus": [
            [
             0,
             "#0d0887"
            ],
            [
             0.1111111111111111,
             "#46039f"
            ],
            [
             0.2222222222222222,
             "#7201a8"
            ],
            [
             0.3333333333333333,
             "#9c179e"
            ],
            [
             0.4444444444444444,
             "#bd3786"
            ],
            [
             0.5555555555555556,
             "#d8576b"
            ],
            [
             0.6666666666666666,
             "#ed7953"
            ],
            [
             0.7777777777777778,
             "#fb9f3a"
            ],
            [
             0.8888888888888888,
             "#fdca26"
            ],
            [
             1,
             "#f0f921"
            ]
           ]
          },
          "colorway": [
           "#636efa",
           "#EF553B",
           "#00cc96",
           "#ab63fa",
           "#FFA15A",
           "#19d3f3",
           "#FF6692",
           "#B6E880",
           "#FF97FF",
           "#FECB52"
          ],
          "font": {
           "color": "#2a3f5f"
          },
          "geo": {
           "bgcolor": "white",
           "lakecolor": "white",
           "landcolor": "#E5ECF6",
           "showlakes": true,
           "showland": true,
           "subunitcolor": "white"
          },
          "hoverlabel": {
           "align": "left"
          },
          "hovermode": "closest",
          "mapbox": {
           "style": "light"
          },
          "paper_bgcolor": "white",
          "plot_bgcolor": "#E5ECF6",
          "polar": {
           "angularaxis": {
            "gridcolor": "white",
            "linecolor": "white",
            "ticks": ""
           },
           "bgcolor": "#E5ECF6",
           "radialaxis": {
            "gridcolor": "white",
            "linecolor": "white",
            "ticks": ""
           }
          },
          "scene": {
           "xaxis": {
            "backgroundcolor": "#E5ECF6",
            "gridcolor": "white",
            "gridwidth": 2,
            "linecolor": "white",
            "showbackground": true,
            "ticks": "",
            "zerolinecolor": "white"
           },
           "yaxis": {
            "backgroundcolor": "#E5ECF6",
            "gridcolor": "white",
            "gridwidth": 2,
            "linecolor": "white",
            "showbackground": true,
            "ticks": "",
            "zerolinecolor": "white"
           },
           "zaxis": {
            "backgroundcolor": "#E5ECF6",
            "gridcolor": "white",
            "gridwidth": 2,
            "linecolor": "white",
            "showbackground": true,
            "ticks": "",
            "zerolinecolor": "white"
           }
          },
          "shapedefaults": {
           "line": {
            "color": "#2a3f5f"
           }
          },
          "ternary": {
           "aaxis": {
            "gridcolor": "white",
            "linecolor": "white",
            "ticks": ""
           },
           "baxis": {
            "gridcolor": "white",
            "linecolor": "white",
            "ticks": ""
           },
           "bgcolor": "#E5ECF6",
           "caxis": {
            "gridcolor": "white",
            "linecolor": "white",
            "ticks": ""
           }
          },
          "title": {
           "x": 0.05
          },
          "xaxis": {
           "automargin": true,
           "gridcolor": "white",
           "linecolor": "white",
           "ticks": "",
           "title": {
            "standoff": 15
           },
           "zerolinecolor": "white",
           "zerolinewidth": 2
          },
          "yaxis": {
           "automargin": true,
           "gridcolor": "white",
           "linecolor": "white",
           "ticks": "",
           "title": {
            "standoff": 15
           },
           "zerolinecolor": "white",
           "zerolinewidth": 2
          }
         }
        }
       }
      }
     },
     "metadata": {},
     "output_type": "display_data"
    }
   ],
   "source": [
    "# How to grab the failures by year from above to use as data points for the chart? Rather than mission status I want failures \n",
    "yearly_failures = px.data.tips()\n",
    "fig = px.sunburst(Or_df, path=[\"year\", \"Mission_Status\"])\n",
    "fig.show()"
   ]
  },
  {
   "cell_type": "markdown",
   "metadata": {
    "id": "XNp-NkrJriEF"
   },
   "source": [
    "## Chart the Percentage of Failures over Time\n",
    "\n",
    "Did failures go up or down over time? Did the countries get better at minimising risk and improving their chances of success over time? "
   ]
  },
  {
   "cell_type": "code",
   "execution_count": 46,
   "metadata": {},
   "outputs": [
    {
     "data": {
      "image/png": "[encoded data removed]",
      "text/plain": [
       "<Figure size 1080x1080 with 1 Axes>"
      ]
     },
     "metadata": {},
     "output_type": "display_data"
    }
   ],
   "source": [
    "grouping = Or_df.groupby(\"year\").count().reset_index()\n",
    "sizes = grouping['Mission_Status']\n",
    "labels = grouping['year']\n",
    "\n",
    "plt.pie(sizes, labels = labels)\n",
    "fig = plt.gcf()\n",
    "fig.set_size_inches(15,15)\n",
    "plt.show()"
   ]
  },
  {
   "cell_type": "markdown",
   "metadata": {
    "id": "S5aOC7bGr2OX"
   },
   "source": [
    "# For Every Year Show which Country was in the Lead in terms of Total Number of Launches up to and including including 2020)\n",
    "\n",
    "Do the results change if we only look at the number of successful launches? "
   ]
  },
  {
   "cell_type": "code",
   "execution_count": 47,
   "metadata": {
    "id": "_h0grIXKsOz_"
   },
   "outputs": [
    {
     "data": {
      "text/html": [
       "<div>\n",
       "<style scoped>\n",
       "    .dataframe tbody tr th:only-of-type {\n",
       "        vertical-align: middle;\n",
       "    }\n",
       "\n",
       "    .dataframe tbody tr th {\n",
       "        vertical-align: top;\n",
       "    }\n",
       "\n",
       "    .dataframe thead th {\n",
       "        text-align: right;\n",
       "    }\n",
       "</style>\n",
       "<table border=\"1\" class=\"dataframe\">\n",
       "  <thead>\n",
       "    <tr style=\"text-align: right;\">\n",
       "      <th></th>\n",
       "      <th>year</th>\n",
       "      <th>Country</th>\n",
       "      <th>counts</th>\n",
       "    </tr>\n",
       "  </thead>\n",
       "  <tbody>\n",
       "    <tr>\n",
       "      <th>0</th>\n",
       "      <td>1957</td>\n",
       "      <td>RUS</td>\n",
       "      <td>2</td>\n",
       "    </tr>\n",
       "    <tr>\n",
       "      <th>1</th>\n",
       "      <td>1957</td>\n",
       "      <td>USA</td>\n",
       "      <td>1</td>\n",
       "    </tr>\n",
       "    <tr>\n",
       "      <th>2</th>\n",
       "      <td>1958</td>\n",
       "      <td>USA</td>\n",
       "      <td>23</td>\n",
       "    </tr>\n",
       "    <tr>\n",
       "      <th>3</th>\n",
       "      <td>1958</td>\n",
       "      <td>RUS</td>\n",
       "      <td>5</td>\n",
       "    </tr>\n",
       "    <tr>\n",
       "      <th>4</th>\n",
       "      <td>1959</td>\n",
       "      <td>USA</td>\n",
       "      <td>16</td>\n",
       "    </tr>\n",
       "  </tbody>\n",
       "</table>\n",
       "</div>"
      ],
      "text/plain": [
       "   year Country  counts\n",
       "0  1957     RUS       2\n",
       "1  1957     USA       1\n",
       "2  1958     USA      23\n",
       "3  1958     RUS       5\n",
       "4  1959     USA      16"
      ]
     },
     "execution_count": 47,
     "metadata": {},
     "output_type": "execute_result"
    }
   ],
   "source": [
    "country_launches = df_data.groupby(\"year\")[\"Country\"].value_counts().rename_axis([\"year\", \"Country\"]).reset_index(name='counts')\n",
    "\n",
    "# group by year, then by country, then find max count\n",
    "country_launches.loc[country_launches.groupby(\"year\")[\"counts\"].idxmax()]\n",
    "country_launches.head()"
   ]
  },
  {
   "cell_type": "markdown",
   "metadata": {
    "id": "jQcqBfJ8serG"
   },
   "source": [
    "# Create a Year-on-Year Chart Showing the Organisation Doing the Most Number of Launches\n",
    "\n",
    "Which organisation was dominant in the 1970s and 1980s? Which organisation was dominant in 2018, 2019 and 2020? "
   ]
  },
  {
   "cell_type": "code",
   "execution_count": 48,
   "metadata": {},
   "outputs": [
    {
     "data": {
      "text/html": [
       "<div>\n",
       "<style scoped>\n",
       "    .dataframe tbody tr th:only-of-type {\n",
       "        vertical-align: middle;\n",
       "    }\n",
       "\n",
       "    .dataframe tbody tr th {\n",
       "        vertical-align: top;\n",
       "    }\n",
       "\n",
       "    .dataframe thead th {\n",
       "        text-align: right;\n",
       "    }\n",
       "</style>\n",
       "<table border=\"1\" class=\"dataframe\">\n",
       "  <thead>\n",
       "    <tr style=\"text-align: right;\">\n",
       "      <th></th>\n",
       "      <th>year</th>\n",
       "      <th>Organisation</th>\n",
       "      <th>counts</th>\n",
       "    </tr>\n",
       "  </thead>\n",
       "  <tbody>\n",
       "    <tr>\n",
       "      <th>0</th>\n",
       "      <td>1957</td>\n",
       "      <td>RVSN USSR</td>\n",
       "      <td>2</td>\n",
       "    </tr>\n",
       "    <tr>\n",
       "      <th>1</th>\n",
       "      <td>1957</td>\n",
       "      <td>US Navy</td>\n",
       "      <td>1</td>\n",
       "    </tr>\n",
       "    <tr>\n",
       "      <th>2</th>\n",
       "      <td>1958</td>\n",
       "      <td>US Navy</td>\n",
       "      <td>12</td>\n",
       "    </tr>\n",
       "    <tr>\n",
       "      <th>3</th>\n",
       "      <td>1958</td>\n",
       "      <td>AMBA</td>\n",
       "      <td>7</td>\n",
       "    </tr>\n",
       "    <tr>\n",
       "      <th>4</th>\n",
       "      <td>1958</td>\n",
       "      <td>RVSN USSR</td>\n",
       "      <td>5</td>\n",
       "    </tr>\n",
       "  </tbody>\n",
       "</table>\n",
       "</div>"
      ],
      "text/plain": [
       "   year Organisation  counts\n",
       "0  1957    RVSN USSR       2\n",
       "1  1957      US Navy       1\n",
       "2  1958      US Navy      12\n",
       "3  1958         AMBA       7\n",
       "4  1958    RVSN USSR       5"
      ]
     },
     "execution_count": 48,
     "metadata": {},
     "output_type": "execute_result"
    }
   ],
   "source": [
    "org_launches = df_data.groupby(\"year\")[\"Organisation\"].value_counts().rename_axis([\"year\", \"Organisation\"]).reset_index(name='counts')\n",
    "\n",
    "# group by year, then by country, then find max count\n",
    "org_launches.loc[org_launches.groupby(\"year\")[\"counts\"].idxmax()]\n",
    "org_launches.head()"
   ]
  },
  {
   "cell_type": "code",
   "execution_count": 49,
   "metadata": {
    "id": "r5frxzwlsz5W"
   },
   "outputs": [
    {
     "data": {
      "image/png": "[encoded data removed]",
      "text/plain": [
       "<Figure size 960x800 with 1 Axes>"
      ]
     },
     "metadata": {
      "needs_background": "light"
     },
     "output_type": "display_data"
    }
   ],
   "source": [
    "org_set = set(org_launches['Organisation'])\n",
    "\n",
    "plt.figure(figsize=(12, 10), dpi=80)\n",
    "for org in org_set:\n",
    "     selected_data = org_launches.loc[org_launches['Organisation'] == org]\n",
    "     plt.plot(selected_data['year'], selected_data['counts'], label=org)\n",
    "   \n",
    "plt.legend()\n",
    "plt.show()"
   ]
  }
 ],
 "metadata": {
  "colab": {
   "name": "Space Missions Analysis (start).ipynb",
   "provenance": []
  },
  "interpreter": {
   "hash": "e7370f93d1d0cde622a1f8e1c04877d8463912d04d973331ad4851f04de6915a"
  },
  "kernelspec": {
   "display_name": "Python 3.9.7 64-bit",
   "name": "python3"
  },
  "language_info": {
   "codemirror_mode": {
    "name": "ipython",
    "version": 3
   },
   "file_extension": ".py",
   "mimetype": "text/x-python",
   "name": "python",
   "nbconvert_exporter": "python",
   "pygments_lexer": "ipython3",
   "version": "3.9.7"
  },
  "papermill": {
   "duration": 28.468597,
   "end_time": "2020-10-20T21:34:26.910951",
   "environment_variables": {},
   "exception": null,
   "input_path": "__notebook__.ipynb",
   "output_path": "__notebook__.ipynb",
   "parameters": {},
   "start_time": "2020-10-20T21:33:58.442354",
   "version": "2.1.0"
  }
 },
 "nbformat": 4,
 "nbformat_minor": 1
}
